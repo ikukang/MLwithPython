{
  "nbformat": 4,
  "nbformat_minor": 0,
  "metadata": {
    "colab": {
      "name": "3.4-classifying-movie-reviews.ipynb",
      "provenance": [],
      "collapsed_sections": [],
      "authorship_tag": "ABX9TyM3VxAiqZrV98Kl7hNzIJJc",
      "include_colab_link": true
    },
    "kernelspec": {
      "name": "python3",
      "display_name": "Python 3"
    },
    "accelerator": "GPU"
  },
  "cells": [
    {
      "cell_type": "markdown",
      "metadata": {
        "id": "view-in-github",
        "colab_type": "text"
      },
      "source": [
        "<a href=\"https://colab.research.google.com/github/ikukang/MLwithPython/blob/master/3_4_classifying_movie_reviews.ipynb\" target=\"_parent\"><img src=\"https://colab.research.google.com/assets/colab-badge.svg\" alt=\"Open In Colab\"/></a>"
      ]
    },
    {
      "cell_type": "code",
      "metadata": {
        "id": "RUuZa2FZIfYd",
        "colab_type": "code",
        "colab": {}
      },
      "source": [
        "# 사용 상의 편의를 위한 Initial Setting \n",
        "\n",
        "# 실행결과를 한 창에 표시\n",
        "from IPython.core.interactiveshell import InteractiveShell\n",
        "InteractiveShell.ast_node_interactivity = \"all\"\n",
        "\n",
        "# numpy 소숫점 setting\n",
        "import numpy as np\n",
        "np.set_printoptions(precision=7)\n",
        "\n",
        "# pandas이용하여 grid display\n",
        "import numpy as np\n",
        "import pandas as pd\n",
        "pd.set_option('display.max_rows', None)          # 최대 표시 줄 수 제한 해제\n",
        "pd.set_option('display.max_columns', None)       # 최대 표시 컬럼 수 제한 해제\n",
        "pd.set_option('display.max_colwidth', -1)        # 컬럼내 데이터 표시 제한 해제\n",
        "\n",
        "# Warning Message hide\n",
        "import warnings\n",
        "warnings.filterwarnings('ignore')"
      ],
      "execution_count": 0,
      "outputs": []
    },
    {
      "cell_type": "code",
      "metadata": {
        "id": "wHCZb27iEx0F",
        "colab_type": "code",
        "outputId": "eed8681b-1fa3-4139-dadb-12191e3e25fb",
        "colab": {
          "base_uri": "https://localhost:8080/",
          "height": 100
        }
      },
      "source": [
        "import keras\n",
        "keras.__version__"
      ],
      "execution_count": 2,
      "outputs": [
        {
          "output_type": "stream",
          "text": [
            "Using TensorFlow backend.\n"
          ],
          "name": "stderr"
        },
        {
          "output_type": "display_data",
          "data": {
            "text/html": [
              "<p style=\"color: red;\">\n",
              "The default version of TensorFlow in Colab will soon switch to TensorFlow 2.x.<br>\n",
              "We recommend you <a href=\"https://www.tensorflow.org/guide/migrate\" target=\"_blank\">upgrade</a> now \n",
              "or ensure your notebook will continue to use TensorFlow 1.x via the <code>%tensorflow_version 1.x</code> magic:\n",
              "<a href=\"https://colab.research.google.com/notebooks/tensorflow_version.ipynb\" target=\"_blank\">more info</a>.</p>\n"
            ],
            "text/plain": [
              "<IPython.core.display.HTML object>"
            ]
          },
          "metadata": {
            "tags": []
          }
        },
        {
          "output_type": "execute_result",
          "data": {
            "text/plain": [
              "'2.2.5'"
            ]
          },
          "metadata": {
            "tags": []
          },
          "execution_count": 2
        }
      ]
    },
    {
      "cell_type": "code",
      "metadata": {
        "id": "mqc-axTSIyBy",
        "colab_type": "code",
        "colab": {
          "base_uri": "https://localhost:8080/",
          "height": 53
        },
        "outputId": "e6593491-6e77-4cef-b891-b9e5ff8ecb7b"
      },
      "source": [
        "from keras.datasets import imdb\n",
        "\n",
        "(train_data, train_label), (test_data, test_label) = imdb.load_data(num_words=10000)"
      ],
      "execution_count": 3,
      "outputs": [
        {
          "output_type": "stream",
          "text": [
            "Downloading data from https://s3.amazonaws.com/text-datasets/imdb.npz\n",
            "17465344/17464789 [==============================] - 1s 0us/step\n"
          ],
          "name": "stdout"
        }
      ]
    },
    {
      "cell_type": "code",
      "metadata": {
        "id": "FdmcYtbKI6Yk",
        "colab_type": "code",
        "outputId": "f2beb9ef-d464-4d4c-dc31-c584c06ec5ae",
        "colab": {
          "base_uri": "https://localhost:8080/",
          "height": 143
        }
      },
      "source": [
        "train_data.shape\n",
        "print('\\n')\n",
        "train_label.shape\n",
        "print('\\n')\n",
        "test_data.shape\n",
        "print('\\n')\n",
        "test_label.shape"
      ],
      "execution_count": 4,
      "outputs": [
        {
          "output_type": "execute_result",
          "data": {
            "text/plain": [
              "(25000,)"
            ]
          },
          "metadata": {
            "tags": []
          },
          "execution_count": 4
        },
        {
          "output_type": "stream",
          "text": [
            "\n",
            "\n"
          ],
          "name": "stdout"
        },
        {
          "output_type": "execute_result",
          "data": {
            "text/plain": [
              "(25000,)"
            ]
          },
          "metadata": {
            "tags": []
          },
          "execution_count": 4
        },
        {
          "output_type": "stream",
          "text": [
            "\n",
            "\n"
          ],
          "name": "stdout"
        },
        {
          "output_type": "execute_result",
          "data": {
            "text/plain": [
              "(25000,)"
            ]
          },
          "metadata": {
            "tags": []
          },
          "execution_count": 4
        },
        {
          "output_type": "stream",
          "text": [
            "\n",
            "\n"
          ],
          "name": "stdout"
        },
        {
          "output_type": "execute_result",
          "data": {
            "text/plain": [
              "(25000,)"
            ]
          },
          "metadata": {
            "tags": []
          },
          "execution_count": 4
        }
      ]
    },
    {
      "cell_type": "code",
      "metadata": {
        "id": "AxGFoz7pJVw9",
        "colab_type": "code",
        "outputId": "a7d8d76d-5547-465f-f1a8-7330dcc628c8",
        "colab": {
          "base_uri": "https://localhost:8080/",
          "height": 253
        }
      },
      "source": [
        "print(train_data[0])\n",
        "print(train_label[0])\n",
        "print(train_data)\n",
        "print(train_label)\n",
        "print(len(train_data))\n",
        "print(len(train_label))"
      ],
      "execution_count": 5,
      "outputs": [
        {
          "output_type": "stream",
          "text": [
            "[1, 14, 22, 16, 43, 530, 973, 1622, 1385, 65, 458, 4468, 66, 3941, 4, 173, 36, 256, 5, 25, 100, 43, 838, 112, 50, 670, 2, 9, 35, 480, 284, 5, 150, 4, 172, 112, 167, 2, 336, 385, 39, 4, 172, 4536, 1111, 17, 546, 38, 13, 447, 4, 192, 50, 16, 6, 147, 2025, 19, 14, 22, 4, 1920, 4613, 469, 4, 22, 71, 87, 12, 16, 43, 530, 38, 76, 15, 13, 1247, 4, 22, 17, 515, 17, 12, 16, 626, 18, 2, 5, 62, 386, 12, 8, 316, 8, 106, 5, 4, 2223, 5244, 16, 480, 66, 3785, 33, 4, 130, 12, 16, 38, 619, 5, 25, 124, 51, 36, 135, 48, 25, 1415, 33, 6, 22, 12, 215, 28, 77, 52, 5, 14, 407, 16, 82, 2, 8, 4, 107, 117, 5952, 15, 256, 4, 2, 7, 3766, 5, 723, 36, 71, 43, 530, 476, 26, 400, 317, 46, 7, 4, 2, 1029, 13, 104, 88, 4, 381, 15, 297, 98, 32, 2071, 56, 26, 141, 6, 194, 7486, 18, 4, 226, 22, 21, 134, 476, 26, 480, 5, 144, 30, 5535, 18, 51, 36, 28, 224, 92, 25, 104, 4, 226, 65, 16, 38, 1334, 88, 12, 16, 283, 5, 16, 4472, 113, 103, 32, 15, 16, 5345, 19, 178, 32]\n",
            "1\n",
            "[list([1, 14, 22, 16, 43, 530, 973, 1622, 1385, 65, 458, 4468, 66, 3941, 4, 173, 36, 256, 5, 25, 100, 43, 838, 112, 50, 670, 2, 9, 35, 480, 284, 5, 150, 4, 172, 112, 167, 2, 336, 385, 39, 4, 172, 4536, 1111, 17, 546, 38, 13, 447, 4, 192, 50, 16, 6, 147, 2025, 19, 14, 22, 4, 1920, 4613, 469, 4, 22, 71, 87, 12, 16, 43, 530, 38, 76, 15, 13, 1247, 4, 22, 17, 515, 17, 12, 16, 626, 18, 2, 5, 62, 386, 12, 8, 316, 8, 106, 5, 4, 2223, 5244, 16, 480, 66, 3785, 33, 4, 130, 12, 16, 38, 619, 5, 25, 124, 51, 36, 135, 48, 25, 1415, 33, 6, 22, 12, 215, 28, 77, 52, 5, 14, 407, 16, 82, 2, 8, 4, 107, 117, 5952, 15, 256, 4, 2, 7, 3766, 5, 723, 36, 71, 43, 530, 476, 26, 400, 317, 46, 7, 4, 2, 1029, 13, 104, 88, 4, 381, 15, 297, 98, 32, 2071, 56, 26, 141, 6, 194, 7486, 18, 4, 226, 22, 21, 134, 476, 26, 480, 5, 144, 30, 5535, 18, 51, 36, 28, 224, 92, 25, 104, 4, 226, 65, 16, 38, 1334, 88, 12, 16, 283, 5, 16, 4472, 113, 103, 32, 15, 16, 5345, 19, 178, 32])\n",
            " list([1, 194, 1153, 194, 8255, 78, 228, 5, 6, 1463, 4369, 5012, 134, 26, 4, 715, 8, 118, 1634, 14, 394, 20, 13, 119, 954, 189, 102, 5, 207, 110, 3103, 21, 14, 69, 188, 8, 30, 23, 7, 4, 249, 126, 93, 4, 114, 9, 2300, 1523, 5, 647, 4, 116, 9, 35, 8163, 4, 229, 9, 340, 1322, 4, 118, 9, 4, 130, 4901, 19, 4, 1002, 5, 89, 29, 952, 46, 37, 4, 455, 9, 45, 43, 38, 1543, 1905, 398, 4, 1649, 26, 6853, 5, 163, 11, 3215, 2, 4, 1153, 9, 194, 775, 7, 8255, 2, 349, 2637, 148, 605, 2, 8003, 15, 123, 125, 68, 2, 6853, 15, 349, 165, 4362, 98, 5, 4, 228, 9, 43, 2, 1157, 15, 299, 120, 5, 120, 174, 11, 220, 175, 136, 50, 9, 4373, 228, 8255, 5, 2, 656, 245, 2350, 5, 4, 9837, 131, 152, 491, 18, 2, 32, 7464, 1212, 14, 9, 6, 371, 78, 22, 625, 64, 1382, 9, 8, 168, 145, 23, 4, 1690, 15, 16, 4, 1355, 5, 28, 6, 52, 154, 462, 33, 89, 78, 285, 16, 145, 95])\n",
            " list([1, 14, 47, 8, 30, 31, 7, 4, 249, 108, 7, 4, 5974, 54, 61, 369, 13, 71, 149, 14, 22, 112, 4, 2401, 311, 12, 16, 3711, 33, 75, 43, 1829, 296, 4, 86, 320, 35, 534, 19, 263, 4821, 1301, 4, 1873, 33, 89, 78, 12, 66, 16, 4, 360, 7, 4, 58, 316, 334, 11, 4, 1716, 43, 645, 662, 8, 257, 85, 1200, 42, 1228, 2578, 83, 68, 3912, 15, 36, 165, 1539, 278, 36, 69, 2, 780, 8, 106, 14, 6905, 1338, 18, 6, 22, 12, 215, 28, 610, 40, 6, 87, 326, 23, 2300, 21, 23, 22, 12, 272, 40, 57, 31, 11, 4, 22, 47, 6, 2307, 51, 9, 170, 23, 595, 116, 595, 1352, 13, 191, 79, 638, 89, 2, 14, 9, 8, 106, 607, 624, 35, 534, 6, 227, 7, 129, 113])\n",
            " ...\n",
            " list([1, 11, 6, 230, 245, 6401, 9, 6, 1225, 446, 2, 45, 2174, 84, 8322, 4007, 21, 4, 912, 84, 2, 325, 725, 134, 2, 1715, 84, 5, 36, 28, 57, 1099, 21, 8, 140, 8, 703, 5, 2, 84, 56, 18, 1644, 14, 9, 31, 7, 4, 9406, 1209, 2295, 2, 1008, 18, 6, 20, 207, 110, 563, 12, 8, 2901, 2, 8, 97, 6, 20, 53, 4767, 74, 4, 460, 364, 1273, 29, 270, 11, 960, 108, 45, 40, 29, 2961, 395, 11, 6, 4065, 500, 7, 2, 89, 364, 70, 29, 140, 4, 64, 4780, 11, 4, 2678, 26, 178, 4, 529, 443, 2, 5, 27, 710, 117, 2, 8123, 165, 47, 84, 37, 131, 818, 14, 595, 10, 10, 61, 1242, 1209, 10, 10, 288, 2260, 1702, 34, 2901, 2, 4, 65, 496, 4, 231, 7, 790, 5, 6, 320, 234, 2766, 234, 1119, 1574, 7, 496, 4, 139, 929, 2901, 2, 7750, 5, 4241, 18, 4, 8497, 2, 250, 11, 1818, 7561, 4, 4217, 5408, 747, 1115, 372, 1890, 1006, 541, 9303, 7, 4, 59, 2, 4, 3586, 2])\n",
            " list([1, 1446, 7079, 69, 72, 3305, 13, 610, 930, 8, 12, 582, 23, 5, 16, 484, 685, 54, 349, 11, 4120, 2959, 45, 58, 1466, 13, 197, 12, 16, 43, 23, 2, 5, 62, 30, 145, 402, 11, 4131, 51, 575, 32, 61, 369, 71, 66, 770, 12, 1054, 75, 100, 2198, 8, 4, 105, 37, 69, 147, 712, 75, 3543, 44, 257, 390, 5, 69, 263, 514, 105, 50, 286, 1814, 23, 4, 123, 13, 161, 40, 5, 421, 4, 116, 16, 897, 13, 2, 40, 319, 5872, 112, 6700, 11, 4803, 121, 25, 70, 3468, 4, 719, 3798, 13, 18, 31, 62, 40, 8, 7200, 4, 2, 7, 14, 123, 5, 942, 25, 8, 721, 12, 145, 5, 202, 12, 160, 580, 202, 12, 6, 52, 58, 2, 92, 401, 728, 12, 39, 14, 251, 8, 15, 251, 5, 2, 12, 38, 84, 80, 124, 12, 9, 23])\n",
            " list([1, 17, 6, 194, 337, 7, 4, 204, 22, 45, 254, 8, 106, 14, 123, 4, 2, 270, 2, 5, 2, 2, 732, 2098, 101, 405, 39, 14, 1034, 4, 1310, 9, 115, 50, 305, 12, 47, 4, 168, 5, 235, 7, 38, 111, 699, 102, 7, 4, 4039, 9245, 9, 24, 6, 78, 1099, 17, 2345, 2, 21, 27, 9685, 6139, 5, 2, 1603, 92, 1183, 4, 1310, 7, 4, 204, 42, 97, 90, 35, 221, 109, 29, 127, 27, 118, 8, 97, 12, 157, 21, 6789, 2, 9, 6, 66, 78, 1099, 4, 631, 1191, 5, 2642, 272, 191, 1070, 6, 7585, 8, 2197, 2, 2, 544, 5, 383, 1271, 848, 1468, 2, 497, 2, 8, 1597, 8778, 2, 21, 60, 27, 239, 9, 43, 8368, 209, 405, 10, 10, 12, 764, 40, 4, 248, 20, 12, 16, 5, 174, 1791, 72, 7, 51, 6, 1739, 22, 4, 204, 131, 9])]\n",
            "[1 0 0 ... 0 1 0]\n",
            "25000\n",
            "25000\n"
          ],
          "name": "stdout"
        }
      ]
    },
    {
      "cell_type": "markdown",
      "metadata": {
        "id": "Je3a5plCC5ws",
        "colab_type": "text"
      },
      "source": [
        "## Binary Classification\n",
        "IMDB는 인터넷 영화 Database 로 부터 가져온 양 극단의 리뷰 50000개로 이루어진 Database 입니다\n",
        "\n",
        "Train Data : 25,000개, Test Data : 25,000개\n",
        "\n",
        "각각 50%는 긍정, 50%는 부정 리뷰 임\n",
        "\n",
        "데이터는 다음과 같이 전 처리 되어 있음\n",
        "\n",
        "(1) 각 리뷰의 단어가 이에 대응하는 숫자로 변환되어 있음\n",
        "\n",
        "(2) Train/Test Label은 긍정(1) 과 부정(0) 으로 구분되어 있음"
      ]
    },
    {
      "cell_type": "code",
      "metadata": {
        "id": "9WypzOaJDKbs",
        "colab_type": "code",
        "outputId": "6d1f4ebc-700b-40e9-a3ee-0ca0ed19653c",
        "colab": {
          "base_uri": "https://localhost:8080/",
          "height": 53
        }
      },
      "source": [
        "print(max([max(sequence) for sequence in train_data]))\n",
        "print(max([max(sequence) for sequence in test_data]))"
      ],
      "execution_count": 6,
      "outputs": [
        {
          "output_type": "stream",
          "text": [
            "9999\n",
            "9999\n"
          ],
          "name": "stdout"
        }
      ]
    },
    {
      "cell_type": "code",
      "metadata": {
        "id": "i0_hfol-u38p",
        "colab_type": "code",
        "colab": {
          "base_uri": "https://localhost:8080/",
          "height": 53
        },
        "outputId": "212e7f4d-b8d2-4b54-d2fa-328ab35d1775"
      },
      "source": [
        "word_index = imdb.get_word_index()\n",
        "# word_index는 개별 단어와 이 단어에 해당하는 숫자를 맵핑해 놓은 Dictionary 임\n",
        "\n",
        "reverse_word_index = dict([(value, key) for (key, value) in word_index.items()])\n",
        "# word_index는 ''단어:숫자\" 의 Dictionary 이나, 이를 \"숫자:단어\" 순으로 순서를 뒤집음\n",
        "\n",
        "decoded_review = ' '.join([reverse_word_index.get(i - 3, '?') for i in train_data[1]])\n",
        "# for 문을 돌면서 train_data[0]를 구성하는 각 숫자를 이에 맵핑하는 단어로 치환하여 문자열을 구성 함\n",
        "# 이때 0, 1, 2는 사전 정의된 값(index) 이므로, 해당 갯수(3) 만큼 빼고 치환을 진행\n",
        "# 가장 자주 등장하는 단어 10,000개 로 제한하였으므로, 이에 해당되지 않는 key(숫자)는 '?' 로 display 됨"
      ],
      "execution_count": 7,
      "outputs": [
        {
          "output_type": "stream",
          "text": [
            "Downloading data from https://s3.amazonaws.com/text-datasets/imdb_word_index.json\n",
            "1646592/1641221 [==============================] - 1s 0us/step\n"
          ],
          "name": "stdout"
        }
      ]
    },
    {
      "cell_type": "code",
      "metadata": {
        "id": "ujuJA5o-vQyB",
        "colab_type": "code",
        "outputId": "66671199-689c-460c-8913-69dab167e54b",
        "colab": {
          "base_uri": "https://localhost:8080/",
          "height": 53
        }
      },
      "source": [
        "print(len(word_index))\n",
        "print(len(reverse_word_index))"
      ],
      "execution_count": 8,
      "outputs": [
        {
          "output_type": "stream",
          "text": [
            "88584\n",
            "88584\n"
          ],
          "name": "stdout"
        }
      ]
    },
    {
      "cell_type": "code",
      "metadata": {
        "id": "xE0c3HHXvVHl",
        "colab_type": "code",
        "outputId": "d2d75f2e-ca3f-4a14-aead-17a8a70e64dc",
        "colab": {
          "base_uri": "https://localhost:8080/",
          "height": 73
        }
      },
      "source": [
        "print(decoded_review)\n",
        "print(train_label[1])"
      ],
      "execution_count": 9,
      "outputs": [
        {
          "output_type": "stream",
          "text": [
            "? big hair big boobs bad music and a giant safety pin these are the words to best describe this terrible movie i love cheesy horror movies and i've seen hundreds but this had got to be on of the worst ever made the plot is paper thin and ridiculous the acting is an abomination the script is completely laughable the best is the end showdown with the cop and how he worked out who the killer is it's just so damn terribly written the clothes are sickening and funny in equal ? the hair is big lots of boobs ? men wear those cut ? shirts that show off their ? sickening that men actually wore them and the music is just ? trash that plays over and over again in almost every scene there is trashy music boobs and ? taking away bodies and the gym still doesn't close for ? all joking aside this is a truly bad film whose only charm is to look back on the disaster that was the 80's and have a good old laugh at how bad everything was back then\n",
            "0\n"
          ],
          "name": "stdout"
        }
      ]
    },
    {
      "cell_type": "code",
      "metadata": {
        "id": "4_5kspOGv8j7",
        "colab_type": "code",
        "colab": {}
      },
      "source": [
        "import numpy as np\n",
        "\n",
        "# 전처리 하여 숫자만으로 구성된 리스트를 신경망에 바로 주입 할 수 없으므로, \n",
        "# (1) 이를 Matrix(2차원 텐서)로 변환\n",
        "# (2) 각 row(숫자로 구성되어 있는 전처리된 리뷰)의 개별 숫자값을 column 값으로 하여, 해당 (row, column)의 0 값 -> 1 로 변경\n",
        "def zero_matrix(rows, dimension=10000):\n",
        "    results = np.zeros((len(rows), dimension))    # Matrix(2차원 텐서)로 변환\n",
        "    \n",
        "    for i, col in enumerate(rows):\n",
        "            results[i, col] = 1.                                       \n",
        "            #각  row(숫자로 구성되어 있는 전처리된 리뷰)의 개별 숫자값을 column 값으로 하여, 해당  (row, column)의 0 값 -> 1 로 변경    \n",
        "\n",
        "    return results\n",
        "\n",
        "# train_data를 matrix로 변환\n",
        "x_train = zero_matrix(train_data)\n",
        "\n",
        "#  test_data를 matrix로 변환\n",
        "x_test = zero_matrix(test_data)"
      ],
      "execution_count": 0,
      "outputs": []
    },
    {
      "cell_type": "code",
      "metadata": {
        "id": "4GY-i3V4yY3A",
        "colab_type": "code",
        "outputId": "fb83651f-00ee-4e98-ed39-8e7f22677e82",
        "colab": {
          "base_uri": "https://localhost:8080/",
          "height": 305
        }
      },
      "source": [
        "print(x_train)\n",
        "print(x_train.shape)\n",
        "\n",
        "print(x_test)\n",
        "print(x_test.shape)\n"
      ],
      "execution_count": 11,
      "outputs": [
        {
          "output_type": "stream",
          "text": [
            "[[0. 1. 1. ... 0. 0. 0.]\n",
            " [0. 1. 1. ... 0. 0. 0.]\n",
            " [0. 1. 1. ... 0. 0. 0.]\n",
            " ...\n",
            " [0. 1. 1. ... 0. 0. 0.]\n",
            " [0. 1. 1. ... 0. 0. 0.]\n",
            " [0. 1. 1. ... 0. 0. 0.]]\n",
            "(25000, 10000)\n",
            "[[0. 1. 1. ... 0. 0. 0.]\n",
            " [0. 1. 1. ... 0. 0. 0.]\n",
            " [0. 1. 1. ... 0. 0. 0.]\n",
            " ...\n",
            " [0. 1. 1. ... 0. 0. 0.]\n",
            " [0. 1. 1. ... 0. 0. 0.]\n",
            " [0. 1. 1. ... 0. 0. 0.]]\n",
            "(25000, 10000)\n"
          ],
          "name": "stdout"
        }
      ]
    },
    {
      "cell_type": "code",
      "metadata": {
        "id": "V97CkitBy4Fi",
        "colab_type": "code",
        "outputId": "0689358c-e251-44f2-b906-9434896e55b0",
        "colab": {
          "base_uri": "https://localhost:8080/",
          "height": 89
        }
      },
      "source": [
        "# train, test data 확인 \n",
        "# 각 row 별로 column의 길이가 달랐으나, 각 row 마다 10,000개 컬럼으로 일치화\n",
        "# 해당  column값에 해당하는 column의 0값 -> 1로 변경 (즉, [2, 34, ....10] -> 2번째 컬럼 1, 34번째 컬럼 1 등으로 변경 함)\n",
        "\n",
        "#  결과적으로 10000개 단어로 한정하였으므로, column 값은 0 ~9999 이고, 각 row 별 10,000개 column으로 정규화 한 후\n",
        "# column 값에 해당하는 해당 번째 column을 1로 Set\n",
        "\n",
        "print(x_train[0])\n",
        "print(x_train[0].shape)\n",
        "print(x_test[0])\n",
        "print(x_test[1].shape)"
      ],
      "execution_count": 12,
      "outputs": [
        {
          "output_type": "stream",
          "text": [
            "[0. 1. 1. ... 0. 0. 0.]\n",
            "(10000,)\n",
            "[0. 1. 1. ... 0. 0. 0.]\n",
            "(10000,)\n"
          ],
          "name": "stdout"
        }
      ]
    },
    {
      "cell_type": "code",
      "metadata": {
        "id": "ztjp5Omw0AdS",
        "colab_type": "code",
        "outputId": "2ab6b9f0-55c2-40b4-edd4-59022579d76d",
        "colab": {
          "base_uri": "https://localhost:8080/",
          "height": 35
        }
      },
      "source": [
        "# train_label, test_label 을 data type이 float(부동소수점 수)인 1차원 행렬(vector)로 변환\n",
        "# 각각 25000개의 영화리뷰 결과 (부정 : 0,  긍정 : 1)\n",
        "\n",
        "y_train = np.asarray(train_label).astype('float32')\n",
        "y_test = np.asarray(test_label).astype('float32')\n",
        "\n",
        "y_train\n",
        "y_test"
      ],
      "execution_count": 13,
      "outputs": [
        {
          "output_type": "execute_result",
          "data": {
            "text/plain": [
              "array([1., 0., 0., ..., 0., 1., 0.], dtype=float32)"
            ]
          },
          "metadata": {
            "tags": []
          },
          "execution_count": 13
        },
        {
          "output_type": "execute_result",
          "data": {
            "text/plain": [
              "array([0., 1., 1., ..., 0., 0., 0.], dtype=float32)"
            ]
          },
          "metadata": {
            "tags": []
          },
          "execution_count": 13
        }
      ]
    },
    {
      "cell_type": "code",
      "metadata": {
        "id": "nKKHRTj_0Jyv",
        "colab_type": "code",
        "outputId": "2603f73e-39d3-443f-dc37-92ca8b1ac679",
        "colab": {
          "base_uri": "https://localhost:8080/",
          "height": 89
        }
      },
      "source": [
        "# 결과적으로,\n",
        "\n",
        "# x_train data와 x_test data는 각각 25000개의 row로 이루어진 data이고\n",
        "# 각 row는 '0'과 '1' 로 이루어진 10000개의 column으로 이루어진 data 임\n",
        "print(x_train.shape)\n",
        "print(x_test.shape)\n",
        "\n",
        "# x_train label과 x_test label은 각각 25000개의 영화리뷰 결과 (부정 : 0,  긍정 : 1) 로 이루어진 Data 임\n",
        "print(y_train.shape)\n",
        "print(y_test.shape)"
      ],
      "execution_count": 14,
      "outputs": [
        {
          "output_type": "stream",
          "text": [
            "(25000, 10000)\n",
            "(25000, 10000)\n",
            "(25000,)\n",
            "(25000,)\n"
          ],
          "name": "stdout"
        }
      ]
    },
    {
      "cell_type": "code",
      "metadata": {
        "id": "WH64Pht90cgQ",
        "colab_type": "code",
        "colab": {
          "base_uri": "https://localhost:8080/",
          "height": 125
        },
        "outputId": "539ee8f9-be86-49c5-9065-e6db76856a96"
      },
      "source": [
        "from keras import models\n",
        "from keras import layers\n",
        "\n",
        "# 앞서와 마찬가지로 선형적으로 쌓는 Sequential 모델을 이용\n",
        "model = models.Sequential()\n",
        "\n",
        "# 입력층 : 입력 parameter는 10000이고, 출력 parameter는 16 임, 활성화 함수는 relu\n",
        "model.add(layers.Dense(16, activation='relu', input_shape=(10000,)))\n",
        "\n",
        "# 은닉층 : 입력 parameter는 16이고, 출력 parameter는 16 임, 활성화 함수는 relu\n",
        "model.add(layers.Dense(16, activation='relu'))\n",
        "\n",
        "# 출력층 : 입력 parameter는 16이고, 출력 parameter는 1 임, 활성화 함수는 sigmoid\n",
        "# 주로 Binary Classification의 경우는 'Sigmoid', Multi-Classification의 경우는 'Softmax' 활성화 함수 이용\n",
        "model.add(layers.Dense(1, activation='sigmoid'))"
      ],
      "execution_count": 15,
      "outputs": [
        {
          "output_type": "stream",
          "text": [
            "WARNING:tensorflow:From /usr/local/lib/python3.6/dist-packages/keras/backend/tensorflow_backend.py:66: The name tf.get_default_graph is deprecated. Please use tf.compat.v1.get_default_graph instead.\n",
            "\n",
            "WARNING:tensorflow:From /usr/local/lib/python3.6/dist-packages/keras/backend/tensorflow_backend.py:541: The name tf.placeholder is deprecated. Please use tf.compat.v1.placeholder instead.\n",
            "\n",
            "WARNING:tensorflow:From /usr/local/lib/python3.6/dist-packages/keras/backend/tensorflow_backend.py:4432: The name tf.random_uniform is deprecated. Please use tf.random.uniform instead.\n",
            "\n"
          ],
          "name": "stdout"
        }
      ]
    },
    {
      "cell_type": "code",
      "metadata": {
        "id": "fVv1aDPw0mrz",
        "colab_type": "code",
        "colab": {
          "base_uri": "https://localhost:8080/",
          "height": 143
        },
        "outputId": "0199f1a1-299f-455f-e28c-4e41bc3e8805"
      },
      "source": [
        "# compile method를 이용하여 학습 과정을 구성\n",
        "# 옵티마이저는 Adam을 사용하고, Binary Classification 이므로 손실함수는 'binary_crossentropy'를 사용\n",
        "\n",
        "model.compile(optimizer='Adam', loss='binary_crossentropy', metrics=['accuracy'])"
      ],
      "execution_count": 16,
      "outputs": [
        {
          "output_type": "stream",
          "text": [
            "WARNING:tensorflow:From /usr/local/lib/python3.6/dist-packages/keras/optimizers.py:793: The name tf.train.Optimizer is deprecated. Please use tf.compat.v1.train.Optimizer instead.\n",
            "\n",
            "WARNING:tensorflow:From /usr/local/lib/python3.6/dist-packages/keras/backend/tensorflow_backend.py:3657: The name tf.log is deprecated. Please use tf.math.log instead.\n",
            "\n",
            "WARNING:tensorflow:From /usr/local/lib/python3.6/dist-packages/tensorflow_core/python/ops/nn_impl.py:183: where (from tensorflow.python.ops.array_ops) is deprecated and will be removed in a future version.\n",
            "Instructions for updating:\n",
            "Use tf.where in 2.0, which has the same broadcast rule as np.where\n"
          ],
          "name": "stdout"
        }
      ]
    },
    {
      "cell_type": "code",
      "metadata": {
        "id": "YidJZ-AJ0pCl",
        "colab_type": "code",
        "colab": {}
      },
      "source": [
        "# 전체 25000 set의 Data에서 검증 Data로 10000 set 을 추출\n",
        "#  즉 x_train               : 5000 set\n",
        "#       partial_x_train : 15000 set\n",
        "\n",
        "x_val = x_train[:10000]\n",
        "partial_x_train = x_train[10000:]\n",
        "\n",
        "y_val = y_train[:10000]\n",
        "partial_y_train = y_train[10000:]"
      ],
      "execution_count": 0,
      "outputs": []
    },
    {
      "cell_type": "code",
      "metadata": {
        "id": "NGtGU9jE0rtx",
        "colab_type": "code",
        "outputId": "f076824f-ca0c-4f30-8cfb-cb02b1c22342",
        "colab": {
          "base_uri": "https://localhost:8080/",
          "height": 1000
        }
      },
      "source": [
        "# fit method를 이용해서 정해진 epoch 만큼  Training을 수행\n",
        "# 이때 Training Data(partial_x_train)과 Validation Data(x_val)을 주입하고, epoch, batch size 지정\n",
        "\n",
        "history = model.fit(partial_x_train, partial_y_train, epochs=20, batch_size=512, validation_data=(x_val, y_val))"
      ],
      "execution_count": 18,
      "outputs": [
        {
          "output_type": "stream",
          "text": [
            "WARNING:tensorflow:From /usr/local/lib/python3.6/dist-packages/keras/backend/tensorflow_backend.py:1033: The name tf.assign_add is deprecated. Please use tf.compat.v1.assign_add instead.\n",
            "\n",
            "WARNING:tensorflow:From /usr/local/lib/python3.6/dist-packages/keras/backend/tensorflow_backend.py:1020: The name tf.assign is deprecated. Please use tf.compat.v1.assign instead.\n",
            "\n",
            "WARNING:tensorflow:From /usr/local/lib/python3.6/dist-packages/keras/backend/tensorflow_backend.py:3005: The name tf.Session is deprecated. Please use tf.compat.v1.Session instead.\n",
            "\n",
            "Train on 15000 samples, validate on 10000 samples\n",
            "Epoch 1/20\n",
            "WARNING:tensorflow:From /usr/local/lib/python3.6/dist-packages/keras/backend/tensorflow_backend.py:190: The name tf.get_default_session is deprecated. Please use tf.compat.v1.get_default_session instead.\n",
            "\n",
            "WARNING:tensorflow:From /usr/local/lib/python3.6/dist-packages/keras/backend/tensorflow_backend.py:197: The name tf.ConfigProto is deprecated. Please use tf.compat.v1.ConfigProto instead.\n",
            "\n",
            "WARNING:tensorflow:From /usr/local/lib/python3.6/dist-packages/keras/backend/tensorflow_backend.py:207: The name tf.global_variables is deprecated. Please use tf.compat.v1.global_variables instead.\n",
            "\n",
            "WARNING:tensorflow:From /usr/local/lib/python3.6/dist-packages/keras/backend/tensorflow_backend.py:216: The name tf.is_variable_initialized is deprecated. Please use tf.compat.v1.is_variable_initialized instead.\n",
            "\n",
            "WARNING:tensorflow:From /usr/local/lib/python3.6/dist-packages/keras/backend/tensorflow_backend.py:223: The name tf.variables_initializer is deprecated. Please use tf.compat.v1.variables_initializer instead.\n",
            "\n",
            "15000/15000 [==============================] - 10s 694us/step - loss: 0.5437 - acc: 0.7707 - val_loss: 0.3854 - val_acc: 0.8620\n",
            "Epoch 2/20\n",
            "15000/15000 [==============================] - 1s 72us/step - loss: 0.2823 - acc: 0.9083 - val_loss: 0.2894 - val_acc: 0.8875\n",
            "Epoch 3/20\n",
            "15000/15000 [==============================] - 1s 70us/step - loss: 0.1913 - acc: 0.9383 - val_loss: 0.2809 - val_acc: 0.8882\n",
            "Epoch 4/20\n",
            "15000/15000 [==============================] - 1s 71us/step - loss: 0.1418 - acc: 0.9559 - val_loss: 0.2843 - val_acc: 0.8862\n",
            "Epoch 5/20\n",
            "15000/15000 [==============================] - 1s 72us/step - loss: 0.1074 - acc: 0.9711 - val_loss: 0.3000 - val_acc: 0.8825\n",
            "Epoch 6/20\n",
            "15000/15000 [==============================] - 1s 71us/step - loss: 0.0818 - acc: 0.9812 - val_loss: 0.3215 - val_acc: 0.8802\n",
            "Epoch 7/20\n",
            "15000/15000 [==============================] - 1s 72us/step - loss: 0.0616 - acc: 0.9877 - val_loss: 0.3482 - val_acc: 0.8801\n",
            "Epoch 8/20\n",
            "15000/15000 [==============================] - 1s 70us/step - loss: 0.0460 - acc: 0.9929 - val_loss: 0.3777 - val_acc: 0.8774\n",
            "Epoch 9/20\n",
            "15000/15000 [==============================] - 1s 72us/step - loss: 0.0345 - acc: 0.9960 - val_loss: 0.4039 - val_acc: 0.8757\n",
            "Epoch 10/20\n",
            "15000/15000 [==============================] - 1s 72us/step - loss: 0.0257 - acc: 0.9979 - val_loss: 0.4319 - val_acc: 0.8741\n",
            "Epoch 11/20\n",
            "15000/15000 [==============================] - 1s 70us/step - loss: 0.0193 - acc: 0.9991 - val_loss: 0.4585 - val_acc: 0.8737\n",
            "Epoch 12/20\n",
            "15000/15000 [==============================] - 1s 72us/step - loss: 0.0147 - acc: 0.9996 - val_loss: 0.4843 - val_acc: 0.8719\n",
            "Epoch 13/20\n",
            "15000/15000 [==============================] - 1s 72us/step - loss: 0.0113 - acc: 0.9998 - val_loss: 0.5037 - val_acc: 0.8705\n",
            "Epoch 14/20\n",
            "15000/15000 [==============================] - 1s 71us/step - loss: 0.0090 - acc: 0.9999 - val_loss: 0.5250 - val_acc: 0.8700\n",
            "Epoch 15/20\n",
            "15000/15000 [==============================] - 1s 71us/step - loss: 0.0073 - acc: 0.9999 - val_loss: 0.5433 - val_acc: 0.8688\n",
            "Epoch 16/20\n",
            "15000/15000 [==============================] - 1s 70us/step - loss: 0.0061 - acc: 0.9999 - val_loss: 0.5621 - val_acc: 0.8685\n",
            "Epoch 17/20\n",
            "15000/15000 [==============================] - 1s 71us/step - loss: 0.0051 - acc: 0.9999 - val_loss: 0.5791 - val_acc: 0.8685\n",
            "Epoch 18/20\n",
            "15000/15000 [==============================] - 1s 70us/step - loss: 0.0043 - acc: 0.9999 - val_loss: 0.5946 - val_acc: 0.8671\n",
            "Epoch 19/20\n",
            "15000/15000 [==============================] - 1s 73us/step - loss: 0.0037 - acc: 1.0000 - val_loss: 0.6091 - val_acc: 0.8665\n",
            "Epoch 20/20\n",
            "15000/15000 [==============================] - 1s 72us/step - loss: 0.0032 - acc: 1.0000 - val_loss: 0.6221 - val_acc: 0.8664\n"
          ],
          "name": "stdout"
        }
      ]
    },
    {
      "cell_type": "code",
      "metadata": {
        "id": "Z1ZtbRFG0tYs",
        "colab_type": "code",
        "outputId": "f9a7f32d-afcb-463c-9c06-b03b738d8809",
        "colab": {
          "base_uri": "https://localhost:8080/",
          "height": 269
        }
      },
      "source": [
        "model.summary()\n",
        "\n",
        "#  dense_10 layer의 전체 paramenter의 수는 10000(입력) * 16(출력) + 16 = 160,016 임 (추가적으로 더하는 16은 bias)\n",
        "#  dense_11 layer의 전체 paramenter의 수는 16 * 16 + 16 = 272 임 (추가적으로 더하는 16은 bias)\n",
        "#  dense_3 layer의 전체 paramenter의 수는 16 * 1 + 1 = 17 임 (추가적으로 더하는 1은 bias)\n",
        "# 그러므로 총 paramter의 수는 160,016 + 272 + 17 = 160,305"
      ],
      "execution_count": 19,
      "outputs": [
        {
          "output_type": "stream",
          "text": [
            "Model: \"sequential_1\"\n",
            "_________________________________________________________________\n",
            "Layer (type)                 Output Shape              Param #   \n",
            "=================================================================\n",
            "dense_1 (Dense)              (None, 16)                160016    \n",
            "_________________________________________________________________\n",
            "dense_2 (Dense)              (None, 16)                272       \n",
            "_________________________________________________________________\n",
            "dense_3 (Dense)              (None, 1)                 17        \n",
            "=================================================================\n",
            "Total params: 160,305\n",
            "Trainable params: 160,305\n",
            "Non-trainable params: 0\n",
            "_________________________________________________________________\n"
          ],
          "name": "stdout"
        }
      ]
    },
    {
      "cell_type": "code",
      "metadata": {
        "id": "FUJdVafv00vi",
        "colab_type": "code",
        "outputId": "fd3c5445-5a16-4d15-cb85-9c545bdc97e8",
        "colab": {
          "base_uri": "https://localhost:8080/",
          "height": 73
        }
      },
      "source": [
        "# Training 시 생성된 정보를 저장하고 있는 history method를 이용하여 모든 val_loss, val_accuracy, loss, accuracy를 확인\n",
        "history_dict = history.history\n",
        "print(history_dict.keys())\n",
        "print(history_dict.values())"
      ],
      "execution_count": 20,
      "outputs": [
        {
          "output_type": "stream",
          "text": [
            "dict_keys(['val_loss', 'val_acc', 'loss', 'acc'])\n",
            "dict_values([[0.38537289109230044, 0.28939748454093933, 0.28086145186424255, 0.28433129010200503, 0.30002210445404054, 0.321493896150589, 0.34818067688941956, 0.37770281705856323, 0.4039424485206604, 0.4318892566680908, 0.4584547972679138, 0.48427583327293394, 0.5036822869300842, 0.5249564285755157, 0.5432748609066009, 0.5620765357971191, 0.5791189262390136, 0.5945897601127624, 0.6090838184356689, 0.6221179304122925], [0.8620000007629395, 0.8875000003814697, 0.8882000002861022, 0.8862000000953675, 0.8825000002861023, 0.8802000001907349, 0.8801000001907349, 0.8773999999046326, 0.8757, 0.8740999998092651, 0.8737, 0.8718999999046325, 0.8704999997138977, 0.8699999996185303, 0.8687999997138977, 0.8684999996185303, 0.8684999997138977, 0.8670999997138977, 0.8664999997138977, 0.8663999997138977], [0.5437356829484303, 0.2822978230794271, 0.19129628887176514, 0.14177413090070087, 0.10738368665377299, 0.08181334253549576, 0.06160060587326686, 0.04603835663596789, 0.03451068534652392, 0.025679429340362547, 0.01927452673316002, 0.014662460800508658, 0.011349466765920321, 0.00904433741743366, 0.007329242778817813, 0.006061845025171837, 0.005078087584922711, 0.004313123336186012, 0.003668181386590004, 0.0031688138286272683], [0.770733333047231, 0.9082666666984558, 0.9382666667938232, 0.955933333047231, 0.9711333333969117, 0.9812000000635783, 0.9876666665712992, 0.9928666669209798, 0.996, 0.9979333335876465, 0.9990666666666667, 0.9996, 0.9998, 0.9998666666666667, 0.9998666666666667, 0.9998666666666667, 0.9999333333333333, 0.9999333333333333, 1.0, 1.0]])\n"
          ],
          "name": "stdout"
        }
      ]
    },
    {
      "cell_type": "code",
      "metadata": {
        "id": "7JflxSJh04VO",
        "colab_type": "code",
        "outputId": "6d8eaad4-c423-4818-c8b9-7213e6d14582",
        "colab": {
          "base_uri": "https://localhost:8080/",
          "height": 313
        }
      },
      "source": [
        "# Training & Validation Loss Graph\n",
        "import matplotlib.pyplot as plt\n",
        "\n",
        "plt.clf()   # 그래프 초기화\n",
        "\n",
        "acc = history.history['acc']\n",
        "val_acc = history.history['val_acc']\n",
        "loss = history.history['loss']\n",
        "val_loss = history.history['val_loss']\n",
        "\n",
        "epochs = range(1, len(acc) + 1)\n",
        "\n",
        "plt.plot(epochs, loss, 'r', label='Training loss')\n",
        "plt.plot(epochs, val_loss, 'b', label='Validation loss')\n",
        "\n",
        "plt.title('Training and validation loss')\n",
        "plt.xlabel('Epochs')\n",
        "plt.ylabel('Loss')\n",
        "plt.legend()\n",
        "\n",
        "plt.show()"
      ],
      "execution_count": 21,
      "outputs": [
        {
          "output_type": "execute_result",
          "data": {
            "text/plain": [
              "[<matplotlib.lines.Line2D at 0x7f3ef435eac8>]"
            ]
          },
          "metadata": {
            "tags": []
          },
          "execution_count": 21
        },
        {
          "output_type": "execute_result",
          "data": {
            "text/plain": [
              "[<matplotlib.lines.Line2D at 0x7f3ef247dcf8>]"
            ]
          },
          "metadata": {
            "tags": []
          },
          "execution_count": 21
        },
        {
          "output_type": "execute_result",
          "data": {
            "text/plain": [
              "Text(0.5, 1.0, 'Training and validation loss')"
            ]
          },
          "metadata": {
            "tags": []
          },
          "execution_count": 21
        },
        {
          "output_type": "execute_result",
          "data": {
            "text/plain": [
              "Text(0.5, 0, 'Epochs')"
            ]
          },
          "metadata": {
            "tags": []
          },
          "execution_count": 21
        },
        {
          "output_type": "execute_result",
          "data": {
            "text/plain": [
              "Text(0, 0.5, 'Loss')"
            ]
          },
          "metadata": {
            "tags": []
          },
          "execution_count": 21
        },
        {
          "output_type": "execute_result",
          "data": {
            "text/plain": [
              "<matplotlib.legend.Legend at 0x7f3ef54ab630>"
            ]
          },
          "metadata": {
            "tags": []
          },
          "execution_count": 21
        },
        {
          "output_type": "display_data",
          "data": {
            "image/png": "[encoded data removed]",
            "text/plain": [
              "<Figure size 432x288 with 1 Axes>"
            ]
          },
          "metadata": {
            "tags": []
          }
        }
      ]
    },
    {
      "cell_type": "code",
      "metadata": {
        "id": "fbdMgMfq0_u1",
        "colab_type": "code",
        "outputId": "57468f07-185f-48b9-f7d0-0972dcba76d1",
        "colab": {
          "base_uri": "https://localhost:8080/",
          "height": 313
        }
      },
      "source": [
        "# Training & Validation Accuracy Graph\n",
        "plt.clf()   # 그래프 초기화\n",
        "\n",
        "acc = history_dict['acc']\n",
        "val_acc = history_dict['val_acc']\n",
        "\n",
        "plt.plot(epochs, acc, 'r', label='Training acc')\n",
        "plt.plot(epochs, val_acc, 'b', label='Validation acc')\n",
        "plt.title('Training and validation accuracy')\n",
        "plt.xlabel('Epochs')\n",
        "plt.ylabel('Accuracy')\n",
        "plt.legend()\n",
        "\n",
        "plt.show()"
      ],
      "execution_count": 22,
      "outputs": [
        {
          "output_type": "execute_result",
          "data": {
            "text/plain": [
              "[<matplotlib.lines.Line2D at 0x7f3ef5db3080>]"
            ]
          },
          "metadata": {
            "tags": []
          },
          "execution_count": 22
        },
        {
          "output_type": "execute_result",
          "data": {
            "text/plain": [
              "[<matplotlib.lines.Line2D at 0x7f3ef247d2e8>]"
            ]
          },
          "metadata": {
            "tags": []
          },
          "execution_count": 22
        },
        {
          "output_type": "execute_result",
          "data": {
            "text/plain": [
              "Text(0.5, 1.0, 'Training and validation accuracy')"
            ]
          },
          "metadata": {
            "tags": []
          },
          "execution_count": 22
        },
        {
          "output_type": "execute_result",
          "data": {
            "text/plain": [
              "Text(0.5, 0, 'Epochs')"
            ]
          },
          "metadata": {
            "tags": []
          },
          "execution_count": 22
        },
        {
          "output_type": "execute_result",
          "data": {
            "text/plain": [
              "Text(0, 0.5, 'Accuracy')"
            ]
          },
          "metadata": {
            "tags": []
          },
          "execution_count": 22
        },
        {
          "output_type": "execute_result",
          "data": {
            "text/plain": [
              "<matplotlib.legend.Legend at 0x7f3ef5e0abe0>"
            ]
          },
          "metadata": {
            "tags": []
          },
          "execution_count": 22
        },
        {
          "output_type": "display_data",
          "data": {
            "image/png": "[encoded data removed]",
            "text/plain": [
              "<Figure size 432x288 with 1 Axes>"
            ]
          },
          "metadata": {
            "tags": []
          }
        }
      ]
    },
    {
      "cell_type": "code",
      "metadata": {
        "id": "uaNNB-AK1FqA",
        "colab_type": "code",
        "outputId": "18ce04ce-ec4d-4414-cc66-7ffa8f7e347c",
        "colab": {
          "base_uri": "https://localhost:8080/",
          "height": 179
        }
      },
      "source": [
        "# 과적합 시점을(epoch 3 이후) 알았으니, 앞에서와 동일하게 처음부터 다시 Network를 구성\n",
        "model = models.Sequential()\n",
        "model.add(layers.Dense(16, activation='relu', input_shape=(10000,)))\n",
        "model.add(layers.Dense(16, activation='relu'))\n",
        "model.add(layers.Dense(1, activation='sigmoid'))\n",
        "\n",
        "model.compile(optimizer='Adam', loss='binary_crossentropy', metrics=['accuracy'])\n",
        "\n",
        "\n",
        "# fit method로 Training 시, epoch = 4로 Setting 하여 과적합 방지\n",
        "model.fit(x_train, y_train, epochs=4, batch_size=512)\n",
        "\n",
        "# evaluate method를 이용하여 입력 test data에 대한 loss, accuracy를 계산\n",
        "loss, accuracy = model.evaluate(x_test, y_test)"
      ],
      "execution_count": 23,
      "outputs": [
        {
          "output_type": "stream",
          "text": [
            "Epoch 1/4\n",
            "25000/25000 [==============================] - 1s 55us/step - loss: 0.5278 - acc: 0.7835\n",
            "Epoch 2/4\n",
            "25000/25000 [==============================] - 1s 45us/step - loss: 0.2794 - acc: 0.9030\n",
            "Epoch 3/4\n",
            "25000/25000 [==============================] - 1s 46us/step - loss: 0.2035 - acc: 0.9284\n",
            "Epoch 4/4\n",
            "25000/25000 [==============================] - 1s 47us/step - loss: 0.1634 - acc: 0.9444\n"
          ],
          "name": "stdout"
        },
        {
          "output_type": "execute_result",
          "data": {
            "text/plain": [
              "<keras.callbacks.History at 0x7f3ef5d7c0b8>"
            ]
          },
          "metadata": {
            "tags": []
          },
          "execution_count": 23
        },
        {
          "output_type": "stream",
          "text": [
            "25000/25000 [==============================] - 2s 75us/step\n"
          ],
          "name": "stdout"
        }
      ]
    },
    {
      "cell_type": "code",
      "metadata": {
        "id": "p8yu0pty1LDJ",
        "colab_type": "code",
        "outputId": "ee496dca-67b5-4f70-f099-3c6257122e8c",
        "colab": {
          "base_uri": "https://localhost:8080/",
          "height": 53
        }
      },
      "source": [
        "# 약 88%의 정확도로 Movie Review를 정확하게 예측 함을 할 수 있음\n",
        "\n",
        "print('test_acc : ', accuracy)\n",
        "print('test_loss : ', loss)"
      ],
      "execution_count": 24,
      "outputs": [
        {
          "output_type": "stream",
          "text": [
            "test_acc :  0.87968\n",
            "test_loss :  0.30301755895614624\n"
          ],
          "name": "stdout"
        }
      ]
    }
  ]
}