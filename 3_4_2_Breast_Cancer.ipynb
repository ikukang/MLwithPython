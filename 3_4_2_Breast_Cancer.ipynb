{
  "nbformat": 4,
  "nbformat_minor": 0,
  "metadata": {
    "colab": {
      "name": "3.4.2-Breast-Cancer.ipynb",
      "provenance": [],
      "collapsed_sections": [],
      "authorship_tag": "ABX9TyNUGqE5opC06OcuXguQ9lqj",
      "include_colab_link": true
    },
    "kernelspec": {
      "name": "python3",
      "display_name": "Python 3"
    },
    "accelerator": "GPU"
  },
  "cells": [
    {
      "cell_type": "markdown",
      "metadata": {
        "id": "view-in-github",
        "colab_type": "text"
      },
      "source": [
        "<a href=\"https://colab.research.google.com/github/ikukang/MLwithPython/blob/master/3_4_2_Breast_Cancer.ipynb\" target=\"_parent\"><img src=\"https://colab.research.google.com/assets/colab-badge.svg\" alt=\"Open In Colab\"/></a>"
      ]
    },
    {
      "cell_type": "code",
      "metadata": {
        "id": "pC459gxPOD_Z",
        "colab_type": "code",
        "colab": {}
      },
      "source": [
        "# 사용 상의 편의를 위한 Initial Setting \n",
        "\n",
        "# 실행결과를 한 창에 표시\n",
        "from IPython.core.interactiveshell import InteractiveShell\n",
        "InteractiveShell.ast_node_interactivity = \"all\"\n",
        "\n",
        "# numpy 소숫점 setting\n",
        "import numpy as np\n",
        "np.set_printoptions(precision=7)\n",
        "\n",
        "# pandas이용하여 grid display\n",
        "import numpy as np\n",
        "import pandas as pd\n",
        "pd.set_option('display.max_rows', None)          # 최대 표시 줄 수 제한 해제\n",
        "pd.set_option('display.max_columns', None)       # 최대 표시 컬럼 수 제한 해제\n",
        "pd.set_option('display.max_colwidth', -1)        # 컬럼내 데이터 표시 제한 해제\n",
        "\n",
        "# Warning Message hide\n",
        "import warnings\n",
        "warnings.filterwarnings('ignore')"
      ],
      "execution_count": 0,
      "outputs": []
    },
    {
      "cell_type": "code",
      "metadata": {
        "id": "z08W-EZ7OPMS",
        "colab_type": "code",
        "outputId": "68e1622a-298e-4fb3-96fe-d301a800ff16",
        "colab": {
          "base_uri": "https://localhost:8080/",
          "height": 1000
        }
      },
      "source": [
        "from sklearn.datasets import load_breast_cancer\n",
        "cancer = load_breast_cancer()\n",
        "\n",
        "print(cancer.DESCR)"
      ],
      "execution_count": 0,
      "outputs": [
        {
          "output_type": "stream",
          "text": [
            ".. _breast_cancer_dataset:\n",
            "\n",
            "Breast cancer wisconsin (diagnostic) dataset\n",
            "--------------------------------------------\n",
            "\n",
            "**Data Set Characteristics:**\n",
            "\n",
            "    :Number of Instances: 569\n",
            "\n",
            "    :Number of Attributes: 30 numeric, predictive attributes and the class\n",
            "\n",
            "    :Attribute Information:\n",
            "        - radius (mean of distances from center to points on the perimeter)\n",
            "        - texture (standard deviation of gray-scale values)\n",
            "        - perimeter\n",
            "        - area\n",
            "        - smoothness (local variation in radius lengths)\n",
            "        - compactness (perimeter^2 / area - 1.0)\n",
            "        - concavity (severity of concave portions of the contour)\n",
            "        - concave points (number of concave portions of the contour)\n",
            "        - symmetry \n",
            "        - fractal dimension (\"coastline approximation\" - 1)\n",
            "\n",
            "        The mean, standard error, and \"worst\" or largest (mean of the three\n",
            "        largest values) of these features were computed for each image,\n",
            "        resulting in 30 features.  For instance, field 3 is Mean Radius, field\n",
            "        13 is Radius SE, field 23 is Worst Radius.\n",
            "\n",
            "        - class:\n",
            "                - WDBC-Malignant\n",
            "                - WDBC-Benign\n",
            "\n",
            "    :Summary Statistics:\n",
            "\n",
            "    ===================================== ====== ======\n",
            "                                           Min    Max\n",
            "    ===================================== ====== ======\n",
            "    radius (mean):                        6.981  28.11\n",
            "    texture (mean):                       9.71   39.28\n",
            "    perimeter (mean):                     43.79  188.5\n",
            "    area (mean):                          143.5  2501.0\n",
            "    smoothness (mean):                    0.053  0.163\n",
            "    compactness (mean):                   0.019  0.345\n",
            "    concavity (mean):                     0.0    0.427\n",
            "    concave points (mean):                0.0    0.201\n",
            "    symmetry (mean):                      0.106  0.304\n",
            "    fractal dimension (mean):             0.05   0.097\n",
            "    radius (standard error):              0.112  2.873\n",
            "    texture (standard error):             0.36   4.885\n",
            "    perimeter (standard error):           0.757  21.98\n",
            "    area (standard error):                6.802  542.2\n",
            "    smoothness (standard error):          0.002  0.031\n",
            "    compactness (standard error):         0.002  0.135\n",
            "    concavity (standard error):           0.0    0.396\n",
            "    concave points (standard error):      0.0    0.053\n",
            "    symmetry (standard error):            0.008  0.079\n",
            "    fractal dimension (standard error):   0.001  0.03\n",
            "    radius (worst):                       7.93   36.04\n",
            "    texture (worst):                      12.02  49.54\n",
            "    perimeter (worst):                    50.41  251.2\n",
            "    area (worst):                         185.2  4254.0\n",
            "    smoothness (worst):                   0.071  0.223\n",
            "    compactness (worst):                  0.027  1.058\n",
            "    concavity (worst):                    0.0    1.252\n",
            "    concave points (worst):               0.0    0.291\n",
            "    symmetry (worst):                     0.156  0.664\n",
            "    fractal dimension (worst):            0.055  0.208\n",
            "    ===================================== ====== ======\n",
            "\n",
            "    :Missing Attribute Values: None\n",
            "\n",
            "    :Class Distribution: 212 - Malignant, 357 - Benign\n",
            "\n",
            "    :Creator:  Dr. William H. Wolberg, W. Nick Street, Olvi L. Mangasarian\n",
            "\n",
            "    :Donor: Nick Street\n",
            "\n",
            "    :Date: November, 1995\n",
            "\n",
            "This is a copy of UCI ML Breast Cancer Wisconsin (Diagnostic) datasets.\n",
            "https://goo.gl/U2Uwz2\n",
            "\n",
            "Features are computed from a digitized image of a fine needle\n",
            "aspirate (FNA) of a breast mass.  They describe\n",
            "characteristics of the cell nuclei present in the image.\n",
            "\n",
            "Separating plane described above was obtained using\n",
            "Multisurface Method-Tree (MSM-T) [K. P. Bennett, \"Decision Tree\n",
            "Construction Via Linear Programming.\" Proceedings of the 4th\n",
            "Midwest Artificial Intelligence and Cognitive Science Society,\n",
            "pp. 97-101, 1992], a classification method which uses linear\n",
            "programming to construct a decision tree.  Relevant features\n",
            "were selected using an exhaustive search in the space of 1-4\n",
            "features and 1-3 separating planes.\n",
            "\n",
            "The actual linear program used to obtain the separating plane\n",
            "in the 3-dimensional space is that described in:\n",
            "[K. P. Bennett and O. L. Mangasarian: \"Robust Linear\n",
            "Programming Discrimination of Two Linearly Inseparable Sets\",\n",
            "Optimization Methods and Software 1, 1992, 23-34].\n",
            "\n",
            "This database is also available through the UW CS ftp server:\n",
            "\n",
            "ftp ftp.cs.wisc.edu\n",
            "cd math-prog/cpo-dataset/machine-learn/WDBC/\n",
            "\n",
            ".. topic:: References\n",
            "\n",
            "   - W.N. Street, W.H. Wolberg and O.L. Mangasarian. Nuclear feature extraction \n",
            "     for breast tumor diagnosis. IS&T/SPIE 1993 International Symposium on \n",
            "     Electronic Imaging: Science and Technology, volume 1905, pages 861-870,\n",
            "     San Jose, CA, 1993.\n",
            "   - O.L. Mangasarian, W.N. Street and W.H. Wolberg. Breast cancer diagnosis and \n",
            "     prognosis via linear programming. Operations Research, 43(4), pages 570-577, \n",
            "     July-August 1995.\n",
            "   - W.H. Wolberg, W.N. Street, and O.L. Mangasarian. Machine learning techniques\n",
            "     to diagnose breast cancer from fine-needle aspirates. Cancer Letters 77 (1994) \n",
            "     163-171.\n"
          ],
          "name": "stdout"
        }
      ]
    },
    {
      "cell_type": "code",
      "metadata": {
        "id": "wq014oIJOjB8",
        "colab_type": "code",
        "outputId": "837007a2-a3be-4d39-8cea-26f2b852039c",
        "colab": {
          "base_uri": "https://localhost:8080/",
          "height": 719
        }
      },
      "source": [
        "print(cancer.data.shape)\n",
        "print('\\n')\n",
        "print(cancer.feature_names)\n",
        "print('\\n')\n",
        "print(cancer.data)\n",
        "print('\\n')\n",
        "print(cancer.target)"
      ],
      "execution_count": 0,
      "outputs": [
        {
          "output_type": "stream",
          "text": [
            "(569, 30)\n",
            "\n",
            "\n",
            "['mean radius' 'mean texture' 'mean perimeter' 'mean area'\n",
            " 'mean smoothness' 'mean compactness' 'mean concavity'\n",
            " 'mean concave points' 'mean symmetry' 'mean fractal dimension'\n",
            " 'radius error' 'texture error' 'perimeter error' 'area error'\n",
            " 'smoothness error' 'compactness error' 'concavity error'\n",
            " 'concave points error' 'symmetry error' 'fractal dimension error'\n",
            " 'worst radius' 'worst texture' 'worst perimeter' 'worst area'\n",
            " 'worst smoothness' 'worst compactness' 'worst concavity'\n",
            " 'worst concave points' 'worst symmetry' 'worst fractal dimension']\n",
            "\n",
            "\n",
            "[[1.799e+01 1.038e+01 1.228e+02 ... 2.654e-01 4.601e-01 1.189e-01]\n",
            " [2.057e+01 1.777e+01 1.329e+02 ... 1.860e-01 2.750e-01 8.902e-02]\n",
            " [1.969e+01 2.125e+01 1.300e+02 ... 2.430e-01 3.613e-01 8.758e-02]\n",
            " ...\n",
            " [1.660e+01 2.808e+01 1.083e+02 ... 1.418e-01 2.218e-01 7.820e-02]\n",
            " [2.060e+01 2.933e+01 1.401e+02 ... 2.650e-01 4.087e-01 1.240e-01]\n",
            " [7.760e+00 2.454e+01 4.792e+01 ... 0.000e+00 2.871e-01 7.039e-02]]\n",
            "\n",
            "\n",
            "[0 0 0 0 0 0 0 0 0 0 0 0 0 0 0 0 0 0 0 1 1 1 0 0 0 0 0 0 0 0 0 0 0 0 0 0 0\n",
            " 1 0 0 0 0 0 0 0 0 1 0 1 1 1 1 1 0 0 1 0 0 1 1 1 1 0 1 0 0 1 1 1 1 0 1 0 0\n",
            " 1 0 1 0 0 1 1 1 0 0 1 0 0 0 1 1 1 0 1 1 0 0 1 1 1 0 0 1 1 1 1 0 1 1 0 1 1\n",
            " 1 1 1 1 1 1 0 0 0 1 0 0 1 1 1 0 0 1 0 1 0 0 1 0 0 1 1 0 1 1 0 1 1 1 1 0 1\n",
            " 1 1 1 1 1 1 1 1 0 1 1 1 1 0 0 1 0 1 1 0 0 1 1 0 0 1 1 1 1 0 1 1 0 0 0 1 0\n",
            " 1 0 1 1 1 0 1 1 0 0 1 0 0 0 0 1 0 0 0 1 0 1 0 1 1 0 1 0 0 0 0 1 1 0 0 1 1\n",
            " 1 0 1 1 1 1 1 0 0 1 1 0 1 1 0 0 1 0 1 1 1 1 0 1 1 1 1 1 0 1 0 0 0 0 0 0 0\n",
            " 0 0 0 0 0 0 0 1 1 1 1 1 1 0 1 0 1 1 0 1 1 0 1 0 0 1 1 1 1 1 1 1 1 1 1 1 1\n",
            " 1 0 1 1 0 1 0 1 1 1 1 1 1 1 1 1 1 1 1 1 1 0 1 1 1 0 1 0 1 1 1 1 0 0 0 1 1\n",
            " 1 1 0 1 0 1 0 1 1 1 0 1 1 1 1 1 1 1 0 0 0 1 1 1 1 1 1 1 1 1 1 1 0 0 1 0 0\n",
            " 0 1 0 0 1 1 1 1 1 0 1 1 1 1 1 0 1 1 1 0 1 1 0 0 1 1 1 1 1 1 0 1 1 1 1 1 1\n",
            " 1 0 1 1 1 1 1 0 1 1 0 1 1 1 1 1 1 1 1 1 1 1 1 0 1 0 0 1 0 1 1 1 1 1 0 1 1\n",
            " 0 1 0 1 1 0 1 0 1 1 1 1 1 1 1 1 0 0 1 1 1 1 1 1 0 1 1 1 1 1 1 1 1 1 1 0 1\n",
            " 1 1 1 1 1 1 0 1 0 1 1 0 1 1 1 1 1 0 0 1 0 1 0 1 1 1 1 1 0 1 1 0 1 0 1 0 0\n",
            " 1 1 1 0 1 1 1 1 1 1 1 1 1 1 1 0 1 0 0 1 1 1 1 1 1 1 1 1 1 1 1 1 1 1 1 1 1\n",
            " 1 1 1 1 1 1 1 0 0 0 0 0 0 1]\n"
          ],
          "name": "stdout"
        }
      ]
    },
    {
      "cell_type": "code",
      "metadata": {
        "id": "VzDhtJs1aGPB",
        "colab_type": "code",
        "outputId": "9518fd46-a94a-4cfd-8af8-41bbb7f213f7",
        "colab": {
          "base_uri": "https://localhost:8080/",
          "height": 353
        }
      },
      "source": [
        "from keras import models, layers\n",
        "\n",
        "network = models.Sequential()\n",
        "network.add(layers.Dense(16, activation='tanh', input_shape=(30,)))\n",
        "network.add(layers.Dense(16, activation='tanh'))\n",
        "network.add(layers.Dense(1, activation='sigmoid'))\n",
        "\n",
        "network.compile(optimizer='rmsprop', loss='binary_crossentropy', metrics=['acc'])"
      ],
      "execution_count": 0,
      "outputs": [
        {
          "output_type": "stream",
          "text": [
            "Using TensorFlow backend.\n"
          ],
          "name": "stderr"
        },
        {
          "output_type": "display_data",
          "data": {
            "text/html": [
              "<p style=\"color: red;\">\n",
              "The default version of TensorFlow in Colab will soon switch to TensorFlow 2.x.<br>\n",
              "We recommend you <a href=\"https://www.tensorflow.org/guide/migrate\" target=\"_blank\">upgrade</a> now \n",
              "or ensure your notebook will continue to use TensorFlow 1.x via the <code>%tensorflow_version 1.x</code> magic:\n",
              "<a href=\"https://colab.research.google.com/notebooks/tensorflow_version.ipynb\" target=\"_blank\">more info</a>.</p>\n"
            ],
            "text/plain": [
              "<IPython.core.display.HTML object>"
            ]
          },
          "metadata": {
            "tags": []
          }
        },
        {
          "output_type": "stream",
          "text": [
            "WARNING:tensorflow:From /usr/local/lib/python3.6/dist-packages/keras/backend/tensorflow_backend.py:66: The name tf.get_default_graph is deprecated. Please use tf.compat.v1.get_default_graph instead.\n",
            "\n",
            "WARNING:tensorflow:From /usr/local/lib/python3.6/dist-packages/keras/backend/tensorflow_backend.py:541: The name tf.placeholder is deprecated. Please use tf.compat.v1.placeholder instead.\n",
            "\n",
            "WARNING:tensorflow:From /usr/local/lib/python3.6/dist-packages/keras/backend/tensorflow_backend.py:4432: The name tf.random_uniform is deprecated. Please use tf.random.uniform instead.\n",
            "\n",
            "WARNING:tensorflow:From /usr/local/lib/python3.6/dist-packages/keras/optimizers.py:793: The name tf.train.Optimizer is deprecated. Please use tf.compat.v1.train.Optimizer instead.\n",
            "\n",
            "WARNING:tensorflow:From /usr/local/lib/python3.6/dist-packages/keras/backend/tensorflow_backend.py:3657: The name tf.log is deprecated. Please use tf.math.log instead.\n",
            "\n",
            "WARNING:tensorflow:From /usr/local/lib/python3.6/dist-packages/tensorflow_core/python/ops/nn_impl.py:183: where (from tensorflow.python.ops.array_ops) is deprecated and will be removed in a future version.\n",
            "Instructions for updating:\n",
            "Use tf.where in 2.0, which has the same broadcast rule as np.where\n"
          ],
          "name": "stdout"
        }
      ]
    },
    {
      "cell_type": "code",
      "metadata": {
        "id": "HIgbJpfQfV-a",
        "colab_type": "code",
        "colab": {}
      },
      "source": [
        "x_val = cancer.data[:150]\n",
        "x_train = cancer.data[150:400]\n",
        "\n",
        "y_val = cancer.target[:150]\n",
        "y_train = cancer.target[150:400]\n",
        "\n",
        "x_test = cancer.data[400:]\n",
        "y_test = cancer.target[400:]"
      ],
      "execution_count": 0,
      "outputs": []
    },
    {
      "cell_type": "code",
      "metadata": {
        "id": "vUznvHhEeKPS",
        "colab_type": "code",
        "outputId": "71d33bff-dd94-44ae-9f2f-a6148787bd75",
        "colab": {
          "base_uri": "https://localhost:8080/",
          "height": 1000
        }
      },
      "source": [
        "history = network.fit(x_train, y_train, batch_size=64, epochs=40, validation_data=(x_val, y_val))"
      ],
      "execution_count": 0,
      "outputs": [
        {
          "output_type": "stream",
          "text": [
            "WARNING:tensorflow:From /usr/local/lib/python3.6/dist-packages/keras/backend/tensorflow_backend.py:1033: The name tf.assign_add is deprecated. Please use tf.compat.v1.assign_add instead.\n",
            "\n",
            "WARNING:tensorflow:From /usr/local/lib/python3.6/dist-packages/keras/backend/tensorflow_backend.py:1020: The name tf.assign is deprecated. Please use tf.compat.v1.assign instead.\n",
            "\n",
            "WARNING:tensorflow:From /usr/local/lib/python3.6/dist-packages/keras/backend/tensorflow_backend.py:3005: The name tf.Session is deprecated. Please use tf.compat.v1.Session instead.\n",
            "\n",
            "Train on 250 samples, validate on 150 samples\n",
            "Epoch 1/40\n",
            "WARNING:tensorflow:From /usr/local/lib/python3.6/dist-packages/keras/backend/tensorflow_backend.py:190: The name tf.get_default_session is deprecated. Please use tf.compat.v1.get_default_session instead.\n",
            "\n",
            "WARNING:tensorflow:From /usr/local/lib/python3.6/dist-packages/keras/backend/tensorflow_backend.py:197: The name tf.ConfigProto is deprecated. Please use tf.compat.v1.ConfigProto instead.\n",
            "\n",
            "WARNING:tensorflow:From /usr/local/lib/python3.6/dist-packages/keras/backend/tensorflow_backend.py:207: The name tf.global_variables is deprecated. Please use tf.compat.v1.global_variables instead.\n",
            "\n",
            "WARNING:tensorflow:From /usr/local/lib/python3.6/dist-packages/keras/backend/tensorflow_backend.py:216: The name tf.is_variable_initialized is deprecated. Please use tf.compat.v1.is_variable_initialized instead.\n",
            "\n",
            "WARNING:tensorflow:From /usr/local/lib/python3.6/dist-packages/keras/backend/tensorflow_backend.py:223: The name tf.variables_initializer is deprecated. Please use tf.compat.v1.variables_initializer instead.\n",
            "\n",
            "250/250 [==============================] - 10s 39ms/step - loss: 0.6745 - acc: 0.4760 - val_loss: 0.6941 - val_acc: 0.4533\n",
            "Epoch 2/40\n",
            "250/250 [==============================] - 0s 73us/step - loss: 0.5961 - acc: 0.6440 - val_loss: 0.6668 - val_acc: 0.4533\n",
            "Epoch 3/40\n",
            "250/250 [==============================] - 0s 68us/step - loss: 0.5567 - acc: 0.6440 - val_loss: 0.6608 - val_acc: 0.4533\n",
            "Epoch 4/40\n",
            "250/250 [==============================] - 0s 71us/step - loss: 0.5374 - acc: 0.6640 - val_loss: 0.6465 - val_acc: 0.4867\n",
            "Epoch 5/40\n",
            "250/250 [==============================] - 0s 67us/step - loss: 0.5179 - acc: 0.6760 - val_loss: 0.6175 - val_acc: 0.7800\n",
            "Epoch 6/40\n",
            "250/250 [==============================] - 0s 77us/step - loss: 0.5026 - acc: 0.8840 - val_loss: 0.6225 - val_acc: 0.7667\n",
            "Epoch 7/40\n",
            "250/250 [==============================] - 0s 67us/step - loss: 0.4823 - acc: 0.8760 - val_loss: 0.5982 - val_acc: 0.7933\n",
            "Epoch 8/40\n",
            "250/250 [==============================] - 0s 68us/step - loss: 0.4630 - acc: 0.8960 - val_loss: 0.5837 - val_acc: 0.7933\n",
            "Epoch 9/40\n",
            "250/250 [==============================] - 0s 69us/step - loss: 0.4486 - acc: 0.8880 - val_loss: 0.5491 - val_acc: 0.7933\n",
            "Epoch 10/40\n",
            "250/250 [==============================] - 0s 78us/step - loss: 0.4294 - acc: 0.9000 - val_loss: 0.5460 - val_acc: 0.8000\n",
            "Epoch 11/40\n",
            "250/250 [==============================] - 0s 82us/step - loss: 0.4095 - acc: 0.8960 - val_loss: 0.4860 - val_acc: 0.8267\n",
            "Epoch 12/40\n",
            "250/250 [==============================] - 0s 70us/step - loss: 0.3869 - acc: 0.8920 - val_loss: 0.4551 - val_acc: 0.8267\n",
            "Epoch 13/40\n",
            "250/250 [==============================] - 0s 80us/step - loss: 0.3597 - acc: 0.9080 - val_loss: 0.4407 - val_acc: 0.8267\n",
            "Epoch 14/40\n",
            "250/250 [==============================] - 0s 70us/step - loss: 0.3476 - acc: 0.9040 - val_loss: 0.4353 - val_acc: 0.8267\n",
            "Epoch 15/40\n",
            "250/250 [==============================] - 0s 69us/step - loss: 0.3418 - acc: 0.8920 - val_loss: 0.4497 - val_acc: 0.8133\n",
            "Epoch 16/40\n",
            "250/250 [==============================] - 0s 72us/step - loss: 0.3160 - acc: 0.9120 - val_loss: 0.4192 - val_acc: 0.8467\n",
            "Epoch 17/40\n",
            "250/250 [==============================] - 0s 69us/step - loss: 0.3006 - acc: 0.9280 - val_loss: 0.4014 - val_acc: 0.8467\n",
            "Epoch 18/40\n",
            "250/250 [==============================] - 0s 70us/step - loss: 0.2953 - acc: 0.9400 - val_loss: 0.4630 - val_acc: 0.8133\n",
            "Epoch 19/40\n",
            "250/250 [==============================] - 0s 93us/step - loss: 0.3189 - acc: 0.9040 - val_loss: 0.4123 - val_acc: 0.8333\n",
            "Epoch 20/40\n",
            "250/250 [==============================] - 0s 84us/step - loss: 0.2790 - acc: 0.9160 - val_loss: 0.3754 - val_acc: 0.8467\n",
            "Epoch 21/40\n",
            "250/250 [==============================] - 0s 76us/step - loss: 0.2771 - acc: 0.9320 - val_loss: 0.3488 - val_acc: 0.8667\n",
            "Epoch 22/40\n",
            "250/250 [==============================] - 0s 104us/step - loss: 0.2758 - acc: 0.9200 - val_loss: 0.3578 - val_acc: 0.8600\n",
            "Epoch 23/40\n",
            "250/250 [==============================] - 0s 75us/step - loss: 0.2717 - acc: 0.9120 - val_loss: 0.3694 - val_acc: 0.8467\n",
            "Epoch 24/40\n",
            "250/250 [==============================] - 0s 77us/step - loss: 0.2576 - acc: 0.9200 - val_loss: 0.3284 - val_acc: 0.8733\n",
            "Epoch 25/40\n",
            "250/250 [==============================] - 0s 77us/step - loss: 0.2468 - acc: 0.9280 - val_loss: 0.3735 - val_acc: 0.8467\n",
            "Epoch 26/40\n",
            "250/250 [==============================] - 0s 74us/step - loss: 0.2468 - acc: 0.9200 - val_loss: 0.3817 - val_acc: 0.8400\n",
            "Epoch 27/40\n",
            "250/250 [==============================] - 0s 73us/step - loss: 0.2447 - acc: 0.9240 - val_loss: 0.3897 - val_acc: 0.8533\n",
            "Epoch 28/40\n",
            "250/250 [==============================] - 0s 67us/step - loss: 0.2430 - acc: 0.9400 - val_loss: 0.4011 - val_acc: 0.8400\n",
            "Epoch 29/40\n",
            "250/250 [==============================] - 0s 73us/step - loss: 0.2406 - acc: 0.9360 - val_loss: 0.3831 - val_acc: 0.8467\n",
            "Epoch 30/40\n",
            "250/250 [==============================] - 0s 76us/step - loss: 0.2340 - acc: 0.9240 - val_loss: 0.3617 - val_acc: 0.8400\n",
            "Epoch 31/40\n",
            "250/250 [==============================] - 0s 63us/step - loss: 0.2284 - acc: 0.9280 - val_loss: 0.3493 - val_acc: 0.8467\n",
            "Epoch 32/40\n",
            "250/250 [==============================] - 0s 63us/step - loss: 0.2258 - acc: 0.9320 - val_loss: 0.3336 - val_acc: 0.8600\n",
            "Epoch 33/40\n",
            "250/250 [==============================] - 0s 80us/step - loss: 0.2224 - acc: 0.9240 - val_loss: 0.3377 - val_acc: 0.8733\n",
            "Epoch 34/40\n",
            "250/250 [==============================] - 0s 71us/step - loss: 0.2374 - acc: 0.9080 - val_loss: 0.3086 - val_acc: 0.8600\n",
            "Epoch 35/40\n",
            "250/250 [==============================] - 0s 85us/step - loss: 0.2371 - acc: 0.9280 - val_loss: 0.3667 - val_acc: 0.8533\n",
            "Epoch 36/40\n",
            "250/250 [==============================] - 0s 76us/step - loss: 0.2106 - acc: 0.9400 - val_loss: 0.3445 - val_acc: 0.8533\n",
            "Epoch 37/40\n",
            "250/250 [==============================] - 0s 68us/step - loss: 0.2140 - acc: 0.9240 - val_loss: 0.3176 - val_acc: 0.8600\n",
            "Epoch 38/40\n",
            "250/250 [==============================] - 0s 73us/step - loss: 0.2159 - acc: 0.9320 - val_loss: 0.3264 - val_acc: 0.8533\n",
            "Epoch 39/40\n",
            "250/250 [==============================] - 0s 73us/step - loss: 0.2056 - acc: 0.9360 - val_loss: 0.3241 - val_acc: 0.8533\n",
            "Epoch 40/40\n",
            "250/250 [==============================] - 0s 91us/step - loss: 0.2111 - acc: 0.9280 - val_loss: 0.3182 - val_acc: 0.8600\n"
          ],
          "name": "stdout"
        }
      ]
    },
    {
      "cell_type": "code",
      "metadata": {
        "id": "Zb3WKiF0hP9Q",
        "colab_type": "code",
        "outputId": "fc7308d9-99ee-4c46-9bfb-928254b70db8",
        "colab": {
          "base_uri": "https://localhost:8080/",
          "height": 35
        }
      },
      "source": [
        "history_dict = history.history\n",
        "history_dict.keys()"
      ],
      "execution_count": 0,
      "outputs": [
        {
          "output_type": "execute_result",
          "data": {
            "text/plain": [
              "dict_keys(['val_loss', 'val_acc', 'loss', 'acc'])"
            ]
          },
          "metadata": {
            "tags": []
          },
          "execution_count": 7
        }
      ]
    },
    {
      "cell_type": "code",
      "metadata": {
        "id": "4Pq7jA8zkxM5",
        "colab_type": "code",
        "outputId": "2a9ff647-986c-451a-fc99-a2f73c5f3042",
        "colab": {
          "base_uri": "https://localhost:8080/",
          "height": 73
        }
      },
      "source": [
        "print(history_dict['loss'])\n",
        "print(history_dict['acc'])"
      ],
      "execution_count": 0,
      "outputs": [
        {
          "output_type": "stream",
          "text": [
            "[0.6744722967147827, 0.5960864238739013, 0.5566654019355773, 0.5374326195716858, 0.5179490628242492, 0.5025709261894226, 0.48230838537216186, 0.46295636653900146, 0.4485661563873291, 0.4294009704589844, 0.40951649951934815, 0.38691110038757326, 0.3596541748046875, 0.34757518315315244, 0.34176325392723084, 0.3160318238735199, 0.30064061307907103, 0.29534767413139346, 0.31887867784500123, 0.27896801686286926, 0.27709026193618774, 0.27580310130119323, 0.2716516206264496, 0.2575538012981415, 0.2468332040309906, 0.24679458010196687, 0.24468367516994477, 0.24303109395503997, 0.24056045448780058, 0.23399178469181062, 0.22841708314418793, 0.22577036786079407, 0.22237629294395447, 0.23743288373947144, 0.23713455700874328, 0.2105846734046936, 0.21404342794418335, 0.2159106172323227, 0.2055879989862442, 0.21114053642749786]\n",
            "[0.47600000429153444, 0.644000002861023, 0.6439999942779541, 0.663999993801117, 0.6760000038146973, 0.8840000057220458, 0.8760000052452087, 0.8960000052452087, 0.8880000014305115, 0.9000000052452087, 0.8960000014305115, 0.8920000014305115, 0.9080000052452087, 0.9039999957084656, 0.8920000019073486, 0.9119999961853027, 0.9280000004768372, 0.9400000004768372, 0.9040000004768372, 0.9160000004768372, 0.9320000052452088, 0.9199999957084656, 0.9119999961853027, 0.9200000052452088, 0.9280000052452088, 0.9200000052452088, 0.9240000004768372, 0.9400000047683715, 0.936, 0.9239999961853027, 0.9279999961853027, 0.9320000057220459, 0.9240000052452088, 0.9080000057220459, 0.9280000057220459, 0.9400000057220459, 0.9240000004768372, 0.9320000004768372, 0.9360000052452088, 0.9279999961853027]\n"
          ],
          "name": "stdout"
        }
      ]
    },
    {
      "cell_type": "code",
      "metadata": {
        "id": "-cqqXqkik5_9",
        "colab_type": "code",
        "outputId": "ebbfd93d-fa02-4821-eb7a-f17f5c7967b8",
        "colab": {
          "base_uri": "https://localhost:8080/",
          "height": 349
        }
      },
      "source": [
        "# Training & Validation Loss Graph\n",
        "import matplotlib.pyplot as plt\n",
        "\n",
        "plt.clf()   # 그래프 초기화\n",
        "\n",
        "acc = history.history['acc']\n",
        "val_acc = history.history['val_acc']\n",
        "loss = history.history['loss']\n",
        "val_loss = history.history['val_loss']\n",
        "\n",
        "epochs = range(1, len(acc) + 1)\n",
        "\n",
        "plt.plot(epochs, loss, 'r', label='Training loss')\n",
        "plt.plot(epochs, val_loss, 'b', label='Validation loss')\n",
        "\n",
        "plt.title('Training and validation loss')\n",
        "plt.xlabel('Epochs')\n",
        "plt.ylabel('Loss')\n",
        "plt.legend()\n",
        "\n",
        "plt.show()"
      ],
      "execution_count": 0,
      "outputs": [
        {
          "output_type": "execute_result",
          "data": {
            "text/plain": [
              "[<matplotlib.lines.Line2D at 0x7fa3ac146c50>]"
            ]
          },
          "metadata": {
            "tags": []
          },
          "execution_count": 9
        },
        {
          "output_type": "execute_result",
          "data": {
            "text/plain": [
              "[<matplotlib.lines.Line2D at 0x7fa3baa619b0>]"
            ]
          },
          "metadata": {
            "tags": []
          },
          "execution_count": 9
        },
        {
          "output_type": "execute_result",
          "data": {
            "text/plain": [
              "Text(0.5, 1.0, 'Training and validation loss')"
            ]
          },
          "metadata": {
            "tags": []
          },
          "execution_count": 9
        },
        {
          "output_type": "execute_result",
          "data": {
            "text/plain": [
              "Text(0.5, 0, 'Epochs')"
            ]
          },
          "metadata": {
            "tags": []
          },
          "execution_count": 9
        },
        {
          "output_type": "execute_result",
          "data": {
            "text/plain": [
              "Text(0, 0.5, 'Loss')"
            ]
          },
          "metadata": {
            "tags": []
          },
          "execution_count": 9
        },
        {
          "output_type": "execute_result",
          "data": {
            "text/plain": [
              "<matplotlib.legend.Legend at 0x7fa3ac154208>"
            ]
          },
          "metadata": {
            "tags": []
          },
          "execution_count": 9
        },
        {
          "output_type": "display_data",
          "data": {
            "image/png": "[encoded data removed]",
            "text/plain": [
              "<Figure size 432x288 with 1 Axes>"
            ]
          },
          "metadata": {
            "tags": []
          }
        }
      ]
    },
    {
      "cell_type": "code",
      "metadata": {
        "id": "v8D92GJXniW5",
        "colab_type": "code",
        "outputId": "26c437ac-a537-4496-ef5a-b12aa5abda90",
        "colab": {
          "base_uri": "https://localhost:8080/",
          "height": 369
        }
      },
      "source": [
        "# Training & Validation Accuracy Graph\n",
        "plt.clf()   # 그래프 초기화\n",
        "\n",
        "acc = history_dict['acc']\n",
        "val_acc = history_dict['val_acc']\n",
        "\n",
        "plt.plot(epochs, acc, 'r', label='Training acc')\n",
        "plt.plot(epochs, val_acc, 'b', label='Validation acc')\n",
        "plt.title('Training and validation accuracy')\n",
        "plt.xlabel('Epochs')\n",
        "plt.ylabel('Accuracy')\n",
        "plt.legend()\n",
        "\n",
        "plt.show()"
      ],
      "execution_count": 0,
      "outputs": [
        {
          "output_type": "execute_result",
          "data": {
            "text/plain": [
              "[<matplotlib.lines.Line2D at 0x7fa3ac07f320>]"
            ]
          },
          "metadata": {
            "tags": []
          },
          "execution_count": 10
        },
        {
          "output_type": "execute_result",
          "data": {
            "text/plain": [
              "[<matplotlib.lines.Line2D at 0x7fa3ac12f4e0>]"
            ]
          },
          "metadata": {
            "tags": []
          },
          "execution_count": 10
        },
        {
          "output_type": "execute_result",
          "data": {
            "text/plain": [
              "Text(0.5, 1.0, 'Training and validation accuracy')"
            ]
          },
          "metadata": {
            "tags": []
          },
          "execution_count": 10
        },
        {
          "output_type": "execute_result",
          "data": {
            "text/plain": [
              "Text(0.5, 0, 'Epochs')"
            ]
          },
          "metadata": {
            "tags": []
          },
          "execution_count": 10
        },
        {
          "output_type": "execute_result",
          "data": {
            "text/plain": [
              "Text(0, 0.5, 'Accuracy')"
            ]
          },
          "metadata": {
            "tags": []
          },
          "execution_count": 10
        },
        {
          "output_type": "execute_result",
          "data": {
            "text/plain": [
              "<matplotlib.legend.Legend at 0x7fa3ac07fb70>"
            ]
          },
          "metadata": {
            "tags": []
          },
          "execution_count": 10
        },
        {
          "output_type": "display_data",
          "data": {
            "image/png": "[encoded data removed]",
            "text/plain": [
              "<Figure size 432x288 with 1 Axes>"
            ]
          },
          "metadata": {
            "tags": []
          }
        }
      ]
    },
    {
      "cell_type": "code",
      "metadata": {
        "id": "Rq3XkanLnmf0",
        "colab_type": "code",
        "outputId": "64726313-57ee-4a88-87f4-c544df56dc78",
        "colab": {
          "base_uri": "https://localhost:8080/",
          "height": 755
        }
      },
      "source": [
        "# 7 epoch 정도 부터 Accuracy가 85~90% 사이에서 진동 함 , 앞에서와 동일하게 처음부터 다시 Network를 구성\n",
        "model = models.Sequential()\n",
        "model.add(layers.Dense(16, activation='tanh', input_shape=(30,)))\n",
        "model.add(layers.Dense(16, activation='tanh'))\n",
        "model.add(layers.Dense(1, activation='sigmoid'))\n",
        "\n",
        "model.compile(optimizer='Adagrad', loss='binary_crossentropy', metrics=['accuracy'])\n",
        "\n",
        "# fit method로 Training 시, epoch = 20로 Setting\n",
        "model.fit(x_train, y_train, epochs=20, batch_size=64)\n",
        "\n",
        "# evaluate method를 이용하여 입력 test data에 대한 loss, accuracy를 계산\n",
        "loss, accuracy = model.evaluate(x_test, y_test)"
      ],
      "execution_count": 0,
      "outputs": [
        {
          "output_type": "stream",
          "text": [
            "Epoch 1/20\n",
            "250/250 [==============================] - 0s 637us/step - loss: 0.8090 - acc: 0.4960\n",
            "Epoch 2/20\n",
            "250/250 [==============================] - 0s 73us/step - loss: 0.6275 - acc: 0.6040\n",
            "Epoch 3/20\n",
            "250/250 [==============================] - 0s 55us/step - loss: 0.5954 - acc: 0.6200\n",
            "Epoch 4/20\n",
            "250/250 [==============================] - 0s 65us/step - loss: 0.5813 - acc: 0.6200\n",
            "Epoch 5/20\n",
            "250/250 [==============================] - 0s 53us/step - loss: 0.5426 - acc: 0.6200\n",
            "Epoch 6/20\n",
            "250/250 [==============================] - 0s 53us/step - loss: 0.5445 - acc: 0.7560\n",
            "Epoch 7/20\n",
            "250/250 [==============================] - 0s 59us/step - loss: 0.5110 - acc: 0.8840\n",
            "Epoch 8/20\n",
            "250/250 [==============================] - 0s 58us/step - loss: 0.4973 - acc: 0.8800\n",
            "Epoch 9/20\n",
            "250/250 [==============================] - 0s 59us/step - loss: 0.4994 - acc: 0.8520\n",
            "Epoch 10/20\n",
            "250/250 [==============================] - 0s 63us/step - loss: 0.4749 - acc: 0.8840\n",
            "Epoch 11/20\n",
            "250/250 [==============================] - 0s 62us/step - loss: 0.4661 - acc: 0.9000\n",
            "Epoch 12/20\n",
            "250/250 [==============================] - 0s 53us/step - loss: 0.4649 - acc: 0.8760\n",
            "Epoch 13/20\n",
            "250/250 [==============================] - 0s 50us/step - loss: 0.4500 - acc: 0.8880\n",
            "Epoch 14/20\n",
            "250/250 [==============================] - 0s 54us/step - loss: 0.4683 - acc: 0.8680\n",
            "Epoch 15/20\n",
            "250/250 [==============================] - 0s 56us/step - loss: 0.4397 - acc: 0.9000\n",
            "Epoch 16/20\n",
            "250/250 [==============================] - 0s 69us/step - loss: 0.4310 - acc: 0.8880\n",
            "Epoch 17/20\n",
            "250/250 [==============================] - 0s 57us/step - loss: 0.4455 - acc: 0.8640\n",
            "Epoch 18/20\n",
            "250/250 [==============================] - 0s 69us/step - loss: 0.4425 - acc: 0.8840\n",
            "Epoch 19/20\n",
            "250/250 [==============================] - 0s 79us/step - loss: 0.4400 - acc: 0.8720\n",
            "Epoch 20/20\n",
            "250/250 [==============================] - 0s 63us/step - loss: 0.4212 - acc: 0.8920\n"
          ],
          "name": "stdout"
        },
        {
          "output_type": "execute_result",
          "data": {
            "text/plain": [
              "<keras.callbacks.History at 0x7fa3ac035dd8>"
            ]
          },
          "metadata": {
            "tags": []
          },
          "execution_count": 11
        },
        {
          "output_type": "stream",
          "text": [
            "169/169 [==============================] - 0s 246us/step\n"
          ],
          "name": "stdout"
        }
      ]
    },
    {
      "cell_type": "code",
      "metadata": {
        "id": "0-outCY6omvZ",
        "colab_type": "code",
        "outputId": "b78977c0-b6f6-418d-a425-53df964e2ab4",
        "colab": {
          "base_uri": "https://localhost:8080/",
          "height": 53
        }
      },
      "source": [
        "print('test_acc : ', accuracy)\n",
        "print('test_loss : ', loss)"
      ],
      "execution_count": 0,
      "outputs": [
        {
          "output_type": "stream",
          "text": [
            "test_acc :  0.9230769234296132\n",
            "test_loss :  0.363441382815852\n"
          ],
          "name": "stdout"
        }
      ]
    },
    {
      "cell_type": "markdown",
      "metadata": {
        "id": "ebLCoGlhsO-T",
        "colab_type": "text"
      },
      "source": [
        "## 추가 확인 사항\n",
        "(1) activation function으로 relu를 사용하는 경우, 결과가 일관되게 나오지 않음\n",
        "\n",
        "(2) activation function 또는 임의 초기값 설정의 문제로 생각되나 정확한 원인 확인 要\n",
        "\n",
        "(3) activation function을 tanh 로 변경한 후, 해당 문제는 해결된 것으로 보이나, 이 역시 면밀한 재 확인 要"
      ]
    },
    {
      "cell_type": "code",
      "metadata": {
        "id": "xG0CECG_sygK",
        "colab_type": "code",
        "colab": {}
      },
      "source": [
        ""
      ],
      "execution_count": 0,
      "outputs": []
    }
  ]
}