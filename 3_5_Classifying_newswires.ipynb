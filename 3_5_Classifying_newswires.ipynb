{
  "nbformat": 4,
  "nbformat_minor": 0,
  "metadata": {
    "colab": {
      "name": "3.5-Classifying-newswires.ipynb",
      "provenance": [],
      "collapsed_sections": [],
      "authorship_tag": "ABX9TyPoxkkW5qD0cDPL2NtHjNaw",
      "include_colab_link": true
    },
    "kernelspec": {
      "name": "python3",
      "display_name": "Python 3"
    },
    "accelerator": "GPU"
  },
  "cells": [
    {
      "cell_type": "markdown",
      "metadata": {
        "id": "view-in-github",
        "colab_type": "text"
      },
      "source": [
        "<a href=\"https://colab.research.google.com/github/ikukang/MLwithPython/blob/master/3_5_Classifying_newswires.ipynb\" target=\"_parent\"><img src=\"https://colab.research.google.com/assets/colab-badge.svg\" alt=\"Open In Colab\"/></a>"
      ]
    },
    {
      "cell_type": "code",
      "metadata": {
        "id": "j8jqU3SytLuE",
        "colab_type": "code",
        "colab": {}
      },
      "source": [
        "# 사용 상의 편의를 위한 Initial Setting \n",
        "\n",
        "# 실행결과를 한 창에 표시\n",
        "from IPython.core.interactiveshell import InteractiveShell\n",
        "InteractiveShell.ast_node_interactivity = \"all\"\n",
        "\n",
        "# numpy 소숫점 setting\n",
        "import numpy as np\n",
        "np.set_printoptions(precision=7)\n",
        "\n",
        "# pandas이용하여 grid display\n",
        "import numpy as np\n",
        "import pandas as pd\n",
        "pd.set_option('display.max_rows', None)          # 최대 표시 줄 수 제한 해제\n",
        "pd.set_option('display.max_columns', None)       # 최대 표시 컬럼 수 제한 해제\n",
        "pd.set_option('display.max_colwidth', -1)        # 컬럼내 데이터 표시 제한 해제\n",
        "\n",
        "# Warning Message hide\n",
        "import warnings\n",
        "warnings.filterwarnings('ignore')"
      ],
      "execution_count": 0,
      "outputs": []
    },
    {
      "cell_type": "code",
      "metadata": {
        "id": "5GiSN_K9uA-i",
        "colab_type": "code",
        "outputId": "a0da408a-667f-4e16-d024-df5211264188",
        "colab": {
          "base_uri": "https://localhost:8080/",
          "height": 100
        }
      },
      "source": [
        "import keras\n",
        "keras.__version__"
      ],
      "execution_count": 2,
      "outputs": [
        {
          "output_type": "stream",
          "text": [
            "Using TensorFlow backend.\n"
          ],
          "name": "stderr"
        },
        {
          "output_type": "display_data",
          "data": {
            "text/html": [
              "<p style=\"color: red;\">\n",
              "The default version of TensorFlow in Colab will soon switch to TensorFlow 2.x.<br>\n",
              "We recommend you <a href=\"https://www.tensorflow.org/guide/migrate\" target=\"_blank\">upgrade</a> now \n",
              "or ensure your notebook will continue to use TensorFlow 1.x via the <code>%tensorflow_version 1.x</code> magic:\n",
              "<a href=\"https://colab.research.google.com/notebooks/tensorflow_version.ipynb\" target=\"_blank\">more info</a>.</p>\n"
            ],
            "text/plain": [
              "<IPython.core.display.HTML object>"
            ]
          },
          "metadata": {
            "tags": []
          }
        },
        {
          "output_type": "execute_result",
          "data": {
            "text/plain": [
              "'2.2.5'"
            ]
          },
          "metadata": {
            "tags": []
          },
          "execution_count": 2
        }
      ]
    },
    {
      "cell_type": "markdown",
      "metadata": {
        "id": "sa8UkrgIvrqX",
        "colab_type": "text"
      },
      "source": [
        "# 다중 분류 (Reuter Dataset)\n",
        "Reuter Dataset은 46개의 배타적인 Topic으로 이루어진 Reuter News Dataset 임\n",
        "\n",
        "Train Data : 8982건, Test Data : 2246건\n",
        "\n",
        "데이터는 다음과 같이 전처리 되어 있음\n",
        "\n",
        "(1) 각 리뷰의 단어가 이에 대응하는 정수로 변환되어 있음\n",
        "\n",
        "(2) Train/Test Label은 0 ~ 45 까지 정수(총 46가지 Topic) 으로 구분되어 있음"
      ]
    },
    {
      "cell_type": "code",
      "metadata": {
        "id": "rWcDZe_zuE4s",
        "colab_type": "code",
        "outputId": "752dec0f-b966-4eca-fc93-a857513fcde4",
        "colab": {
          "base_uri": "https://localhost:8080/",
          "height": 53
        }
      },
      "source": [
        "from keras.datasets import reuters\n",
        "(train_data, train_label), (test_data, test_label) = reuters.load_data(num_words=10000)"
      ],
      "execution_count": 3,
      "outputs": [
        {
          "output_type": "stream",
          "text": [
            "Downloading data from https://s3.amazonaws.com/text-datasets/reuters.npz\n",
            "2113536/2110848 [==============================] - 0s 0us/step\n"
          ],
          "name": "stdout"
        }
      ]
    },
    {
      "cell_type": "code",
      "metadata": {
        "id": "QNnR_0KxuOlP",
        "colab_type": "code",
        "outputId": "d26e705e-145b-4122-afda-353c44a6a437",
        "colab": {
          "base_uri": "https://localhost:8080/",
          "height": 89
        }
      },
      "source": [
        "print(train_data.shape)\n",
        "print(train_label.shape)\n",
        "print(test_data.shape)\n",
        "print(test_data.shape)"
      ],
      "execution_count": 4,
      "outputs": [
        {
          "output_type": "stream",
          "text": [
            "(8982,)\n",
            "(8982,)\n",
            "(2246,)\n",
            "(2246,)\n"
          ],
          "name": "stdout"
        }
      ]
    },
    {
      "cell_type": "code",
      "metadata": {
        "id": "9-D8fbomu40e",
        "colab_type": "code",
        "outputId": "986d3b1b-0cf3-4903-9c9a-f5d32054c400",
        "colab": {
          "base_uri": "https://localhost:8080/",
          "height": 73
        }
      },
      "source": [
        "print(train_data[0])\n",
        "print(train_label[0])"
      ],
      "execution_count": 5,
      "outputs": [
        {
          "output_type": "stream",
          "text": [
            "[1, 2, 2, 8, 43, 10, 447, 5, 25, 207, 270, 5, 3095, 111, 16, 369, 186, 90, 67, 7, 89, 5, 19, 102, 6, 19, 124, 15, 90, 67, 84, 22, 482, 26, 7, 48, 4, 49, 8, 864, 39, 209, 154, 6, 151, 6, 83, 11, 15, 22, 155, 11, 15, 7, 48, 9, 4579, 1005, 504, 6, 258, 6, 272, 11, 15, 22, 134, 44, 11, 15, 16, 8, 197, 1245, 90, 67, 52, 29, 209, 30, 32, 132, 6, 109, 15, 17, 12]\n",
            "3\n"
          ],
          "name": "stdout"
        }
      ]
    },
    {
      "cell_type": "code",
      "metadata": {
        "id": "ZYB87vH9wy_s",
        "colab_type": "code",
        "outputId": "3650b797-8ed2-4714-b90b-ec081c21b2eb",
        "colab": {
          "base_uri": "https://localhost:8080/",
          "height": 71
        }
      },
      "source": [
        "word_index = reuters.get_word_index()\n",
        "reverse_word_index = dict([value, key] for (key, value) in word_index.items())\n",
        "decoded_newswire = ' '.join([reverse_word_index.get(i-3, '?') for i in train_data[10]])\n",
        "\n",
        "print(decoded_newswire)"
      ],
      "execution_count": 6,
      "outputs": [
        {
          "output_type": "stream",
          "text": [
            "Downloading data from https://s3.amazonaws.com/text-datasets/reuters_word_index.json\n",
            "557056/550378 [==============================] - 0s 0us/step\n",
            "? period ended december 31 shr profit 11 cts vs loss 24 cts net profit 224 271 vs loss 511 349 revs 7 258 688 vs 7 200 349 reuter 3\n"
          ],
          "name": "stdout"
        }
      ]
    },
    {
      "cell_type": "code",
      "metadata": {
        "id": "xAB_6KkOyW2U",
        "colab_type": "code",
        "outputId": "6927dac7-8aaa-4527-ebf3-507e8b00d47e",
        "colab": {
          "base_uri": "https://localhost:8080/",
          "height": 35
        }
      },
      "source": [
        "train_label[10]"
      ],
      "execution_count": 7,
      "outputs": [
        {
          "output_type": "execute_result",
          "data": {
            "text/plain": [
              "3"
            ]
          },
          "metadata": {
            "tags": []
          },
          "execution_count": 7
        }
      ]
    },
    {
      "cell_type": "code",
      "metadata": {
        "id": "4fH5ri_Pz2cR",
        "colab_type": "code",
        "colab": {}
      },
      "source": [
        "# 전처리 하여 숫자만으로 구성된 리스트를 신경망에 바로 주입 할 수 없으므로, \n",
        "# (1)이를 Matrix(2차원 텐서)로 변환\n",
        "# (2) 각 row(숫자로 구성되어 있는 전처리된 리뷰)의 개별 숫자값을 column 값으로 하여, 해당  (row, column)의 0 값 -> 1 로 변경\n",
        "\n",
        "import numpy as np\n",
        "\n",
        "def vectorized_sequence(rows, dimension = 10000):\n",
        "    results = np.zeros((len(rows), dimension))\n",
        "\n",
        "    for i, col in enumerate(rows):\n",
        "        results[i, col] = 1.\n",
        "    \n",
        "    return results\n",
        "\n",
        "x_train = vectorized_sequence(train_data)\n",
        "x_test = vectorized_sequence(test_data)"
      ],
      "execution_count": 0,
      "outputs": []
    },
    {
      "cell_type": "code",
      "metadata": {
        "id": "iX8WQ7Gn04Xm",
        "colab_type": "code",
        "outputId": "f2394e81-9a02-4f4f-8682-dd54590fa0d8",
        "colab": {
          "base_uri": "https://localhost:8080/",
          "height": 53
        }
      },
      "source": [
        "print(x_train.shape)\n",
        "print(x_test.shape)"
      ],
      "execution_count": 9,
      "outputs": [
        {
          "output_type": "stream",
          "text": [
            "(8982, 10000)\n",
            "(2246, 10000)\n"
          ],
          "name": "stdout"
        }
      ]
    },
    {
      "cell_type": "code",
      "metadata": {
        "id": "TJYllEG51Tyo",
        "colab_type": "code",
        "colab": {}
      },
      "source": [
        "def to_one_hot(labels, dimension=46):\n",
        "    results = np.zeros((len(labels), dimension))\n",
        "\n",
        "    for i, col in enumerate(labels):\n",
        "        results[i, col] = 1.\n",
        "    \n",
        "    return results\n",
        "\n",
        "onehot_train_label = to_one_hot(train_label)\n",
        "onehot_test_label = to_one_hot(test_label)\n"
      ],
      "execution_count": 0,
      "outputs": []
    },
    {
      "cell_type": "code",
      "metadata": {
        "id": "PkyoxY3D4Es_",
        "colab_type": "code",
        "outputId": "8ee8ad61-e7d1-4c69-83db-12c8d6dea612",
        "colab": {
          "base_uri": "https://localhost:8080/",
          "height": 53
        }
      },
      "source": [
        "print(onehot_train_label.shape)\n",
        "print(onehot_test_label.shape)"
      ],
      "execution_count": 11,
      "outputs": [
        {
          "output_type": "stream",
          "text": [
            "(8982, 46)\n",
            "(2246, 46)\n"
          ],
          "name": "stdout"
        }
      ]
    },
    {
      "cell_type": "code",
      "metadata": {
        "id": "nTwPfp324LPc",
        "colab_type": "code",
        "outputId": "280163d6-8957-4c5d-cbe7-9e9300f9e98c",
        "colab": {
          "base_uri": "https://localhost:8080/",
          "height": 125
        }
      },
      "source": [
        "onehot_test_label[0:2]"
      ],
      "execution_count": 12,
      "outputs": [
        {
          "output_type": "execute_result",
          "data": {
            "text/plain": [
              "array([[0., 0., 0., 1., 0., 0., 0., 0., 0., 0., 0., 0., 0., 0., 0., 0.,\n",
              "        0., 0., 0., 0., 0., 0., 0., 0., 0., 0., 0., 0., 0., 0., 0., 0.,\n",
              "        0., 0., 0., 0., 0., 0., 0., 0., 0., 0., 0., 0., 0., 0.],\n",
              "       [0., 0., 0., 0., 0., 0., 0., 0., 0., 0., 1., 0., 0., 0., 0., 0.,\n",
              "        0., 0., 0., 0., 0., 0., 0., 0., 0., 0., 0., 0., 0., 0., 0., 0.,\n",
              "        0., 0., 0., 0., 0., 0., 0., 0., 0., 0., 0., 0., 0., 0.]])"
            ]
          },
          "metadata": {
            "tags": []
          },
          "execution_count": 12
        }
      ]
    },
    {
      "cell_type": "code",
      "metadata": {
        "id": "tbven1SS7iHI",
        "colab_type": "code",
        "colab": {}
      },
      "source": [
        "# to_categorical function을 사용하여 onehot과 동일하게 구현 가능\n",
        "from keras.utils.np_utils import to_categorical\n",
        "\n",
        "one_hot_train_label = to_categorical(train_label)\n",
        "one_hot_test_label = to_categorical(test_label)"
      ],
      "execution_count": 0,
      "outputs": []
    },
    {
      "cell_type": "code",
      "metadata": {
        "id": "6d6muEtg8evB",
        "colab_type": "code",
        "outputId": "97394d80-cca4-4594-d5ab-92eae5c33eb9",
        "colab": {
          "base_uri": "https://localhost:8080/",
          "height": 143
        }
      },
      "source": [
        "one_hot_test_label[1]\n",
        "print('\\n')\n",
        "onehot_test_label[1]"
      ],
      "execution_count": 14,
      "outputs": [
        {
          "output_type": "execute_result",
          "data": {
            "text/plain": [
              "array([0., 0., 0., 0., 0., 0., 0., 0., 0., 0., 1., 0., 0., 0., 0., 0., 0.,\n",
              "       0., 0., 0., 0., 0., 0., 0., 0., 0., 0., 0., 0., 0., 0., 0., 0., 0.,\n",
              "       0., 0., 0., 0., 0., 0., 0., 0., 0., 0., 0., 0.], dtype=float32)"
            ]
          },
          "metadata": {
            "tags": []
          },
          "execution_count": 14
        },
        {
          "output_type": "stream",
          "text": [
            "\n",
            "\n"
          ],
          "name": "stdout"
        },
        {
          "output_type": "execute_result",
          "data": {
            "text/plain": [
              "array([0., 0., 0., 0., 0., 0., 0., 0., 0., 0., 1., 0., 0., 0., 0., 0., 0.,\n",
              "       0., 0., 0., 0., 0., 0., 0., 0., 0., 0., 0., 0., 0., 0., 0., 0., 0.,\n",
              "       0., 0., 0., 0., 0., 0., 0., 0., 0., 0., 0., 0.])"
            ]
          },
          "metadata": {
            "tags": []
          },
          "execution_count": 14
        }
      ]
    },
    {
      "cell_type": "code",
      "metadata": {
        "id": "RaN5tE3-8hE_",
        "colab_type": "code",
        "outputId": "3e71e176-9f72-438d-f5be-2361def25976",
        "colab": {
          "base_uri": "https://localhost:8080/",
          "height": 125
        }
      },
      "source": [
        "from keras import models, layers\n",
        "\n",
        "network = models.Sequential()\n",
        "network.add(layers.Dense(512, activation='relu', input_shape=(10000,)))\n",
        "network.add(layers.Dense(128, activation='relu'))\n",
        "network.add(layers.Dense(46, activation='softmax'))"
      ],
      "execution_count": 15,
      "outputs": [
        {
          "output_type": "stream",
          "text": [
            "WARNING:tensorflow:From /usr/local/lib/python3.6/dist-packages/keras/backend/tensorflow_backend.py:66: The name tf.get_default_graph is deprecated. Please use tf.compat.v1.get_default_graph instead.\n",
            "\n",
            "WARNING:tensorflow:From /usr/local/lib/python3.6/dist-packages/keras/backend/tensorflow_backend.py:541: The name tf.placeholder is deprecated. Please use tf.compat.v1.placeholder instead.\n",
            "\n",
            "WARNING:tensorflow:From /usr/local/lib/python3.6/dist-packages/keras/backend/tensorflow_backend.py:4432: The name tf.random_uniform is deprecated. Please use tf.random.uniform instead.\n",
            "\n"
          ],
          "name": "stdout"
        }
      ]
    },
    {
      "cell_type": "code",
      "metadata": {
        "id": "l4spy1eO9Bmw",
        "colab_type": "code",
        "outputId": "e151b8c7-8bf9-4c88-dc8d-036e9fc11f06",
        "colab": {
          "base_uri": "https://localhost:8080/",
          "height": 89
        }
      },
      "source": [
        "network.compile(optimizer='rmsprop', loss='categorical_crossentropy', metrics=['acc'])"
      ],
      "execution_count": 16,
      "outputs": [
        {
          "output_type": "stream",
          "text": [
            "WARNING:tensorflow:From /usr/local/lib/python3.6/dist-packages/keras/optimizers.py:793: The name tf.train.Optimizer is deprecated. Please use tf.compat.v1.train.Optimizer instead.\n",
            "\n",
            "WARNING:tensorflow:From /usr/local/lib/python3.6/dist-packages/keras/backend/tensorflow_backend.py:3576: The name tf.log is deprecated. Please use tf.math.log instead.\n",
            "\n"
          ],
          "name": "stdout"
        }
      ]
    },
    {
      "cell_type": "code",
      "metadata": {
        "id": "NC1IjHf8-Fa4",
        "colab_type": "code",
        "outputId": "91b03862-117e-42c4-d631-2e63194d5b43",
        "colab": {
          "base_uri": "https://localhost:8080/",
          "height": 89
        }
      },
      "source": [
        "x_val = x_train[:2000]\n",
        "y_val = one_hot_train_label[:2000]\n",
        "\n",
        "partial_x_train = x_train[2000:]\n",
        "partial_y_train = one_hot_train_label[2000:]\n",
        "\n",
        "print(x_val.shape)\n",
        "print(y_val.shape)\n",
        "print(partial_x_train.shape)\n",
        "print(partial_y_train.shape)"
      ],
      "execution_count": 17,
      "outputs": [
        {
          "output_type": "stream",
          "text": [
            "(2000, 10000)\n",
            "(2000, 46)\n",
            "(6982, 10000)\n",
            "(6982, 46)\n"
          ],
          "name": "stdout"
        }
      ]
    },
    {
      "cell_type": "code",
      "metadata": {
        "id": "fV7fi_RM-2t8",
        "colab_type": "code",
        "outputId": "b3e191ae-b496-44b5-d31c-42e1d4991888",
        "colab": {
          "base_uri": "https://localhost:8080/",
          "height": 1000
        }
      },
      "source": [
        "history = network.fit(partial_x_train, partial_y_train, batch_size=512, epochs=20, validation_data=(x_val, y_val))"
      ],
      "execution_count": 18,
      "outputs": [
        {
          "output_type": "stream",
          "text": [
            "WARNING:tensorflow:From /usr/local/lib/python3.6/dist-packages/tensorflow_core/python/ops/math_grad.py:1424: where (from tensorflow.python.ops.array_ops) is deprecated and will be removed in a future version.\n",
            "Instructions for updating:\n",
            "Use tf.where in 2.0, which has the same broadcast rule as np.where\n",
            "WARNING:tensorflow:From /usr/local/lib/python3.6/dist-packages/keras/backend/tensorflow_backend.py:1033: The name tf.assign_add is deprecated. Please use tf.compat.v1.assign_add instead.\n",
            "\n",
            "WARNING:tensorflow:From /usr/local/lib/python3.6/dist-packages/keras/backend/tensorflow_backend.py:1020: The name tf.assign is deprecated. Please use tf.compat.v1.assign instead.\n",
            "\n",
            "WARNING:tensorflow:From /usr/local/lib/python3.6/dist-packages/keras/backend/tensorflow_backend.py:3005: The name tf.Session is deprecated. Please use tf.compat.v1.Session instead.\n",
            "\n",
            "Train on 6982 samples, validate on 2000 samples\n",
            "Epoch 1/20\n",
            "WARNING:tensorflow:From /usr/local/lib/python3.6/dist-packages/keras/backend/tensorflow_backend.py:190: The name tf.get_default_session is deprecated. Please use tf.compat.v1.get_default_session instead.\n",
            "\n",
            "WARNING:tensorflow:From /usr/local/lib/python3.6/dist-packages/keras/backend/tensorflow_backend.py:197: The name tf.ConfigProto is deprecated. Please use tf.compat.v1.ConfigProto instead.\n",
            "\n",
            "WARNING:tensorflow:From /usr/local/lib/python3.6/dist-packages/keras/backend/tensorflow_backend.py:207: The name tf.global_variables is deprecated. Please use tf.compat.v1.global_variables instead.\n",
            "\n",
            "WARNING:tensorflow:From /usr/local/lib/python3.6/dist-packages/keras/backend/tensorflow_backend.py:216: The name tf.is_variable_initialized is deprecated. Please use tf.compat.v1.is_variable_initialized instead.\n",
            "\n",
            "WARNING:tensorflow:From /usr/local/lib/python3.6/dist-packages/keras/backend/tensorflow_backend.py:223: The name tf.variables_initializer is deprecated. Please use tf.compat.v1.variables_initializer instead.\n",
            "\n",
            "6982/6982 [==============================] - 10s 1ms/step - loss: 1.9880 - acc: 0.5791 - val_loss: 1.3429 - val_acc: 0.6920\n",
            "Epoch 2/20\n",
            "6982/6982 [==============================] - 0s 71us/step - loss: 0.8908 - acc: 0.8064 - val_loss: 1.0823 - val_acc: 0.7735\n",
            "Epoch 3/20\n",
            "6982/6982 [==============================] - 0s 71us/step - loss: 0.5296 - acc: 0.8926 - val_loss: 0.9557 - val_acc: 0.7965\n",
            "Epoch 4/20\n",
            "6982/6982 [==============================] - 0s 70us/step - loss: 0.3377 - acc: 0.9268 - val_loss: 0.9497 - val_acc: 0.7955\n",
            "Epoch 5/20\n",
            "6982/6982 [==============================] - 0s 71us/step - loss: 0.2605 - acc: 0.9421 - val_loss: 0.9173 - val_acc: 0.8160\n",
            "Epoch 6/20\n",
            "6982/6982 [==============================] - 0s 69us/step - loss: 0.1842 - acc: 0.9549 - val_loss: 0.9503 - val_acc: 0.8030\n",
            "Epoch 7/20\n",
            "6982/6982 [==============================] - 0s 70us/step - loss: 0.1572 - acc: 0.9567 - val_loss: 0.9810 - val_acc: 0.8085\n",
            "Epoch 8/20\n",
            "6982/6982 [==============================] - 0s 69us/step - loss: 0.1493 - acc: 0.9582 - val_loss: 1.0616 - val_acc: 0.7995\n",
            "Epoch 9/20\n",
            "6982/6982 [==============================] - 0s 69us/step - loss: 0.1280 - acc: 0.9605 - val_loss: 1.0837 - val_acc: 0.7915\n",
            "Epoch 10/20\n",
            "6982/6982 [==============================] - 0s 70us/step - loss: 0.1177 - acc: 0.9616 - val_loss: 1.0578 - val_acc: 0.7995\n",
            "Epoch 11/20\n",
            "6982/6982 [==============================] - 0s 71us/step - loss: 0.1137 - acc: 0.9608 - val_loss: 1.1231 - val_acc: 0.7900\n",
            "Epoch 12/20\n",
            "6982/6982 [==============================] - 0s 70us/step - loss: 0.1079 - acc: 0.9619 - val_loss: 1.1946 - val_acc: 0.7740\n",
            "Epoch 13/20\n",
            "6982/6982 [==============================] - 0s 70us/step - loss: 0.1055 - acc: 0.9606 - val_loss: 1.1967 - val_acc: 0.7820\n",
            "Epoch 14/20\n",
            "6982/6982 [==============================] - 0s 69us/step - loss: 0.0984 - acc: 0.9619 - val_loss: 1.1320 - val_acc: 0.8015\n",
            "Epoch 15/20\n",
            "6982/6982 [==============================] - 1s 72us/step - loss: 0.0941 - acc: 0.9625 - val_loss: 1.1310 - val_acc: 0.7955\n",
            "Epoch 16/20\n",
            "6982/6982 [==============================] - 0s 69us/step - loss: 0.0911 - acc: 0.9620 - val_loss: 1.2012 - val_acc: 0.7895\n",
            "Epoch 17/20\n",
            "6982/6982 [==============================] - 0s 70us/step - loss: 0.0867 - acc: 0.9622 - val_loss: 1.2806 - val_acc: 0.7895\n",
            "Epoch 18/20\n",
            "6982/6982 [==============================] - 0s 70us/step - loss: 0.0866 - acc: 0.9619 - val_loss: 1.2219 - val_acc: 0.7940\n",
            "Epoch 19/20\n",
            "6982/6982 [==============================] - 0s 71us/step - loss: 0.0822 - acc: 0.9606 - val_loss: 1.2764 - val_acc: 0.7825\n",
            "Epoch 20/20\n",
            "6982/6982 [==============================] - 0s 70us/step - loss: 0.0773 - acc: 0.9622 - val_loss: 1.3517 - val_acc: 0.7845\n"
          ],
          "name": "stdout"
        }
      ]
    },
    {
      "cell_type": "code",
      "metadata": {
        "id": "RJQi_6Dn_a2p",
        "colab_type": "code",
        "outputId": "4e65014b-7e81-406b-f451-00df2a550854",
        "colab": {
          "base_uri": "https://localhost:8080/",
          "height": 269
        }
      },
      "source": [
        "network.summary()"
      ],
      "execution_count": 19,
      "outputs": [
        {
          "output_type": "stream",
          "text": [
            "Model: \"sequential_1\"\n",
            "_________________________________________________________________\n",
            "Layer (type)                 Output Shape              Param #   \n",
            "=================================================================\n",
            "dense_1 (Dense)              (None, 512)               5120512   \n",
            "_________________________________________________________________\n",
            "dense_2 (Dense)              (None, 128)               65664     \n",
            "_________________________________________________________________\n",
            "dense_3 (Dense)              (None, 46)                5934      \n",
            "=================================================================\n",
            "Total params: 5,192,110\n",
            "Trainable params: 5,192,110\n",
            "Non-trainable params: 0\n",
            "_________________________________________________________________\n"
          ],
          "name": "stdout"
        }
      ]
    },
    {
      "cell_type": "code",
      "metadata": {
        "id": "PBS90clN_qF-",
        "colab_type": "code",
        "outputId": "5dc2eeba-da9e-44b7-a524-aa8028300921",
        "colab": {
          "base_uri": "https://localhost:8080/",
          "height": 313
        }
      },
      "source": [
        "# Training & Validation Loss Graph\n",
        "import matplotlib.pyplot as plt\n",
        "\n",
        "loss = history.history['loss']\n",
        "val_loss = history.history['val_loss']\n",
        "\n",
        "epochs = range(1, len(loss) + 1)\n",
        "\n",
        "plt.plot(epochs, loss, 'r', label='Training loss')\n",
        "plt.plot(epochs, val_loss, 'b', label='Validation loss')\n",
        "plt.title('Training and validation loss')\n",
        "plt.xlabel('Epochs')\n",
        "plt.ylabel('Loss')\n",
        "plt.legend()\n",
        "\n",
        "plt.show()"
      ],
      "execution_count": 20,
      "outputs": [
        {
          "output_type": "execute_result",
          "data": {
            "text/plain": [
              "[<matplotlib.lines.Line2D at 0x7f6d52db0dd8>]"
            ]
          },
          "metadata": {
            "tags": []
          },
          "execution_count": 20
        },
        {
          "output_type": "execute_result",
          "data": {
            "text/plain": [
              "[<matplotlib.lines.Line2D at 0x7f6d52580630>]"
            ]
          },
          "metadata": {
            "tags": []
          },
          "execution_count": 20
        },
        {
          "output_type": "execute_result",
          "data": {
            "text/plain": [
              "Text(0.5, 1.0, 'Training and validation loss')"
            ]
          },
          "metadata": {
            "tags": []
          },
          "execution_count": 20
        },
        {
          "output_type": "execute_result",
          "data": {
            "text/plain": [
              "Text(0.5, 0, 'Epochs')"
            ]
          },
          "metadata": {
            "tags": []
          },
          "execution_count": 20
        },
        {
          "output_type": "execute_result",
          "data": {
            "text/plain": [
              "Text(0, 0.5, 'Loss')"
            ]
          },
          "metadata": {
            "tags": []
          },
          "execution_count": 20
        },
        {
          "output_type": "execute_result",
          "data": {
            "text/plain": [
              "<matplotlib.legend.Legend at 0x7f6d52d7e550>"
            ]
          },
          "metadata": {
            "tags": []
          },
          "execution_count": 20
        },
        {
          "output_type": "display_data",
          "data": {
            "image/png": "[encoded data removed]",
            "text/plain": [
              "<Figure size 432x288 with 1 Axes>"
            ]
          },
          "metadata": {
            "tags": []
          }
        }
      ]
    },
    {
      "cell_type": "code",
      "metadata": {
        "id": "6NopIGtgAVfn",
        "colab_type": "code",
        "outputId": "29a19c51-1a6e-43d1-b9ef-8370493f2cd3",
        "colab": {
          "base_uri": "https://localhost:8080/",
          "height": 313
        }
      },
      "source": [
        "# Training & Validation Accuracy Graph\n",
        "plt.clf()   # 그래프 초기화\n",
        "\n",
        "acc = history.history['acc']\n",
        "val_acc = history.history['val_acc']\n",
        "\n",
        "plt.plot(epochs, acc, 'r', label='Training acc')\n",
        "plt.plot(epochs, val_acc, 'b', label='Validation acc')\n",
        "plt.title('Training and validation accuracy')\n",
        "plt.xlabel('Epochs')\n",
        "plt.ylabel('Accuracy')\n",
        "plt.legend()\n",
        "\n",
        "plt.show()"
      ],
      "execution_count": 21,
      "outputs": [
        {
          "output_type": "execute_result",
          "data": {
            "text/plain": [
              "[<matplotlib.lines.Line2D at 0x7f6d52ee85f8>]"
            ]
          },
          "metadata": {
            "tags": []
          },
          "execution_count": 21
        },
        {
          "output_type": "execute_result",
          "data": {
            "text/plain": [
              "[<matplotlib.lines.Line2D at 0x7f6d52507d68>]"
            ]
          },
          "metadata": {
            "tags": []
          },
          "execution_count": 21
        },
        {
          "output_type": "execute_result",
          "data": {
            "text/plain": [
              "Text(0.5, 1.0, 'Training and validation accuracy')"
            ]
          },
          "metadata": {
            "tags": []
          },
          "execution_count": 21
        },
        {
          "output_type": "execute_result",
          "data": {
            "text/plain": [
              "Text(0.5, 0, 'Epochs')"
            ]
          },
          "metadata": {
            "tags": []
          },
          "execution_count": 21
        },
        {
          "output_type": "execute_result",
          "data": {
            "text/plain": [
              "Text(0, 0.5, 'Accuracy')"
            ]
          },
          "metadata": {
            "tags": []
          },
          "execution_count": 21
        },
        {
          "output_type": "execute_result",
          "data": {
            "text/plain": [
              "<matplotlib.legend.Legend at 0x7f6d52ec6fd0>"
            ]
          },
          "metadata": {
            "tags": []
          },
          "execution_count": 21
        },
        {
          "output_type": "display_data",
          "data": {
            "image/png": "[encoded data removed]",
            "text/plain": [
              "<Figure size 432x288 with 1 Axes>"
            ]
          },
          "metadata": {
            "tags": []
          }
        }
      ]
    },
    {
      "cell_type": "code",
      "metadata": {
        "id": "aa-_ch79AV2K",
        "colab_type": "code",
        "outputId": "cdbe0791-9603-42d9-e546-ecd7a197da5e",
        "colab": {
          "base_uri": "https://localhost:8080/",
          "height": 233
        }
      },
      "source": [
        "# 위의 그래프에서 epoch = 5를 초과하면 과적합이 발생함을 알 수 있으므로, epoch=8로 Network을 다시 구성\n",
        "model = models.Sequential()\n",
        "model.add(layers.Dense(512, activation='relu', input_shape=(10000,)))\n",
        "model.add(layers.Dense(128, activation='relu'))\n",
        "model.add(layers.Dense(46, activation='softmax'))\n",
        "\n",
        "model.compile(optimizer='rmsprop', loss='categorical_crossentropy', metrics=['accuracy'])\n",
        "\n",
        "# fit method로 Training 시, epoch = 8로 Setting 하여 과적합 방지\n",
        "model.fit(partial_x_train, partial_y_train, epochs=5, batch_size=512, validation_data=(x_val, y_val))\n",
        "\n",
        "# evaluate method를 이용하여  test data에 대한 loss, accuracy를 계산\n",
        "loss, accuracy = model.evaluate(x_test, one_hot_test_label)"
      ],
      "execution_count": 22,
      "outputs": [
        {
          "output_type": "stream",
          "text": [
            "Train on 6982 samples, validate on 2000 samples\n",
            "Epoch 1/5\n",
            "6982/6982 [==============================] - 1s 104us/step - loss: 1.9511 - acc: 0.5610 - val_loss: 1.3008 - val_acc: 0.7130\n",
            "Epoch 2/5\n",
            "6982/6982 [==============================] - 0s 70us/step - loss: 0.8620 - acc: 0.8108 - val_loss: 1.0347 - val_acc: 0.7800\n",
            "Epoch 3/5\n",
            "6982/6982 [==============================] - 0s 70us/step - loss: 0.5344 - acc: 0.8866 - val_loss: 0.9731 - val_acc: 0.7935\n",
            "Epoch 4/5\n",
            "6982/6982 [==============================] - 0s 70us/step - loss: 0.3247 - acc: 0.9318 - val_loss: 1.0530 - val_acc: 0.7685\n",
            "Epoch 5/5\n",
            "6982/6982 [==============================] - 0s 69us/step - loss: 0.2284 - acc: 0.9474 - val_loss: 1.0065 - val_acc: 0.7975\n"
          ],
          "name": "stdout"
        },
        {
          "output_type": "execute_result",
          "data": {
            "text/plain": [
              "<keras.callbacks.History at 0x7f6d51c55f98>"
            ]
          },
          "metadata": {
            "tags": []
          },
          "execution_count": 22
        },
        {
          "output_type": "stream",
          "text": [
            "2246/2246 [==============================] - 0s 80us/step\n"
          ],
          "name": "stdout"
        }
      ]
    },
    {
      "cell_type": "code",
      "metadata": {
        "id": "Il1vwAigAkux",
        "colab_type": "code",
        "outputId": "4353436b-3eb9-4c41-e2b2-b8455b3d4641",
        "colab": {
          "base_uri": "https://localhost:8080/",
          "height": 53
        }
      },
      "source": [
        "print('test_acc : ', accuracy)\n",
        "print('test_loss : ', loss)"
      ],
      "execution_count": 23,
      "outputs": [
        {
          "output_type": "stream",
          "text": [
            "test_acc :  0.7729296527424776\n",
            "test_loss :  1.0373105966715757\n"
          ],
          "name": "stdout"
        }
      ]
    },
    {
      "cell_type": "code",
      "metadata": {
        "id": "g7u4SX7OAuDE",
        "colab_type": "code",
        "outputId": "1c4ec638-6ab4-4bae-b6e4-fb9bf2f249fd",
        "colab": {
          "base_uri": "https://localhost:8080/",
          "height": 35
        }
      },
      "source": [
        "# 불균형한 Dataset을 사용하여 무작위로 분류 시 확률\n",
        "\n",
        "import copy\n",
        "test_label_copy = copy.copy(test_label)\n",
        "np.random.shuffle(test_label_copy)\n",
        "hits_array = np.array((test_label) == np.array(test_label_copy))\n",
        "\n",
        "float(np.sum(hits_array)) / len(test_label)"
      ],
      "execution_count": 24,
      "outputs": [
        {
          "output_type": "execute_result",
          "data": {
            "text/plain": [
              "0.18477292965271594"
            ]
          },
          "metadata": {
            "tags": []
          },
          "execution_count": 24
        }
      ]
    },
    {
      "cell_type": "code",
      "metadata": {
        "id": "oz408C8oGx3v",
        "colab_type": "code",
        "outputId": "c7bab290-3d83-4605-f7fc-84e1790d7de7",
        "colab": {
          "base_uri": "https://localhost:8080/",
          "height": 71
        }
      },
      "source": [
        "np.sum(hits_array)\n",
        "print('\\n')\n",
        "len(test_label)       "
      ],
      "execution_count": 25,
      "outputs": [
        {
          "output_type": "execute_result",
          "data": {
            "text/plain": [
              "415"
            ]
          },
          "metadata": {
            "tags": []
          },
          "execution_count": 25
        },
        {
          "output_type": "stream",
          "text": [
            "\n",
            "\n"
          ],
          "name": "stdout"
        },
        {
          "output_type": "execute_result",
          "data": {
            "text/plain": [
              "2246"
            ]
          },
          "metadata": {
            "tags": []
          },
          "execution_count": 25
        }
      ]
    },
    {
      "cell_type": "code",
      "metadata": {
        "id": "Dw3S7HTTIEQH",
        "colab_type": "code",
        "colab": {}
      },
      "source": [
        "predictions = model.predict(x_test)"
      ],
      "execution_count": 0,
      "outputs": []
    },
    {
      "cell_type": "code",
      "metadata": {
        "id": "qOS2n_RbMT2N",
        "colab_type": "code",
        "outputId": "88fd99dd-f369-4768-86ff-eb075bb866b9",
        "colab": {
          "base_uri": "https://localhost:8080/",
          "height": 377
        }
      },
      "source": [
        "predictions.shape\n",
        "print('\\n')\n",
        "predictions[0]\n",
        "print('\\n')\n",
        "np.argmax(predictions[1])\n",
        "print('\\n')\n",
        "test_label[1]\n",
        "\n",
        "cnt = 0\n",
        "for i in range(len(test_label)):\n",
        "    if np.argmax(predictions[i]) == test_label[i]:\n",
        "        cnt += 1\n",
        "\n",
        "print('\\n')\n",
        "print(float(cnt)/len(test_label))"
      ],
      "execution_count": 27,
      "outputs": [
        {
          "output_type": "execute_result",
          "data": {
            "text/plain": [
              "(2246, 46)"
            ]
          },
          "metadata": {
            "tags": []
          },
          "execution_count": 27
        },
        {
          "output_type": "stream",
          "text": [
            "\n",
            "\n"
          ],
          "name": "stdout"
        },
        {
          "output_type": "execute_result",
          "data": {
            "text/plain": [
              "array([5.8728590e-05, 1.2595147e-03, 4.0111163e-06, 8.7827820e-01,\n",
              "       1.1482053e-01, 5.4524658e-06, 2.0028204e-04, 1.9998266e-05,\n",
              "       7.8994530e-04, 4.5513698e-05, 3.3000510e-05, 2.1495388e-04,\n",
              "       5.2874057e-05, 3.8155826e-04, 4.1244937e-05, 4.1767151e-05,\n",
              "       9.1728684e-04, 1.3761489e-05, 1.0492573e-04, 1.3645706e-04,\n",
              "       9.3227252e-04, 1.5460857e-04, 2.2085436e-05, 6.8495669e-05,\n",
              "       3.5490146e-05, 1.1886971e-05, 3.6351885e-06, 2.6284068e-05,\n",
              "       1.0867142e-04, 8.6421729e-05, 1.3747132e-04, 7.9835800e-06,\n",
              "       2.1525471e-05, 3.2933607e-05, 6.7157780e-05, 1.0943113e-06,\n",
              "       5.6022219e-04, 1.8528017e-05, 3.9419338e-05, 1.0241237e-04,\n",
              "       1.1081593e-06, 2.2032695e-05, 6.1534418e-05, 5.0665898e-05,\n",
              "       2.1403334e-06, 3.9155916e-06], dtype=float32)"
            ]
          },
          "metadata": {
            "tags": []
          },
          "execution_count": 27
        },
        {
          "output_type": "stream",
          "text": [
            "\n",
            "\n"
          ],
          "name": "stdout"
        },
        {
          "output_type": "execute_result",
          "data": {
            "text/plain": [
              "10"
            ]
          },
          "metadata": {
            "tags": []
          },
          "execution_count": 27
        },
        {
          "output_type": "stream",
          "text": [
            "\n",
            "\n"
          ],
          "name": "stdout"
        },
        {
          "output_type": "execute_result",
          "data": {
            "text/plain": [
              "10"
            ]
          },
          "metadata": {
            "tags": []
          },
          "execution_count": 27
        },
        {
          "output_type": "stream",
          "text": [
            "\n",
            "\n",
            "0.7729296527159395\n"
          ],
          "name": "stdout"
        }
      ]
    }
  ]
}