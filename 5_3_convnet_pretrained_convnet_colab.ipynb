{
  "nbformat": 4,
  "nbformat_minor": 0,
  "metadata": {
    "colab": {
      "name": "5.3 convnet_pretrained_convnet_colab.ipynb",
      "provenance": [],
      "collapsed_sections": [],
      "include_colab_link": true
    },
    "kernelspec": {
      "name": "python3",
      "display_name": "Python 3"
    },
    "accelerator": "GPU"
  },
  "cells": [
    {
      "cell_type": "markdown",
      "metadata": {
        "id": "view-in-github",
        "colab_type": "text"
      },
      "source": [
        "<a href=\"https://colab.research.google.com/github/ikukang/MLwithPython/blob/master/5_3_convnet_pretrained_convnet_colab.ipynb\" target=\"_parent\"><img src=\"https://colab.research.google.com/assets/colab-badge.svg\" alt=\"Open In Colab\"/></a>"
      ]
    },
    {
      "cell_type": "code",
      "metadata": {
        "id": "Cz32Vl1zkyQh",
        "colab_type": "code",
        "outputId": "7aff081c-60fd-4d2f-d4cb-fa4dbcae322e",
        "colab": {
          "base_uri": "https://localhost:8080/",
          "height": 35
        }
      },
      "source": [
        "from google.colab import drive\n",
        "drive.mount('/gdrive', force_remount=True)"
      ],
      "execution_count": 1,
      "outputs": [
        {
          "output_type": "stream",
          "text": [
            "Mounted at /gdrive\n"
          ],
          "name": "stdout"
        }
      ]
    },
    {
      "cell_type": "code",
      "metadata": {
        "id": "gHmRmB3OlEGc",
        "colab_type": "code",
        "colab": {}
      },
      "source": [
        "import os \n",
        "import shutil\n",
        "\n",
        "base_dir = '/gdrive/My Drive/Colab Notebooks/datasets/cats_and_dogs_small'\n",
        "base_root_dir = '/gdrive/My Drive/Colab Notebooks/datasets/'\n",
        "train_dir = os.path.join(base_dir, 'train')\n",
        "validation_dir = os.path.join(base_dir, 'validation')\n",
        "test_dir = os.path.join(base_dir, 'test')\n",
        "train_cats_dir = os.path.join(train_dir, 'cats')\n",
        "train_dogs_dir = os.path.join(train_dir, 'dogs')\n",
        "validation_cats_dir = os.path.join(validation_dir, 'cats')\n",
        "validation_dogs_dir = os.path.join(validation_dir, 'dogs')\n",
        "test_cats_dir = os.path.join(test_dir, 'cats')\n",
        "test_dogs_dir = os.path.join(test_dir, 'dogs')"
      ],
      "execution_count": 0,
      "outputs": []
    },
    {
      "cell_type": "code",
      "metadata": {
        "scrolled": true,
        "id": "I2XFnaUNhfki",
        "colab_type": "code",
        "outputId": "a0b8a178-a9c2-4be9-a2a0-cd04ee2e874d",
        "colab": {
          "base_uri": "https://localhost:8080/",
          "height": 100
        }
      },
      "source": [
        "import keras\n",
        "keras.__version__"
      ],
      "execution_count": 3,
      "outputs": [
        {
          "output_type": "stream",
          "text": [
            "Using TensorFlow backend.\n"
          ],
          "name": "stderr"
        },
        {
          "output_type": "display_data",
          "data": {
            "text/html": [
              "<p style=\"color: red;\">\n",
              "The default version of TensorFlow in Colab will soon switch to TensorFlow 2.x.<br>\n",
              "We recommend you <a href=\"https://www.tensorflow.org/guide/migrate\" target=\"_blank\">upgrade</a> now \n",
              "or ensure your notebook will continue to use TensorFlow 1.x via the <code>%tensorflow_version 1.x</code> magic:\n",
              "<a href=\"https://colab.research.google.com/notebooks/tensorflow_version.ipynb\" target=\"_blank\">more info</a>.</p>\n"
            ],
            "text/plain": [
              "<IPython.core.display.HTML object>"
            ]
          },
          "metadata": {
            "tags": []
          }
        },
        {
          "output_type": "execute_result",
          "data": {
            "text/plain": [
              "'2.2.5'"
            ]
          },
          "metadata": {
            "tags": []
          },
          "execution_count": 3
        }
      ]
    },
    {
      "cell_type": "markdown",
      "metadata": {
        "id": "Fp9NoG4Thfkn",
        "colab_type": "text"
      },
      "source": [
        "# 사전 훈련된 컨브넷 사용하기"
      ]
    },
    {
      "cell_type": "markdown",
      "metadata": {
        "id": "YpBuyorkhfko",
        "colab_type": "text"
      },
      "source": [
        "## 특성 추출\n",
        "\n",
        "![swapping FC classifiers](https://s3.amazonaws.com/book.keras.io/img/ch5/swapping_fc_classifier.png)\n",
        "\n",
        "### 방법1) 특성추출 후 FC만 학습\n"
      ]
    },
    {
      "cell_type": "markdown",
      "metadata": {
        "id": "XI0ASR3zhfko",
        "colab_type": "text"
      },
      "source": [
        "VGG16 모델은 케라스에 패키지로 포함되어 있습니다. `keras.applications` 모듈에서 임포트할 수 있습니다. `keras.applications` 모듈에서 사용 가능한 이미지 분류 모델은 다음과 같습니다(모두 ImageNet 데이터셋에서 훈련):\n",
        "\n",
        "* Xception\n",
        "* InceptionV3\n",
        "* ResNet50\n",
        "* VGG16\n",
        "* VGG19\n",
        "* MobileNet\n",
        "\n",
        "VGG16 모델"
      ]
    },
    {
      "cell_type": "code",
      "metadata": {
        "id": "wGx9EeEuhfkp",
        "colab_type": "code",
        "outputId": "0b325fa4-9e48-4aa5-ba9d-6b145f63cf12",
        "colab": {
          "base_uri": "https://localhost:8080/",
          "height": 377
        }
      },
      "source": [
        "from keras.applications import VGG16\n",
        "\n",
        "conv_base = VGG16(weights='imagenet',\n",
        "                  include_top=False,\n",
        "                  input_shape=(150, 150, 3))"
      ],
      "execution_count": 4,
      "outputs": [
        {
          "output_type": "stream",
          "text": [
            "WARNING:tensorflow:From /usr/local/lib/python3.6/dist-packages/keras/backend/tensorflow_backend.py:66: The name tf.get_default_graph is deprecated. Please use tf.compat.v1.get_default_graph instead.\n",
            "\n",
            "WARNING:tensorflow:From /usr/local/lib/python3.6/dist-packages/keras/backend/tensorflow_backend.py:541: The name tf.placeholder is deprecated. Please use tf.compat.v1.placeholder instead.\n",
            "\n",
            "WARNING:tensorflow:From /usr/local/lib/python3.6/dist-packages/keras/backend/tensorflow_backend.py:4432: The name tf.random_uniform is deprecated. Please use tf.random.uniform instead.\n",
            "\n",
            "WARNING:tensorflow:From /usr/local/lib/python3.6/dist-packages/keras/backend/tensorflow_backend.py:4267: The name tf.nn.max_pool is deprecated. Please use tf.nn.max_pool2d instead.\n",
            "\n",
            "WARNING:tensorflow:From /usr/local/lib/python3.6/dist-packages/keras/backend/tensorflow_backend.py:190: The name tf.get_default_session is deprecated. Please use tf.compat.v1.get_default_session instead.\n",
            "\n",
            "WARNING:tensorflow:From /usr/local/lib/python3.6/dist-packages/keras/backend/tensorflow_backend.py:197: The name tf.ConfigProto is deprecated. Please use tf.compat.v1.ConfigProto instead.\n",
            "\n",
            "WARNING:tensorflow:From /usr/local/lib/python3.6/dist-packages/keras/backend/tensorflow_backend.py:203: The name tf.Session is deprecated. Please use tf.compat.v1.Session instead.\n",
            "\n",
            "WARNING:tensorflow:From /usr/local/lib/python3.6/dist-packages/keras/backend/tensorflow_backend.py:207: The name tf.global_variables is deprecated. Please use tf.compat.v1.global_variables instead.\n",
            "\n",
            "WARNING:tensorflow:From /usr/local/lib/python3.6/dist-packages/keras/backend/tensorflow_backend.py:216: The name tf.is_variable_initialized is deprecated. Please use tf.compat.v1.is_variable_initialized instead.\n",
            "\n",
            "WARNING:tensorflow:From /usr/local/lib/python3.6/dist-packages/keras/backend/tensorflow_backend.py:223: The name tf.variables_initializer is deprecated. Please use tf.compat.v1.variables_initializer instead.\n",
            "\n"
          ],
          "name": "stdout"
        }
      ]
    },
    {
      "cell_type": "markdown",
      "metadata": {
        "id": "_WP7dd-Dhfkq",
        "colab_type": "text"
      },
      "source": [
        "VGG16 함수에 세 개의 매개변수:\n",
        "\n",
        "* `weights`는 모델을 초기화할 가중치 체크포인트를 지정\n",
        "* `include_top`은 네트워크의 최상위 완전 연결 분류기를 포함할지 안할지를 지정합니다. 기본값은 ImageNet의 1,000개의 클래스에 대응되는 완전 연결 분류기를 포함합니다. 별도의 (강아지와 고양이 두 개의 클래스를 구분하는) 완전 연결 층을 추가하려고 하므로 이를 포함시키지 않습니다.\n",
        "* `input_shape`은 네트워크에 주입할 이미지 텐서의 크기입니다. 이 매개변수는 선택사항입니다. 이 값을 지정하지 않으면 네트워크가 어떤 크기의 입력도 처리할 수 있습니다."
      ]
    },
    {
      "cell_type": "code",
      "metadata": {
        "id": "ivWbHY6ghfkr",
        "colab_type": "code",
        "outputId": "05543bd5-d3be-4f2f-c1c0-2fd5e07853dd",
        "colab": {
          "base_uri": "https://localhost:8080/",
          "height": 845
        }
      },
      "source": [
        "conv_base.summary()"
      ],
      "execution_count": 5,
      "outputs": [
        {
          "output_type": "stream",
          "text": [
            "Model: \"vgg16\"\n",
            "_________________________________________________________________\n",
            "Layer (type)                 Output Shape              Param #   \n",
            "=================================================================\n",
            "input_1 (InputLayer)         (None, 150, 150, 3)       0         \n",
            "_________________________________________________________________\n",
            "block1_conv1 (Conv2D)        (None, 150, 150, 64)      1792      \n",
            "_________________________________________________________________\n",
            "block1_conv2 (Conv2D)        (None, 150, 150, 64)      36928     \n",
            "_________________________________________________________________\n",
            "block1_pool (MaxPooling2D)   (None, 75, 75, 64)        0         \n",
            "_________________________________________________________________\n",
            "block2_conv1 (Conv2D)        (None, 75, 75, 128)       73856     \n",
            "_________________________________________________________________\n",
            "block2_conv2 (Conv2D)        (None, 75, 75, 128)       147584    \n",
            "_________________________________________________________________\n",
            "block2_pool (MaxPooling2D)   (None, 37, 37, 128)       0         \n",
            "_________________________________________________________________\n",
            "block3_conv1 (Conv2D)        (None, 37, 37, 256)       295168    \n",
            "_________________________________________________________________\n",
            "block3_conv2 (Conv2D)        (None, 37, 37, 256)       590080    \n",
            "_________________________________________________________________\n",
            "block3_conv3 (Conv2D)        (None, 37, 37, 256)       590080    \n",
            "_________________________________________________________________\n",
            "block3_pool (MaxPooling2D)   (None, 18, 18, 256)       0         \n",
            "_________________________________________________________________\n",
            "block4_conv1 (Conv2D)        (None, 18, 18, 512)       1180160   \n",
            "_________________________________________________________________\n",
            "block4_conv2 (Conv2D)        (None, 18, 18, 512)       2359808   \n",
            "_________________________________________________________________\n",
            "block4_conv3 (Conv2D)        (None, 18, 18, 512)       2359808   \n",
            "_________________________________________________________________\n",
            "block4_pool (MaxPooling2D)   (None, 9, 9, 512)         0         \n",
            "_________________________________________________________________\n",
            "block5_conv1 (Conv2D)        (None, 9, 9, 512)         2359808   \n",
            "_________________________________________________________________\n",
            "block5_conv2 (Conv2D)        (None, 9, 9, 512)         2359808   \n",
            "_________________________________________________________________\n",
            "block5_conv3 (Conv2D)        (None, 9, 9, 512)         2359808   \n",
            "_________________________________________________________________\n",
            "block5_pool (MaxPooling2D)   (None, 4, 4, 512)         0         \n",
            "=================================================================\n",
            "Total params: 14,714,688\n",
            "Trainable params: 14,714,688\n",
            "Non-trainable params: 0\n",
            "_________________________________________________________________\n"
          ],
          "name": "stdout"
        }
      ]
    },
    {
      "cell_type": "code",
      "metadata": {
        "id": "qNkIheSuhfkt",
        "colab_type": "code",
        "outputId": "05922362-57c0-4403-b847-cd4b8e23017d",
        "colab": {
          "base_uri": "https://localhost:8080/",
          "height": 71
        }
      },
      "source": [
        "import os\n",
        "import numpy as np\n",
        "from keras.preprocessing.image import ImageDataGenerator\n",
        "\n",
        "#base_dir = './datasets/cats_and_dogs_small'\n",
        "\n",
        "train_dir = os.path.join(base_dir, 'train')\n",
        "validation_dir = os.path.join(base_dir, 'validation')\n",
        "test_dir = os.path.join(base_dir, 'test')\n",
        "\n",
        "datagen = ImageDataGenerator(rescale=1./255)\n",
        "batch_size = 20\n",
        "\n",
        "def extract_features(directory, sample_count):\n",
        "    features = np.zeros(shape=(sample_count, 4, 4, 512))\n",
        "    labels = np.zeros(shape=(sample_count))\n",
        "    generator = datagen.flow_from_directory(\n",
        "        directory,\n",
        "        target_size=(150, 150),\n",
        "        batch_size=batch_size,\n",
        "        class_mode='binary')\n",
        "    i = 0\n",
        "    for inputs_batch, labels_batch in generator:\n",
        "        features_batch = conv_base.predict(inputs_batch)\n",
        "        features[i * batch_size : (i + 1) * batch_size] = features_batch\n",
        "        labels[i * batch_size : (i + 1) * batch_size] = labels_batch\n",
        "        i += 1\n",
        "        if i * batch_size >= sample_count:\n",
        "            # 제너레이터는 루프 안에서 무한하게 데이터를 만들어내므로 모든 이미지를 한 번씩 처리하고 나면 중지다\n",
        "            break\n",
        "    return features, labels\n",
        "\n",
        "train_features, train_labels = extract_features(train_dir, 2000)\n",
        "validation_features, validation_labels = extract_features(validation_dir, 1000)\n",
        "test_features, test_labels = extract_features(test_dir, 1000)"
      ],
      "execution_count": 6,
      "outputs": [
        {
          "output_type": "stream",
          "text": [
            "Found 2000 images belonging to 2 classes.\n",
            "Found 1000 images belonging to 2 classes.\n",
            "Found 1000 images belonging to 2 classes.\n"
          ],
          "name": "stdout"
        }
      ]
    },
    {
      "cell_type": "code",
      "metadata": {
        "id": "8yY0b3Vzhfkw",
        "colab_type": "code",
        "colab": {}
      },
      "source": [
        "train_features = np.reshape(train_features, (2000, 4 * 4 * 512))\n",
        "validation_features = np.reshape(validation_features, (1000, 4 * 4 * 512))\n",
        "test_features = np.reshape(test_features, (1000, 4 * 4 * 512))"
      ],
      "execution_count": 0,
      "outputs": []
    },
    {
      "cell_type": "markdown",
      "metadata": {
        "id": "FRWNMfkDhfky",
        "colab_type": "text"
      },
      "source": [
        "dropout적용"
      ]
    },
    {
      "cell_type": "code",
      "metadata": {
        "id": "usDttFFdhfkz",
        "colab_type": "code",
        "outputId": "e8091a95-102d-4af3-957b-c58bbb2f82dd",
        "colab": {
          "base_uri": "https://localhost:8080/",
          "height": 1000
        }
      },
      "source": [
        "from keras import models\n",
        "from keras import layers\n",
        "from keras import optimizers\n",
        "\n",
        "model = models.Sequential()\n",
        "model.add(layers.Dense(256, activation='relu', input_dim=4 * 4 * 512))\n",
        "model.add(layers.Dropout(0.5))\n",
        "model.add(layers.Dense(1, activation='sigmoid'))\n",
        "\n",
        "model.compile(optimizer=optimizers.RMSprop(lr=2e-5),\n",
        "              loss='binary_crossentropy',\n",
        "              metrics=['acc'])\n",
        "\n",
        "history = model.fit(train_features, train_labels,\n",
        "                    epochs=30,\n",
        "                    batch_size=20,\n",
        "                    validation_data=(validation_features, validation_labels))"
      ],
      "execution_count": 8,
      "outputs": [
        {
          "output_type": "stream",
          "text": [
            "WARNING:tensorflow:From /usr/local/lib/python3.6/dist-packages/keras/backend/tensorflow_backend.py:148: The name tf.placeholder_with_default is deprecated. Please use tf.compat.v1.placeholder_with_default instead.\n",
            "\n",
            "WARNING:tensorflow:From /usr/local/lib/python3.6/dist-packages/keras/backend/tensorflow_backend.py:3733: calling dropout (from tensorflow.python.ops.nn_ops) with keep_prob is deprecated and will be removed in a future version.\n",
            "Instructions for updating:\n",
            "Please use `rate` instead of `keep_prob`. Rate should be set to `rate = 1 - keep_prob`.\n",
            "WARNING:tensorflow:From /usr/local/lib/python3.6/dist-packages/keras/optimizers.py:793: The name tf.train.Optimizer is deprecated. Please use tf.compat.v1.train.Optimizer instead.\n",
            "\n",
            "WARNING:tensorflow:From /usr/local/lib/python3.6/dist-packages/keras/backend/tensorflow_backend.py:3657: The name tf.log is deprecated. Please use tf.math.log instead.\n",
            "\n",
            "WARNING:tensorflow:From /usr/local/lib/python3.6/dist-packages/tensorflow_core/python/ops/nn_impl.py:183: where (from tensorflow.python.ops.array_ops) is deprecated and will be removed in a future version.\n",
            "Instructions for updating:\n",
            "Use tf.where in 2.0, which has the same broadcast rule as np.where\n",
            "WARNING:tensorflow:From /usr/local/lib/python3.6/dist-packages/keras/backend/tensorflow_backend.py:1033: The name tf.assign_add is deprecated. Please use tf.compat.v1.assign_add instead.\n",
            "\n",
            "WARNING:tensorflow:From /usr/local/lib/python3.6/dist-packages/keras/backend/tensorflow_backend.py:1020: The name tf.assign is deprecated. Please use tf.compat.v1.assign instead.\n",
            "\n",
            "Train on 2000 samples, validate on 1000 samples\n",
            "Epoch 1/30\n",
            "2000/2000 [==============================] - 1s 405us/step - loss: 0.5896 - acc: 0.6905 - val_loss: 0.4241 - val_acc: 0.8460\n",
            "Epoch 2/30\n",
            "2000/2000 [==============================] - 1s 292us/step - loss: 0.4272 - acc: 0.8105 - val_loss: 0.3527 - val_acc: 0.8600\n",
            "Epoch 3/30\n",
            "2000/2000 [==============================] - 1s 307us/step - loss: 0.3667 - acc: 0.8315 - val_loss: 0.3222 - val_acc: 0.8700\n",
            "Epoch 4/30\n",
            "2000/2000 [==============================] - 1s 301us/step - loss: 0.3112 - acc: 0.8705 - val_loss: 0.2972 - val_acc: 0.8840\n",
            "Epoch 5/30\n",
            "2000/2000 [==============================] - 1s 327us/step - loss: 0.2883 - acc: 0.8835 - val_loss: 0.2820 - val_acc: 0.8880\n",
            "Epoch 6/30\n",
            "2000/2000 [==============================] - 1s 298us/step - loss: 0.2590 - acc: 0.9020 - val_loss: 0.2657 - val_acc: 0.8930\n",
            "Epoch 7/30\n",
            "2000/2000 [==============================] - 1s 323us/step - loss: 0.2427 - acc: 0.9035 - val_loss: 0.2624 - val_acc: 0.9020\n",
            "Epoch 8/30\n",
            "2000/2000 [==============================] - 1s 344us/step - loss: 0.2346 - acc: 0.9075 - val_loss: 0.2594 - val_acc: 0.8960\n",
            "Epoch 9/30\n",
            "2000/2000 [==============================] - 1s 283us/step - loss: 0.2140 - acc: 0.9220 - val_loss: 0.2545 - val_acc: 0.8980\n",
            "Epoch 10/30\n",
            "2000/2000 [==============================] - 1s 297us/step - loss: 0.2071 - acc: 0.9200 - val_loss: 0.2449 - val_acc: 0.9020\n",
            "Epoch 11/30\n",
            "2000/2000 [==============================] - 1s 295us/step - loss: 0.1978 - acc: 0.9285 - val_loss: 0.2490 - val_acc: 0.8980\n",
            "Epoch 12/30\n",
            "2000/2000 [==============================] - 1s 313us/step - loss: 0.1848 - acc: 0.9275 - val_loss: 0.2391 - val_acc: 0.9040\n",
            "Epoch 13/30\n",
            "2000/2000 [==============================] - 1s 308us/step - loss: 0.1800 - acc: 0.9315 - val_loss: 0.2393 - val_acc: 0.9020\n",
            "Epoch 14/30\n",
            "2000/2000 [==============================] - 1s 300us/step - loss: 0.1657 - acc: 0.9405 - val_loss: 0.2442 - val_acc: 0.9020\n",
            "Epoch 15/30\n",
            "2000/2000 [==============================] - 1s 304us/step - loss: 0.1593 - acc: 0.9495 - val_loss: 0.2356 - val_acc: 0.9040\n",
            "Epoch 16/30\n",
            "2000/2000 [==============================] - 1s 270us/step - loss: 0.1541 - acc: 0.9470 - val_loss: 0.2375 - val_acc: 0.9050\n",
            "Epoch 17/30\n",
            "2000/2000 [==============================] - 1s 313us/step - loss: 0.1471 - acc: 0.9500 - val_loss: 0.2327 - val_acc: 0.9010\n",
            "Epoch 18/30\n",
            "2000/2000 [==============================] - 1s 304us/step - loss: 0.1422 - acc: 0.9465 - val_loss: 0.2359 - val_acc: 0.9040\n",
            "Epoch 19/30\n",
            "2000/2000 [==============================] - 1s 280us/step - loss: 0.1343 - acc: 0.9510 - val_loss: 0.2334 - val_acc: 0.9040\n",
            "Epoch 20/30\n",
            "2000/2000 [==============================] - 1s 305us/step - loss: 0.1323 - acc: 0.9565 - val_loss: 0.2314 - val_acc: 0.9060\n",
            "Epoch 21/30\n",
            "2000/2000 [==============================] - 1s 284us/step - loss: 0.1180 - acc: 0.9635 - val_loss: 0.2336 - val_acc: 0.9050\n",
            "Epoch 22/30\n",
            "2000/2000 [==============================] - 1s 304us/step - loss: 0.1190 - acc: 0.9560 - val_loss: 0.2339 - val_acc: 0.9040\n",
            "Epoch 23/30\n",
            "2000/2000 [==============================] - 1s 299us/step - loss: 0.1146 - acc: 0.9665 - val_loss: 0.2321 - val_acc: 0.9030\n",
            "Epoch 24/30\n",
            "2000/2000 [==============================] - 1s 278us/step - loss: 0.1132 - acc: 0.9600 - val_loss: 0.2345 - val_acc: 0.9030\n",
            "Epoch 25/30\n",
            "2000/2000 [==============================] - 1s 294us/step - loss: 0.1002 - acc: 0.9720 - val_loss: 0.2319 - val_acc: 0.8980\n",
            "Epoch 26/30\n",
            "2000/2000 [==============================] - 1s 296us/step - loss: 0.0986 - acc: 0.9740 - val_loss: 0.2380 - val_acc: 0.9040\n",
            "Epoch 27/30\n",
            "2000/2000 [==============================] - 1s 316us/step - loss: 0.0962 - acc: 0.9700 - val_loss: 0.2327 - val_acc: 0.8960\n",
            "Epoch 28/30\n",
            "2000/2000 [==============================] - 1s 320us/step - loss: 0.0965 - acc: 0.9725 - val_loss: 0.2551 - val_acc: 0.9000\n",
            "Epoch 29/30\n",
            "2000/2000 [==============================] - 1s 306us/step - loss: 0.0911 - acc: 0.9705 - val_loss: 0.2340 - val_acc: 0.8990\n",
            "Epoch 30/30\n",
            "2000/2000 [==============================] - 1s 300us/step - loss: 0.0847 - acc: 0.9760 - val_loss: 0.2392 - val_acc: 0.9040\n"
          ],
          "name": "stdout"
        }
      ]
    },
    {
      "cell_type": "markdown",
      "metadata": {
        "id": "dKNUWzS_hfk0",
        "colab_type": "text"
      },
      "source": [
        "# Loss & Accuracy"
      ]
    },
    {
      "cell_type": "code",
      "metadata": {
        "id": "vMBIqHIuhfk1",
        "colab_type": "code",
        "colab": {}
      },
      "source": [
        "import matplotlib.pyplot as plt"
      ],
      "execution_count": 0,
      "outputs": []
    },
    {
      "cell_type": "code",
      "metadata": {
        "id": "sf4n2eddhfk4",
        "colab_type": "code",
        "outputId": "3d3ead7d-6726-4af9-b16a-fa6ab818d5c8",
        "colab": {
          "base_uri": "https://localhost:8080/",
          "height": 545
        }
      },
      "source": [
        "acc = history.history['acc']\n",
        "val_acc = history.history['val_acc']\n",
        "loss = history.history['loss']\n",
        "val_loss = history.history['val_loss']\n",
        "\n",
        "epochs = range(len(acc))\n",
        "\n",
        "plt.plot(epochs, acc, 'r', label='Training acc')\n",
        "plt.plot(epochs, val_acc, 'b', label='Validation acc')\n",
        "plt.title('Training and validation accuracy')\n",
        "plt.legend()\n",
        "\n",
        "plt.figure()\n",
        "\n",
        "plt.plot(epochs, loss, 'r', label='Training loss')\n",
        "plt.plot(epochs, val_loss, 'b', label='Validation loss')\n",
        "plt.title('Training and validation loss')\n",
        "plt.legend()\n",
        "\n",
        "plt.show()"
      ],
      "execution_count": 10,
      "outputs": [
        {
          "output_type": "display_data",
          "data": {
            "image/png": "[encoded data removed]",
            "text/plain": [
              "<Figure size 432x288 with 1 Axes>"
            ]
          },
          "metadata": {
            "tags": []
          }
        },
        {
          "output_type": "display_data",
          "data": {
            "image/png": "[encoded data removed]",
            "text/plain": [
              "<Figure size 432x288 with 1 Axes>"
            ]
          },
          "metadata": {
            "tags": []
          }
        }
      ]
    },
    {
      "cell_type": "markdown",
      "metadata": {
        "id": "asjFt3N5hfk6",
        "colab_type": "text"
      },
      "source": [
        "약 90%의 검증 정확도에 도달했습니다. 하지만 이 그래프는 많은 비율로 드롭아웃을 사용했음에도 불구하고 훈련이 시작하면서 거의 바로 과대적합되고 있다는 것을 보여줍니다. 작은 이미지 데이터셋에서는 과대적합을 막기 위해 필수적인 데이터 증식을 사용하지 않았기 때문입니다.\n",
        "\n",
        "### 방법2 \n",
        "-Freezing Conv + FC + Data Augmentation"
      ]
    },
    {
      "cell_type": "code",
      "metadata": {
        "id": "wZZualMphfk7",
        "colab_type": "code",
        "colab": {}
      },
      "source": [
        "from keras import models\n",
        "from keras import layers\n",
        "\n",
        "model = models.Sequential()\n",
        "model.add(conv_base)\n",
        "model.add(layers.Flatten())\n",
        "model.add(layers.Dense(256, activation='relu'))\n",
        "model.add(layers.Dense(1, activation='sigmoid'))"
      ],
      "execution_count": 0,
      "outputs": []
    },
    {
      "cell_type": "code",
      "metadata": {
        "id": "WjYFAI13hfk9",
        "colab_type": "code",
        "outputId": "b416d6df-6712-4dff-a3d5-63eae1bf2849",
        "colab": {
          "base_uri": "https://localhost:8080/",
          "height": 305
        }
      },
      "source": [
        "model.summary()"
      ],
      "execution_count": 12,
      "outputs": [
        {
          "output_type": "stream",
          "text": [
            "Model: \"sequential_2\"\n",
            "_________________________________________________________________\n",
            "Layer (type)                 Output Shape              Param #   \n",
            "=================================================================\n",
            "vgg16 (Model)                (None, 4, 4, 512)         14714688  \n",
            "_________________________________________________________________\n",
            "flatten_1 (Flatten)          (None, 8192)              0         \n",
            "_________________________________________________________________\n",
            "dense_3 (Dense)              (None, 256)               2097408   \n",
            "_________________________________________________________________\n",
            "dense_4 (Dense)              (None, 1)                 257       \n",
            "=================================================================\n",
            "Total params: 16,812,353\n",
            "Trainable params: 16,812,353\n",
            "Non-trainable params: 0\n",
            "_________________________________________________________________\n"
          ],
          "name": "stdout"
        }
      ]
    },
    {
      "cell_type": "markdown",
      "metadata": {
        "id": "lHijKRD-hfk_",
        "colab_type": "text"
      },
      "source": [
        "여기서 볼 수 있듯이 VGG16의 합성곱 기반층은 14,714,688개의 매우 많은 파라미터를 가지고 있습니다. 합성곱 기반층 위에 추가한 분류기는 2백만 개의 파라미터를 가집니다.\n",
        "\n",
        "모델을 컴파일하고 훈련하기 전에 합성곱 기반층을 동결하는 것이 아주 중요합니다. 하나 이상의 층을 동결한다는 것은 훈련하는 동안 가중치가 업데이트되지 않도록 막는다는 뜻입니다. 이렇게 하지 않으면 합성곱 기반층에 의해 사전에 학습된 표현이 훈련하는 동안 수정될 것입니다. 맨 위의 `Dense` 층은 랜덤하게 초기화되었기 때문에 매우 큰 가중치 업데이트 값이 네트워크에 전파될 것입니다. 이는 사전에 학습된 표현을 크게 훼손하게 됩니다.\n",
        "\n",
        "케라스에서는 `trainable` 속성을 `False`로 설정하여 네트워크를 동결할 수 있습니다:"
      ]
    },
    {
      "cell_type": "code",
      "metadata": {
        "id": "ecqqgRFPhflA",
        "colab_type": "code",
        "outputId": "20997ecb-dd32-42bf-8da4-3a41bc2d6fbf",
        "colab": {
          "base_uri": "https://localhost:8080/",
          "height": 35
        }
      },
      "source": [
        "print('conv_base를 동결하기 전 훈련되는 가중치의 수:', \n",
        "      len(model.trainable_weights))"
      ],
      "execution_count": 13,
      "outputs": [
        {
          "output_type": "stream",
          "text": [
            "conv_base를 동결하기 전 훈련되는 가중치의 수: 30\n"
          ],
          "name": "stdout"
        }
      ]
    },
    {
      "cell_type": "code",
      "metadata": {
        "id": "frXBDAzVhflC",
        "colab_type": "code",
        "colab": {}
      },
      "source": [
        "conv_base.trainable = False"
      ],
      "execution_count": 0,
      "outputs": []
    },
    {
      "cell_type": "code",
      "metadata": {
        "id": "gmHw3QhyhflF",
        "colab_type": "code",
        "outputId": "a2246b0a-9929-493c-f7c9-0ec7402f3f28",
        "colab": {
          "base_uri": "https://localhost:8080/",
          "height": 35
        }
      },
      "source": [
        "print('conv_base를 동결한 후 훈련되는 가중치의 수:', \n",
        "      len(model.trainable_weights))"
      ],
      "execution_count": 15,
      "outputs": [
        {
          "output_type": "stream",
          "text": [
            "conv_base를 동결한 후 훈련되는 가중치의 수: 4\n"
          ],
          "name": "stdout"
        }
      ]
    },
    {
      "cell_type": "markdown",
      "metadata": {
        "id": "d7klHJ1OhflH",
        "colab_type": "text"
      },
      "source": [
        "데이터 증식을 사용하여 모델학습"
      ]
    },
    {
      "cell_type": "code",
      "metadata": {
        "id": "98AtI1NuhflI",
        "colab_type": "code",
        "outputId": "cd03a693-f972-4431-ad44-4e617eafcf1c",
        "colab": {
          "base_uri": "https://localhost:8080/",
          "height": 1000
        }
      },
      "source": [
        "from keras.preprocessing.image import ImageDataGenerator\n",
        "\n",
        "train_datagen = ImageDataGenerator(\n",
        "      rescale=1./255,\n",
        "      rotation_range=20,\n",
        "      width_shift_range=0.1,\n",
        "      height_shift_range=0.1,\n",
        "      shear_range=0.1,\n",
        "      zoom_range=0.1,\n",
        "      horizontal_flip=True,\n",
        "      fill_mode='nearest')\n",
        "\n",
        "# 검증 데이터는 증식되어서는 안됨\n",
        "test_datagen = ImageDataGenerator(rescale=1./255)\n",
        "\n",
        "train_generator = train_datagen.flow_from_directory(\n",
        "        # 타깃 디렉터리\n",
        "        train_dir,\n",
        "        # 모든 이미지의 크기를 150 × 150로 변경\n",
        "        target_size=(150, 150),\n",
        "        batch_size=20,\n",
        "        # binary_crossentropy 손실을 사용하므로 이진 레이블이 필요\n",
        "        class_mode='binary')\n",
        "\n",
        "validation_generator = test_datagen.flow_from_directory(\n",
        "        validation_dir,\n",
        "        target_size=(150, 150),\n",
        "        batch_size=20,\n",
        "        class_mode='binary')\n",
        "\n",
        "model.compile(loss='binary_crossentropy',\n",
        "              optimizer=optimizers.RMSprop(lr=2e-5),\n",
        "              metrics=['acc'])\n",
        "\n",
        "history = model.fit_generator(\n",
        "      train_generator,\n",
        "      steps_per_epoch=100,\n",
        "      epochs=30,\n",
        "      validation_data=validation_generator,\n",
        "      validation_steps=50,\n",
        "      verbose=2)"
      ],
      "execution_count": 16,
      "outputs": [
        {
          "output_type": "stream",
          "text": [
            "Found 2000 images belonging to 2 classes.\n",
            "Found 1000 images belonging to 2 classes.\n",
            "Epoch 1/30\n",
            " - 21s - loss: 0.5558 - acc: 0.7250 - val_loss: 0.4184 - val_acc: 0.8420\n",
            "Epoch 2/30\n",
            " - 20s - loss: 0.4114 - acc: 0.8365 - val_loss: 0.3390 - val_acc: 0.8650\n",
            "Epoch 3/30\n",
            " - 19s - loss: 0.3678 - acc: 0.8390 - val_loss: 0.3132 - val_acc: 0.8700\n",
            "Epoch 4/30\n",
            " - 19s - loss: 0.3253 - acc: 0.8660 - val_loss: 0.2832 - val_acc: 0.8890\n",
            "Epoch 5/30\n",
            " - 20s - loss: 0.3101 - acc: 0.8640 - val_loss: 0.2715 - val_acc: 0.8900\n",
            "Epoch 6/30\n",
            " - 20s - loss: 0.2865 - acc: 0.8820 - val_loss: 0.2683 - val_acc: 0.8900\n",
            "Epoch 7/30\n",
            " - 19s - loss: 0.2776 - acc: 0.8900 - val_loss: 0.2793 - val_acc: 0.8820\n",
            "Epoch 8/30\n",
            " - 19s - loss: 0.2654 - acc: 0.8950 - val_loss: 0.2500 - val_acc: 0.8990\n",
            "Epoch 9/30\n",
            " - 20s - loss: 0.2698 - acc: 0.8915 - val_loss: 0.2494 - val_acc: 0.8960\n",
            "Epoch 10/30\n",
            " - 19s - loss: 0.2485 - acc: 0.8970 - val_loss: 0.2470 - val_acc: 0.8990\n",
            "Epoch 11/30\n",
            " - 20s - loss: 0.2549 - acc: 0.8995 - val_loss: 0.2648 - val_acc: 0.8810\n",
            "Epoch 12/30\n",
            " - 20s - loss: 0.2440 - acc: 0.9005 - val_loss: 0.2386 - val_acc: 0.9040\n",
            "Epoch 13/30\n",
            " - 20s - loss: 0.2374 - acc: 0.9030 - val_loss: 0.2377 - val_acc: 0.9030\n",
            "Epoch 14/30\n",
            " - 19s - loss: 0.2282 - acc: 0.9040 - val_loss: 0.2364 - val_acc: 0.9010\n",
            "Epoch 15/30\n",
            " - 20s - loss: 0.2216 - acc: 0.9085 - val_loss: 0.2346 - val_acc: 0.9040\n",
            "Epoch 16/30\n",
            " - 20s - loss: 0.2252 - acc: 0.9130 - val_loss: 0.2568 - val_acc: 0.8940\n",
            "Epoch 17/30\n",
            " - 20s - loss: 0.2104 - acc: 0.9180 - val_loss: 0.2393 - val_acc: 0.9060\n",
            "Epoch 18/30\n",
            " - 20s - loss: 0.2179 - acc: 0.9070 - val_loss: 0.2343 - val_acc: 0.9060\n",
            "Epoch 19/30\n",
            " - 20s - loss: 0.2086 - acc: 0.9160 - val_loss: 0.2333 - val_acc: 0.9070\n",
            "Epoch 20/30\n",
            " - 19s - loss: 0.2121 - acc: 0.9190 - val_loss: 0.2367 - val_acc: 0.9030\n",
            "Epoch 21/30\n",
            " - 20s - loss: 0.2111 - acc: 0.9185 - val_loss: 0.2468 - val_acc: 0.8980\n",
            "Epoch 22/30\n",
            " - 20s - loss: 0.2031 - acc: 0.9190 - val_loss: 0.2360 - val_acc: 0.9090\n",
            "Epoch 23/30\n",
            " - 20s - loss: 0.2036 - acc: 0.9230 - val_loss: 0.2462 - val_acc: 0.8960\n",
            "Epoch 24/30\n",
            " - 20s - loss: 0.2001 - acc: 0.9185 - val_loss: 0.2378 - val_acc: 0.9040\n",
            "Epoch 25/30\n",
            " - 20s - loss: 0.2049 - acc: 0.9140 - val_loss: 0.2554 - val_acc: 0.8890\n",
            "Epoch 26/30\n",
            " - 19s - loss: 0.1942 - acc: 0.9230 - val_loss: 0.2377 - val_acc: 0.9080\n",
            "Epoch 27/30\n",
            " - 20s - loss: 0.1937 - acc: 0.9275 - val_loss: 0.2379 - val_acc: 0.9100\n",
            "Epoch 28/30\n",
            " - 20s - loss: 0.1953 - acc: 0.9185 - val_loss: 0.2422 - val_acc: 0.9010\n",
            "Epoch 29/30\n",
            " - 20s - loss: 0.1904 - acc: 0.9235 - val_loss: 0.2344 - val_acc: 0.9060\n",
            "Epoch 30/30\n",
            " - 20s - loss: 0.1920 - acc: 0.9195 - val_loss: 0.2417 - val_acc: 0.9040\n"
          ],
          "name": "stdout"
        }
      ]
    },
    {
      "cell_type": "code",
      "metadata": {
        "id": "aro7etRXhflK",
        "colab_type": "code",
        "colab": {}
      },
      "source": [
        "model.save(os.path.join(base_root_dir, 'cats_and_dogs_small_3.h5'))\n",
        "#model.save('cats_and_dogs_small_3.h5')"
      ],
      "execution_count": 0,
      "outputs": []
    },
    {
      "cell_type": "markdown",
      "metadata": {
        "id": "xMPt9WAnhflM",
        "colab_type": "text"
      },
      "source": [
        "# Accuracy & Loss"
      ]
    },
    {
      "cell_type": "code",
      "metadata": {
        "id": "fguBgdWphflM",
        "colab_type": "code",
        "colab": {
          "base_uri": "https://localhost:8080/",
          "height": 545
        },
        "outputId": "88bbb836-7e05-4a44-b610-6ac604405a96"
      },
      "source": [
        "acc = history.history['acc']\n",
        "val_acc = history.history['val_acc']\n",
        "loss = history.history['loss']\n",
        "val_loss = history.history['val_loss']\n",
        "\n",
        "epochs = range(len(acc))\n",
        "\n",
        "plt.plot(epochs, acc, 'r', label='Training acc')\n",
        "plt.plot(epochs, val_acc, 'b', label='Validation acc')\n",
        "plt.title('Training and validation accuracy')\n",
        "plt.legend()\n",
        "\n",
        "plt.figure()\n",
        "\n",
        "plt.plot(epochs, loss, 'r', label='Training loss')\n",
        "plt.plot(epochs, val_loss, 'b', label='Validation loss')\n",
        "plt.title('Training and validation loss')\n",
        "plt.legend()\n",
        "\n",
        "plt.show()"
      ],
      "execution_count": 18,
      "outputs": [
        {
          "output_type": "display_data",
          "data": {
            "image/png": "[encoded data removed]",
            "text/plain": [
              "<Figure size 432x288 with 1 Axes>"
            ]
          },
          "metadata": {
            "tags": []
          }
        },
        {
          "output_type": "display_data",
          "data": {
            "image/png": "[encoded data removed]",
            "text/plain": [
              "<Figure size 432x288 with 1 Axes>"
            ]
          },
          "metadata": {
            "tags": []
          }
        }
      ]
    },
    {
      "cell_type": "markdown",
      "metadata": {
        "id": "PMPSTJ1ihflP",
        "colab_type": "text"
      },
      "source": [
        "## 미세 조정(Fine tunning)\n",
        "\n",
        "모델을 재사용하는 데 널리 사용되는 또 하나의 기법은 특성 추출을 보완하는 미세 조정입니다. 미세 조정은 특성 추출에 사용했던 동결 모델의 상위 층 몇 개를 동결에서 해제하고 모델에 새로 추가한 층(여기서는 완전 연결 분류기)과 함께 훈련하는 것입니다. 주어진 문제에 조금 더 밀접하게 재사용 모델의 표현을 일부 조정하기 때문에 미세 조정이라고 부릅니다.\n",
        "\n",
        "![fine-tuning VGG16](https://s3.amazonaws.com/book.keras.io/img/ch5/vgg16_fine_tuning.png)"
      ]
    },
    {
      "cell_type": "code",
      "metadata": {
        "id": "ttpsQ95-hflQ",
        "colab_type": "code",
        "colab": {
          "base_uri": "https://localhost:8080/",
          "height": 845
        },
        "outputId": "a074827f-5214-4605-cb84-5bf6bd3b0c08"
      },
      "source": [
        "conv_base.summary()"
      ],
      "execution_count": 19,
      "outputs": [
        {
          "output_type": "stream",
          "text": [
            "Model: \"vgg16\"\n",
            "_________________________________________________________________\n",
            "Layer (type)                 Output Shape              Param #   \n",
            "=================================================================\n",
            "input_1 (InputLayer)         (None, 150, 150, 3)       0         \n",
            "_________________________________________________________________\n",
            "block1_conv1 (Conv2D)        (None, 150, 150, 64)      1792      \n",
            "_________________________________________________________________\n",
            "block1_conv2 (Conv2D)        (None, 150, 150, 64)      36928     \n",
            "_________________________________________________________________\n",
            "block1_pool (MaxPooling2D)   (None, 75, 75, 64)        0         \n",
            "_________________________________________________________________\n",
            "block2_conv1 (Conv2D)        (None, 75, 75, 128)       73856     \n",
            "_________________________________________________________________\n",
            "block2_conv2 (Conv2D)        (None, 75, 75, 128)       147584    \n",
            "_________________________________________________________________\n",
            "block2_pool (MaxPooling2D)   (None, 37, 37, 128)       0         \n",
            "_________________________________________________________________\n",
            "block3_conv1 (Conv2D)        (None, 37, 37, 256)       295168    \n",
            "_________________________________________________________________\n",
            "block3_conv2 (Conv2D)        (None, 37, 37, 256)       590080    \n",
            "_________________________________________________________________\n",
            "block3_conv3 (Conv2D)        (None, 37, 37, 256)       590080    \n",
            "_________________________________________________________________\n",
            "block3_pool (MaxPooling2D)   (None, 18, 18, 256)       0         \n",
            "_________________________________________________________________\n",
            "block4_conv1 (Conv2D)        (None, 18, 18, 512)       1180160   \n",
            "_________________________________________________________________\n",
            "block4_conv2 (Conv2D)        (None, 18, 18, 512)       2359808   \n",
            "_________________________________________________________________\n",
            "block4_conv3 (Conv2D)        (None, 18, 18, 512)       2359808   \n",
            "_________________________________________________________________\n",
            "block4_pool (MaxPooling2D)   (None, 9, 9, 512)         0         \n",
            "_________________________________________________________________\n",
            "block5_conv1 (Conv2D)        (None, 9, 9, 512)         2359808   \n",
            "_________________________________________________________________\n",
            "block5_conv2 (Conv2D)        (None, 9, 9, 512)         2359808   \n",
            "_________________________________________________________________\n",
            "block5_conv3 (Conv2D)        (None, 9, 9, 512)         2359808   \n",
            "_________________________________________________________________\n",
            "block5_pool (MaxPooling2D)   (None, 4, 4, 512)         0         \n",
            "=================================================================\n",
            "Total params: 14,714,688\n",
            "Trainable params: 0\n",
            "Non-trainable params: 14,714,688\n",
            "_________________________________________________________________\n"
          ],
          "name": "stdout"
        }
      ]
    },
    {
      "cell_type": "markdown",
      "metadata": {
        "id": "wJHIUZ_mhflS",
        "colab_type": "text"
      },
      "source": [
        "마지막 세 개의 합성곱 층을 미세 조정하겠습니다. 즉, `block4_pool`까지 모든 층은 동결되고 `block5_conv1`, `block5_conv2`, `block5_conv3` 층은 학습 대상이 됩니다."
      ]
    },
    {
      "cell_type": "code",
      "metadata": {
        "id": "vYwOUyNfhflS",
        "colab_type": "code",
        "colab": {}
      },
      "source": [
        "conv_base.trainable = True\n",
        "\n",
        "set_trainable = False\n",
        "for layer in conv_base.layers:\n",
        "    if layer.name == 'block5_conv1':\n",
        "        set_trainable = True\n",
        "    if set_trainable:\n",
        "        layer.trainable = True\n",
        "    else:\n",
        "        layer.trainable = False"
      ],
      "execution_count": 0,
      "outputs": []
    },
    {
      "cell_type": "markdown",
      "metadata": {
        "id": "tH3QLc-ohflU",
        "colab_type": "text"
      },
      "source": [
        "### 미세조정시작\n",
        "학습률을 낮춘 RMSProp 옵티마이저를 사용합니다. 학습률을 낮추는 이유는 미세 조정하는 세 개의 층에서 학습된 표현을 조금씩 수정하기 위해서입니다. 변경량이 너무 크면 학습된 표현에 나쁜 영향을 끼칠 수 있습니다."
      ]
    },
    {
      "cell_type": "code",
      "metadata": {
        "id": "OdL2mN3mhflV",
        "colab_type": "code",
        "colab": {
          "base_uri": "https://localhost:8080/",
          "height": 1000
        },
        "outputId": "30c0e87b-7c70-4cdd-d297-abd440fd60b2"
      },
      "source": [
        "model.compile(loss='binary_crossentropy',\n",
        "              optimizer=optimizers.RMSprop(lr=1e-5),\n",
        "              metrics=['acc'])\n",
        "\n",
        "history = model.fit_generator(\n",
        "      train_generator,\n",
        "      steps_per_epoch=100,\n",
        "      epochs=100,\n",
        "      validation_data=validation_generator,\n",
        "      validation_steps=50)"
      ],
      "execution_count": 21,
      "outputs": [
        {
          "output_type": "stream",
          "text": [
            "Epoch 1/100\n",
            "100/100 [==============================] - 22s 222ms/step - loss: 0.1913 - acc: 0.9210 - val_loss: 0.2151 - val_acc: 0.9120\n",
            "Epoch 2/100\n",
            "100/100 [==============================] - 20s 200ms/step - loss: 0.1705 - acc: 0.9250 - val_loss: 0.2077 - val_acc: 0.9180\n",
            "Epoch 3/100\n",
            "100/100 [==============================] - 20s 195ms/step - loss: 0.1385 - acc: 0.9455 - val_loss: 0.2173 - val_acc: 0.9260\n",
            "Epoch 4/100\n",
            "100/100 [==============================] - 20s 198ms/step - loss: 0.1235 - acc: 0.9465 - val_loss: 0.2096 - val_acc: 0.9280\n",
            "Epoch 5/100\n",
            "100/100 [==============================] - 20s 198ms/step - loss: 0.0989 - acc: 0.9640 - val_loss: 0.2244 - val_acc: 0.9190\n",
            "Epoch 6/100\n",
            "100/100 [==============================] - 20s 198ms/step - loss: 0.0956 - acc: 0.9635 - val_loss: 0.2101 - val_acc: 0.9210\n",
            "Epoch 7/100\n",
            "100/100 [==============================] - 20s 197ms/step - loss: 0.0768 - acc: 0.9720 - val_loss: 0.2254 - val_acc: 0.9260\n",
            "Epoch 8/100\n",
            "100/100 [==============================] - 20s 196ms/step - loss: 0.0800 - acc: 0.9710 - val_loss: 0.2067 - val_acc: 0.9240\n",
            "Epoch 9/100\n",
            "100/100 [==============================] - 20s 197ms/step - loss: 0.0692 - acc: 0.9740 - val_loss: 0.2193 - val_acc: 0.9270\n",
            "Epoch 10/100\n",
            "100/100 [==============================] - 20s 196ms/step - loss: 0.0572 - acc: 0.9790 - val_loss: 0.2208 - val_acc: 0.9250\n",
            "Epoch 11/100\n",
            "100/100 [==============================] - 20s 198ms/step - loss: 0.0520 - acc: 0.9815 - val_loss: 0.2159 - val_acc: 0.9270\n",
            "Epoch 12/100\n",
            "100/100 [==============================] - 20s 199ms/step - loss: 0.0427 - acc: 0.9855 - val_loss: 0.2429 - val_acc: 0.9200\n",
            "Epoch 13/100\n",
            "100/100 [==============================] - 20s 198ms/step - loss: 0.0433 - acc: 0.9860 - val_loss: 0.2390 - val_acc: 0.9200\n",
            "Epoch 14/100\n",
            "100/100 [==============================] - 20s 197ms/step - loss: 0.0391 - acc: 0.9855 - val_loss: 0.2248 - val_acc: 0.9290\n",
            "Epoch 15/100\n",
            "100/100 [==============================] - 20s 197ms/step - loss: 0.0316 - acc: 0.9895 - val_loss: 0.2623 - val_acc: 0.9210\n",
            "Epoch 16/100\n",
            "100/100 [==============================] - 20s 198ms/step - loss: 0.0305 - acc: 0.9895 - val_loss: 0.2271 - val_acc: 0.9290\n",
            "Epoch 17/100\n",
            "100/100 [==============================] - 20s 195ms/step - loss: 0.0292 - acc: 0.9895 - val_loss: 0.2223 - val_acc: 0.9260\n",
            "Epoch 18/100\n",
            "100/100 [==============================] - 20s 199ms/step - loss: 0.0256 - acc: 0.9930 - val_loss: 0.2474 - val_acc: 0.9180\n",
            "Epoch 19/100\n",
            "100/100 [==============================] - 20s 197ms/step - loss: 0.0261 - acc: 0.9935 - val_loss: 0.2404 - val_acc: 0.9240\n",
            "Epoch 20/100\n",
            "100/100 [==============================] - 20s 198ms/step - loss: 0.0205 - acc: 0.9935 - val_loss: 0.2372 - val_acc: 0.9330\n",
            "Epoch 21/100\n",
            "100/100 [==============================] - 20s 195ms/step - loss: 0.0205 - acc: 0.9925 - val_loss: 0.2917 - val_acc: 0.9230\n",
            "Epoch 22/100\n",
            "100/100 [==============================] - 20s 197ms/step - loss: 0.0179 - acc: 0.9935 - val_loss: 0.2393 - val_acc: 0.9320\n",
            "Epoch 23/100\n",
            "100/100 [==============================] - 20s 197ms/step - loss: 0.0196 - acc: 0.9935 - val_loss: 0.2886 - val_acc: 0.9220\n",
            "Epoch 24/100\n",
            "100/100 [==============================] - 20s 198ms/step - loss: 0.0186 - acc: 0.9945 - val_loss: 0.2500 - val_acc: 0.9300\n",
            "Epoch 25/100\n",
            "100/100 [==============================] - 20s 196ms/step - loss: 0.0112 - acc: 0.9965 - val_loss: 0.2804 - val_acc: 0.9320\n",
            "Epoch 26/100\n",
            "100/100 [==============================] - 20s 196ms/step - loss: 0.0163 - acc: 0.9935 - val_loss: 0.2816 - val_acc: 0.9240\n",
            "Epoch 27/100\n",
            "100/100 [==============================] - 20s 196ms/step - loss: 0.0087 - acc: 0.9980 - val_loss: 0.3961 - val_acc: 0.9120\n",
            "Epoch 28/100\n",
            "100/100 [==============================] - 20s 200ms/step - loss: 0.0116 - acc: 0.9975 - val_loss: 0.2927 - val_acc: 0.9270\n",
            "Epoch 29/100\n",
            "100/100 [==============================] - 19s 195ms/step - loss: 0.0145 - acc: 0.9960 - val_loss: 0.2904 - val_acc: 0.9300\n",
            "Epoch 30/100\n",
            "100/100 [==============================] - 20s 195ms/step - loss: 0.0125 - acc: 0.9965 - val_loss: 0.2943 - val_acc: 0.9240\n",
            "Epoch 31/100\n",
            "100/100 [==============================] - 20s 196ms/step - loss: 0.0148 - acc: 0.9960 - val_loss: 0.2776 - val_acc: 0.9310\n",
            "Epoch 32/100\n",
            "100/100 [==============================] - 20s 196ms/step - loss: 0.0126 - acc: 0.9960 - val_loss: 0.2670 - val_acc: 0.9310\n",
            "Epoch 33/100\n",
            "100/100 [==============================] - 20s 196ms/step - loss: 0.0109 - acc: 0.9960 - val_loss: 0.3307 - val_acc: 0.9210\n",
            "Epoch 34/100\n",
            "100/100 [==============================] - 19s 195ms/step - loss: 0.0076 - acc: 0.9980 - val_loss: 0.3009 - val_acc: 0.9260\n",
            "Epoch 35/100\n",
            "100/100 [==============================] - 20s 198ms/step - loss: 0.0072 - acc: 0.9980 - val_loss: 0.2919 - val_acc: 0.9290\n",
            "Epoch 36/100\n",
            "100/100 [==============================] - 20s 196ms/step - loss: 0.0085 - acc: 0.9980 - val_loss: 0.3723 - val_acc: 0.9120\n",
            "Epoch 37/100\n",
            "100/100 [==============================] - 20s 198ms/step - loss: 0.0079 - acc: 0.9970 - val_loss: 0.2956 - val_acc: 0.9310\n",
            "Epoch 38/100\n",
            "100/100 [==============================] - 20s 198ms/step - loss: 0.0047 - acc: 0.9980 - val_loss: 0.5202 - val_acc: 0.8980\n",
            "Epoch 39/100\n",
            "100/100 [==============================] - 20s 201ms/step - loss: 0.0070 - acc: 0.9975 - val_loss: 0.2978 - val_acc: 0.9320\n",
            "Epoch 40/100\n",
            "100/100 [==============================] - 20s 198ms/step - loss: 0.0070 - acc: 0.9980 - val_loss: 0.2735 - val_acc: 0.9330\n",
            "Epoch 41/100\n",
            "100/100 [==============================] - 20s 199ms/step - loss: 0.0051 - acc: 0.9990 - val_loss: 0.4668 - val_acc: 0.9080\n",
            "Epoch 42/100\n",
            "100/100 [==============================] - 20s 200ms/step - loss: 0.0049 - acc: 0.9985 - val_loss: 0.3275 - val_acc: 0.9260\n",
            "Epoch 43/100\n",
            "100/100 [==============================] - 20s 202ms/step - loss: 0.0043 - acc: 0.9980 - val_loss: 0.3206 - val_acc: 0.9300\n",
            "Epoch 44/100\n",
            "100/100 [==============================] - 20s 201ms/step - loss: 0.0033 - acc: 0.9990 - val_loss: 0.3202 - val_acc: 0.9310\n",
            "Epoch 45/100\n",
            "100/100 [==============================] - 20s 199ms/step - loss: 0.0092 - acc: 0.9970 - val_loss: 0.3309 - val_acc: 0.9340\n",
            "Epoch 46/100\n",
            "100/100 [==============================] - 20s 200ms/step - loss: 0.0068 - acc: 0.9980 - val_loss: 0.3081 - val_acc: 0.9310\n",
            "Epoch 47/100\n",
            "100/100 [==============================] - 20s 202ms/step - loss: 0.0037 - acc: 0.9990 - val_loss: 0.3937 - val_acc: 0.9190\n",
            "Epoch 48/100\n",
            "100/100 [==============================] - 20s 201ms/step - loss: 0.0100 - acc: 0.9965 - val_loss: 0.3386 - val_acc: 0.9330\n",
            "Epoch 49/100\n",
            "100/100 [==============================] - 20s 197ms/step - loss: 0.0048 - acc: 0.9975 - val_loss: 0.3156 - val_acc: 0.9350\n",
            "Epoch 50/100\n",
            "100/100 [==============================] - 20s 199ms/step - loss: 0.0099 - acc: 0.9975 - val_loss: 0.3469 - val_acc: 0.9260\n",
            "Epoch 51/100\n",
            "100/100 [==============================] - 20s 200ms/step - loss: 0.0100 - acc: 0.9960 - val_loss: 0.3227 - val_acc: 0.9290\n",
            "Epoch 52/100\n",
            "100/100 [==============================] - 20s 197ms/step - loss: 0.0022 - acc: 0.9995 - val_loss: 0.3416 - val_acc: 0.9290\n",
            "Epoch 53/100\n",
            "100/100 [==============================] - 20s 198ms/step - loss: 0.0064 - acc: 0.9980 - val_loss: 0.3591 - val_acc: 0.9280\n",
            "Epoch 54/100\n",
            "100/100 [==============================] - 20s 198ms/step - loss: 0.0018 - acc: 1.0000 - val_loss: 0.3378 - val_acc: 0.9300\n",
            "Epoch 55/100\n",
            "100/100 [==============================] - 20s 200ms/step - loss: 0.0026 - acc: 0.9990 - val_loss: 0.3432 - val_acc: 0.9290\n",
            "Epoch 56/100\n",
            "100/100 [==============================] - 20s 199ms/step - loss: 0.0049 - acc: 0.9980 - val_loss: 0.3138 - val_acc: 0.9400\n",
            "Epoch 57/100\n",
            "100/100 [==============================] - 20s 200ms/step - loss: 0.0158 - acc: 0.9955 - val_loss: 0.2991 - val_acc: 0.9310\n",
            "Epoch 58/100\n",
            "100/100 [==============================] - 20s 200ms/step - loss: 0.0098 - acc: 0.9980 - val_loss: 0.3231 - val_acc: 0.9270\n",
            "Epoch 59/100\n",
            "100/100 [==============================] - 20s 201ms/step - loss: 0.0030 - acc: 0.9990 - val_loss: 0.3419 - val_acc: 0.9260\n",
            "Epoch 60/100\n",
            "100/100 [==============================] - 20s 200ms/step - loss: 0.0054 - acc: 0.9980 - val_loss: 0.3225 - val_acc: 0.9340\n",
            "Epoch 61/100\n",
            "100/100 [==============================] - 20s 200ms/step - loss: 0.0055 - acc: 0.9975 - val_loss: 0.3562 - val_acc: 0.9230\n",
            "Epoch 62/100\n",
            "100/100 [==============================] - 20s 197ms/step - loss: 0.0072 - acc: 0.9965 - val_loss: 0.3416 - val_acc: 0.9350\n",
            "Epoch 63/100\n",
            "100/100 [==============================] - 20s 200ms/step - loss: 0.0031 - acc: 0.9990 - val_loss: 0.3470 - val_acc: 0.9310\n",
            "Epoch 64/100\n",
            "100/100 [==============================] - 20s 199ms/step - loss: 0.0078 - acc: 0.9975 - val_loss: 0.3472 - val_acc: 0.9370\n",
            "Epoch 65/100\n",
            "100/100 [==============================] - 22s 217ms/step - loss: 0.0027 - acc: 0.9995 - val_loss: 0.4449 - val_acc: 0.9180\n",
            "Epoch 66/100\n",
            "100/100 [==============================] - 21s 214ms/step - loss: 0.0021 - acc: 0.9990 - val_loss: 0.3375 - val_acc: 0.9380\n",
            "Epoch 67/100\n",
            "100/100 [==============================] - 21s 206ms/step - loss: 0.0037 - acc: 0.9990 - val_loss: 0.3300 - val_acc: 0.9380\n",
            "Epoch 68/100\n",
            "100/100 [==============================] - 20s 205ms/step - loss: 0.0032 - acc: 0.9990 - val_loss: 0.3472 - val_acc: 0.9350\n",
            "Epoch 69/100\n",
            "100/100 [==============================] - 20s 203ms/step - loss: 0.0023 - acc: 0.9995 - val_loss: 0.4378 - val_acc: 0.9220\n",
            "Epoch 70/100\n",
            "100/100 [==============================] - 21s 205ms/step - loss: 6.2991e-04 - acc: 1.0000 - val_loss: 0.3414 - val_acc: 0.9300\n",
            "Epoch 71/100\n",
            "100/100 [==============================] - 21s 211ms/step - loss: 0.0040 - acc: 0.9990 - val_loss: 0.3580 - val_acc: 0.9290\n",
            "Epoch 72/100\n",
            "100/100 [==============================] - 22s 217ms/step - loss: 0.0037 - acc: 0.9985 - val_loss: 0.3489 - val_acc: 0.9330\n",
            "Epoch 73/100\n",
            "100/100 [==============================] - 21s 215ms/step - loss: 0.0035 - acc: 0.9990 - val_loss: 0.3229 - val_acc: 0.9340\n",
            "Epoch 74/100\n",
            "100/100 [==============================] - 21s 206ms/step - loss: 0.0021 - acc: 0.9995 - val_loss: 0.3304 - val_acc: 0.9380\n",
            "Epoch 75/100\n",
            "100/100 [==============================] - 20s 204ms/step - loss: 0.0013 - acc: 0.9995 - val_loss: 0.3235 - val_acc: 0.9390\n",
            "Epoch 76/100\n",
            "100/100 [==============================] - 20s 201ms/step - loss: 0.0026 - acc: 0.9985 - val_loss: 0.4983 - val_acc: 0.9190\n",
            "Epoch 77/100\n",
            "100/100 [==============================] - 20s 202ms/step - loss: 0.0027 - acc: 0.9990 - val_loss: 0.3631 - val_acc: 0.9320\n",
            "Epoch 78/100\n",
            "100/100 [==============================] - 20s 203ms/step - loss: 0.0037 - acc: 0.9975 - val_loss: 0.3708 - val_acc: 0.9310\n",
            "Epoch 79/100\n",
            "100/100 [==============================] - 20s 203ms/step - loss: 0.0067 - acc: 0.9975 - val_loss: 0.3165 - val_acc: 0.9340\n",
            "Epoch 80/100\n",
            "100/100 [==============================] - 20s 203ms/step - loss: 0.0015 - acc: 1.0000 - val_loss: 0.3446 - val_acc: 0.9360\n",
            "Epoch 81/100\n",
            "100/100 [==============================] - 20s 205ms/step - loss: 0.0053 - acc: 0.9980 - val_loss: 0.4627 - val_acc: 0.9220\n",
            "Epoch 82/100\n",
            "100/100 [==============================] - 20s 202ms/step - loss: 0.0027 - acc: 0.9995 - val_loss: 0.3577 - val_acc: 0.9320\n",
            "Epoch 83/100\n",
            "100/100 [==============================] - 20s 204ms/step - loss: 9.7576e-04 - acc: 0.9995 - val_loss: 0.3467 - val_acc: 0.9360\n",
            "Epoch 84/100\n",
            "100/100 [==============================] - 20s 203ms/step - loss: 0.0011 - acc: 0.9995 - val_loss: 0.3833 - val_acc: 0.9370\n",
            "Epoch 85/100\n",
            "100/100 [==============================] - 20s 203ms/step - loss: 0.0034 - acc: 0.9985 - val_loss: 0.3230 - val_acc: 0.9330\n",
            "Epoch 86/100\n",
            "100/100 [==============================] - 20s 204ms/step - loss: 0.0027 - acc: 0.9990 - val_loss: 0.3303 - val_acc: 0.9360\n",
            "Epoch 87/100\n",
            "100/100 [==============================] - 20s 203ms/step - loss: 0.0011 - acc: 0.9995 - val_loss: 0.3696 - val_acc: 0.9280\n",
            "Epoch 88/100\n",
            "100/100 [==============================] - 20s 202ms/step - loss: 0.0057 - acc: 0.9990 - val_loss: 0.3765 - val_acc: 0.9300\n",
            "Epoch 89/100\n",
            "100/100 [==============================] - 20s 202ms/step - loss: 0.0023 - acc: 0.9985 - val_loss: 0.4116 - val_acc: 0.9280\n",
            "Epoch 90/100\n",
            "100/100 [==============================] - 21s 206ms/step - loss: 0.0019 - acc: 0.9985 - val_loss: 0.3853 - val_acc: 0.9360\n",
            "Epoch 91/100\n",
            "100/100 [==============================] - 21s 215ms/step - loss: 9.4416e-04 - acc: 1.0000 - val_loss: 0.3792 - val_acc: 0.9370\n",
            "Epoch 92/100\n",
            "100/100 [==============================] - 20s 204ms/step - loss: 0.0021 - acc: 0.9990 - val_loss: 0.3924 - val_acc: 0.9330\n",
            "Epoch 93/100\n",
            "100/100 [==============================] - 20s 201ms/step - loss: 5.5667e-04 - acc: 1.0000 - val_loss: 0.5876 - val_acc: 0.9230\n",
            "Epoch 94/100\n",
            "100/100 [==============================] - 20s 204ms/step - loss: 0.0016 - acc: 0.9995 - val_loss: 0.4089 - val_acc: 0.9330\n",
            "Epoch 95/100\n",
            "100/100 [==============================] - 20s 204ms/step - loss: 0.0018 - acc: 0.9995 - val_loss: 0.3787 - val_acc: 0.9340\n",
            "Epoch 96/100\n",
            "100/100 [==============================] - 21s 206ms/step - loss: 7.7885e-04 - acc: 1.0000 - val_loss: 0.4028 - val_acc: 0.9330\n",
            "Epoch 97/100\n",
            "100/100 [==============================] - 20s 204ms/step - loss: 0.0022 - acc: 0.9990 - val_loss: 0.4355 - val_acc: 0.9280\n",
            "Epoch 98/100\n",
            "100/100 [==============================] - 21s 207ms/step - loss: 0.0046 - acc: 0.9995 - val_loss: 0.3648 - val_acc: 0.9380\n",
            "Epoch 99/100\n",
            "100/100 [==============================] - 20s 203ms/step - loss: 0.0026 - acc: 0.9990 - val_loss: 0.3975 - val_acc: 0.9270\n",
            "Epoch 100/100\n",
            "100/100 [==============================] - 20s 204ms/step - loss: 0.0010 - acc: 1.0000 - val_loss: 0.3507 - val_acc: 0.9390\n"
          ],
          "name": "stdout"
        }
      ]
    },
    {
      "cell_type": "code",
      "metadata": {
        "id": "7F_67wAyhflW",
        "colab_type": "code",
        "colab": {}
      },
      "source": [
        "model.save(os.path.join(base_root_dir, 'cats_and_dogs_small_4.h5'))\n",
        "#model.save('cats_and_dogs_small_4.h5')"
      ],
      "execution_count": 0,
      "outputs": []
    },
    {
      "cell_type": "markdown",
      "metadata": {
        "id": "ZNCICrCChflZ",
        "colab_type": "text"
      },
      "source": [
        "### Accuracy & Loss"
      ]
    },
    {
      "cell_type": "code",
      "metadata": {
        "id": "py2OlAzPhflZ",
        "colab_type": "code",
        "colab": {
          "base_uri": "https://localhost:8080/",
          "height": 545
        },
        "outputId": "bac79012-d863-4e71-aa37-0f71d21b2979"
      },
      "source": [
        "acc = history.history['acc']\n",
        "val_acc = history.history['val_acc']\n",
        "loss = history.history['loss']\n",
        "val_loss = history.history['val_loss']\n",
        "\n",
        "epochs = range(len(acc))\n",
        "\n",
        "plt.plot(epochs, acc, 'r', label='Training acc')\n",
        "plt.plot(epochs, val_acc, 'b', label='Validation acc')\n",
        "plt.title('Training and validation accuracy')\n",
        "plt.legend()\n",
        "\n",
        "plt.figure()\n",
        "\n",
        "plt.plot(epochs, loss, 'r', label='Training loss')\n",
        "plt.plot(epochs, val_loss, 'b', label='Validation loss')\n",
        "plt.title('Training and validation loss')\n",
        "plt.legend()\n",
        "\n",
        "plt.show()"
      ],
      "execution_count": 27,
      "outputs": [
        {
          "output_type": "display_data",
          "data": {
            "image/png": "[encoded data removed]",
            "text/plain": [
              "<Figure size 432x288 with 1 Axes>"
            ]
          },
          "metadata": {
            "tags": []
          }
        },
        {
          "output_type": "display_data",
          "data": {
            "image/png": "[encoded data removed]",
            "text/plain": [
              "<Figure size 432x288 with 1 Axes>"
            ]
          },
          "metadata": {
            "tags": []
          }
        }
      ]
    },
    {
      "cell_type": "markdown",
      "metadata": {
        "id": "X97KmiSshflb",
        "colab_type": "text"
      },
      "source": [
        "그래프가 불규칙하게 보입니다. 그래프를 보기 쉽게하기 위해 지수 이동 평균으로 정확도와 손실 값을 부드럽게 표현할 수 있습니다. 다음은 지수 이동 평균을 구하기 위한 간단한 함수입니다:"
      ]
    },
    {
      "cell_type": "code",
      "metadata": {
        "id": "FNaIADpDhflb",
        "colab_type": "code",
        "colab": {
          "base_uri": "https://localhost:8080/",
          "height": 545
        },
        "outputId": "e64ff52b-444e-46a5-8ed6-a67891d6d5c3"
      },
      "source": [
        "def smooth_curve(points, factor=0.8):\n",
        "  smoothed_points = []\n",
        "  for point in points:\n",
        "    if smoothed_points:\n",
        "      previous = smoothed_points[-1]\n",
        "      smoothed_points.append(previous * factor + point * (1 - factor))\n",
        "    else:\n",
        "      smoothed_points.append(point)\n",
        "  return smoothed_points\n",
        "\n",
        "plt.plot(epochs,\n",
        "         smooth_curve(acc), 'r', label='Smoothed training acc')\n",
        "plt.plot(epochs,\n",
        "         smooth_curve(val_acc), 'b', label='Smoothed validation acc')\n",
        "plt.title('Training and validation accuracy')\n",
        "plt.legend()\n",
        "\n",
        "plt.figure()\n",
        "\n",
        "plt.plot(epochs,\n",
        "         smooth_curve(loss), 'r', label='Smoothed training loss')\n",
        "plt.plot(epochs,\n",
        "         smooth_curve(val_loss), 'b', label='Smoothed validation loss')\n",
        "plt.title('Training and validation loss')\n",
        "plt.legend()\n",
        "\n",
        "plt.show()"
      ],
      "execution_count": 26,
      "outputs": [
        {
          "output_type": "display_data",
          "data": {
            "image/png": "[encoded data removed]",
            "text/plain": [
              "<Figure size 432x288 with 1 Axes>"
            ]
          },
          "metadata": {
            "tags": []
          }
        },
        {
          "output_type": "display_data",
          "data": {
            "image/png": "[encoded data removed]",
            "text/plain": [
              "<Figure size 432x288 with 1 Axes>"
            ]
          },
          "metadata": {
            "tags": []
          }
        }
      ]
    },
    {
      "cell_type": "markdown",
      "metadata": {
        "id": "bMTOQ4Jxhfld",
        "colab_type": "text"
      },
      "source": [
        "\n",
        "### 테스트 데이터에서 모델을 평가"
      ]
    },
    {
      "cell_type": "code",
      "metadata": {
        "id": "dsgMetS8hfle",
        "colab_type": "code",
        "colab": {
          "base_uri": "https://localhost:8080/",
          "height": 53
        },
        "outputId": "b881de06-06e0-4e44-a2c4-bbab2b749ad5"
      },
      "source": [
        "test_generator = test_datagen.flow_from_directory(\n",
        "        test_dir,\n",
        "        target_size=(150, 150),\n",
        "        batch_size=20,\n",
        "        class_mode='binary')\n",
        "\n",
        "test_loss, test_acc = model.evaluate_generator(test_generator, steps=50)\n",
        "print('test acc:', test_acc)"
      ],
      "execution_count": 25,
      "outputs": [
        {
          "output_type": "stream",
          "text": [
            "Found 1000 images belonging to 2 classes.\n",
            "test acc: 0.9349999928474426\n"
          ],
          "name": "stdout"
        }
      ]
    },
    {
      "cell_type": "markdown",
      "metadata": {
        "id": "puNno7mLhflh",
        "colab_type": "text"
      },
      "source": [
        "92%의 테스트 정확도를 얻을 것입니다. 훈련 데이터의 일부분(약 10% - 2,000개의 샘플)만을 사용해서 이런 결과를 달성했습니다. "
      ]
    }
  ]
}