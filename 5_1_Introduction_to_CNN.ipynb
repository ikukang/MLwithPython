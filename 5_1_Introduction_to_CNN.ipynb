{
  "nbformat": 4,
  "nbformat_minor": 0,
  "metadata": {
    "colab": {
      "name": "5.1-Introduction to CNN",
      "provenance": [],
      "collapsed_sections": [],
      "authorship_tag": "ABX9TyMcnKCEwtrn8dKLRF3a+iAa",
      "include_colab_link": true
    },
    "kernelspec": {
      "name": "python3",
      "display_name": "Python 3"
    },
    "accelerator": "GPU"
  },
  "cells": [
    {
      "cell_type": "markdown",
      "metadata": {
        "id": "view-in-github",
        "colab_type": "text"
      },
      "source": [
        "<a href=\"https://colab.research.google.com/github/ikukang/MLwithPython/blob/master/5_1_Introduction_to_CNN.ipynb\" target=\"_parent\"><img src=\"https://colab.research.google.com/assets/colab-badge.svg\" alt=\"Open In Colab\"/></a>"
      ]
    },
    {
      "cell_type": "code",
      "metadata": {
        "id": "dLC6SGnRAk05",
        "colab_type": "code",
        "colab": {}
      },
      "source": [
        "# 사용 상의 편의를 위한 Initial Setting \n",
        "\n",
        "# 실행결과를 한 창에 표시\n",
        "from IPython.core.interactiveshell import InteractiveShell\n",
        "InteractiveShell.ast_node_interactivity = \"all\"\n",
        "\n",
        "# numpy 소숫점 setting\n",
        "import numpy as np\n",
        "np.set_printoptions(precision=7)\n",
        "\n",
        "# pandas이용하여 grid display\n",
        "import numpy as np\n",
        "import pandas as pd\n",
        "pd.set_option('display.max_rows', None)          # 최대 표시 줄 수 제한 해제\n",
        "pd.set_option('display.max_columns', None)       # 최대 표시 컬럼 수 제한 해제\n",
        "pd.set_option('display.max_colwidth', -1)        # 컬럼내 데이터 표시 제한 해제\n",
        "\n",
        "# Warning Message hide\n",
        "import warnings\n",
        "warnings.filterwarnings('ignore')"
      ],
      "execution_count": 0,
      "outputs": []
    },
    {
      "cell_type": "code",
      "metadata": {
        "id": "fH4zcrSCA4qL",
        "colab_type": "code",
        "outputId": "5eaefc3f-57b6-4919-d592-e00a6e72de64",
        "colab": {
          "base_uri": "https://localhost:8080/",
          "height": 35
        }
      },
      "source": [
        "import keras\n",
        "keras.__version__"
      ],
      "execution_count": 0,
      "outputs": [
        {
          "output_type": "execute_result",
          "data": {
            "text/plain": [
              "'2.2.5'"
            ]
          },
          "metadata": {
            "tags": []
          },
          "execution_count": 16
        }
      ]
    },
    {
      "cell_type": "code",
      "metadata": {
        "id": "-gkYDTqOBFZs",
        "colab_type": "code",
        "colab": {}
      },
      "source": [
        "from keras import layers\n",
        "from keras import models\n",
        "\n",
        "# 선형으로 쌓는 Sequential 모델을 이용\n",
        "model = models.Sequential()\n",
        "\n",
        "model.add(layers.Conv2D(32, (3, 3), activation='relu', input_shape=(28, 28, 1)))\n",
        "# 입력 parameter는 28*28*1 의 MNIST 손글씨 숫자 행렬이고, Channel이 32인 3*3 필터를 통해  CNN 연산을 수행\n",
        "# OH:Output Height, H:Height, W:Width, P:Padding, FH:Filter Height FW:Filter Width, S:Stride 일때,\n",
        "#  OH = (H + 2P - FH) / S + 1 = (28 + 2*0 - 3) / 1 + 1 = 26 이 됨 (즉, Output Height = 26)\n",
        "#  OW = (W + 2P - FW) / S + 1 = (28 + 2*0 - 3) / 1 + 1 = 26 이 됨 (즉, Output Width = 26)\n",
        "# Channel = 32 이므로, Output Shape은 (26, 26, 32)\n",
        "#  그러므로 paramter갯수는 1 * (3*3*32) + 32 = 320\n",
        "\n",
        "model.add(layers.MaxPooling2D((2, 2)))\n",
        "# 2*2 필터를 이용하여 MaxPooling 수행 (학습해야 할 Parameter가 없고, 채널 수가 변하지 않음)\n",
        "# 2*2 필터를 사용했으므로, OH, OW는 1/2로 축소 됨\n",
        "\n",
        "model.add(layers.Conv2D(64, (3, 3), activation='relu'))\n",
        "# 입력 parameter는 13*13*32 이고, Channel이 64인 3*3 필터를 통해  CNN 연산을 수행 (MaxPooling으로 OH, OW 축소)\n",
        "# OH:Output Height, H:Height, W:Width, P:Padding, FH:Filter Height FW:Filter Width, S:Stride 일때,\n",
        "#  OH = (H + 2P - FH) / S + 1 = (13 + 2*0 - 3) / 1 + 1 = 11 이 됨 (즉, Output Height = 11)\n",
        "#  OW = (W + 2P - FW) / S + 1 = (13 + 2*0 - 3) / 1 + 1 = 11 이 됨 (즉, Output Width = 11)\n",
        "# Channel = 64 이므로, Output Shape은 (11, 11, 64)\n",
        "#  그러므로 paramter갯수는 32 * (3*3*64) + 64 = 18496\n",
        "\n",
        "model.add(layers.MaxPooling2D((2, 2)))\n",
        "# 2*2 필터를 이용하여 MaxPooling 수행 (학습해야 할 Parameter가 없고, 채널 수가 변하지 않음)\n",
        "# 2*2 필터를 사용했으므로, OH, OW는 1/2로 축소 됨\n",
        "\n",
        "model.add(layers.Conv2D(64, (3, 3), activation='relu')) \n",
        "# 입력 parameter는 5*5*64 이고, Channel이 64인 3*3 필터를 통해  CNN 연산을 수행 (MaxPooling으로 OH, OW 축소)\n",
        "# OH:Output Height, H:Height, W:Width, P:Padding, FH:Filter Height FW:Filter Width, S:Stride 일때,\n",
        "#  OH = (H + 2P - FH) / S + 1 = (5 + 2*0 - 3) / 1 + 1 = 3 이 됨 (즉, Output Height = 3)\n",
        "#  OW = (W + 2P - FW) / S + 1 = (5 + 2*0 - 3) / 1 + 1 = 3 이 됨 (즉, Output Width = 3)\n",
        "# Channel = 64 이므로, Output Shape은 (3, 3, 64)\n",
        "#  그러므로 paramter갯수는 64 * (3*3*64) + 64 = 36928"
      ],
      "execution_count": 0,
      "outputs": []
    },
    {
      "cell_type": "code",
      "metadata": {
        "id": "SfESsY06a1Iq",
        "colab_type": "code",
        "colab": {}
      },
      "source": [
        "\n",
        "model.add(layers.Flatten())\n",
        "# Fully Connected Network(Dense Network, 완전연결층)에 주입하기 위해 Flatten 작업\n",
        "# 출력층(3*3*64)  -> 576 으로 Flatten 하고, parameter 갯수는 변경 없음\n",
        "\n",
        "model.add(layers.Dense(64, activation='relu'))\n",
        "# Fully Connected Network에 주입\n",
        "# Dense Network 이므로, Parameter의 갯수는 576 * 64 + 64 = 36928\n",
        "\n",
        "model.add(layers.Dense(10, activation='softmax'))\n",
        "# 확률 계산을 위해 활성화 함수는 'softmax'를 이용, Fully Connected Network에 주입\n",
        "# Dense Network 이므로, Parameter의 갯수는 64 * 10 + 10 = 650\n",
        "\n",
        "# 총 Parameter의 갯수\n",
        "# : 320 + 18,496 + 36,928 + 36,928 + 650 = 93,322"
      ],
      "execution_count": 0,
      "outputs": []
    },
    {
      "cell_type": "code",
      "metadata": {
        "id": "I6FVutbYOIHD",
        "colab_type": "code",
        "outputId": "f0026038-a3c2-40a1-b267-81e70396a389",
        "colab": {
          "base_uri": "https://localhost:8080/",
          "height": 449
        }
      },
      "source": [
        "model.summary()"
      ],
      "execution_count": 0,
      "outputs": [
        {
          "output_type": "stream",
          "text": [
            "Model: \"sequential_2\"\n",
            "_________________________________________________________________\n",
            "Layer (type)                 Output Shape              Param #   \n",
            "=================================================================\n",
            "conv2d_4 (Conv2D)            (None, 26, 26, 32)        320       \n",
            "_________________________________________________________________\n",
            "max_pooling2d_3 (MaxPooling2 (None, 13, 13, 32)        0         \n",
            "_________________________________________________________________\n",
            "conv2d_5 (Conv2D)            (None, 11, 11, 64)        18496     \n",
            "_________________________________________________________________\n",
            "max_pooling2d_4 (MaxPooling2 (None, 5, 5, 64)          0         \n",
            "_________________________________________________________________\n",
            "conv2d_6 (Conv2D)            (None, 3, 3, 64)          36928     \n",
            "_________________________________________________________________\n",
            "flatten_2 (Flatten)          (None, 576)               0         \n",
            "_________________________________________________________________\n",
            "dense_3 (Dense)              (None, 64)                36928     \n",
            "_________________________________________________________________\n",
            "dense_4 (Dense)              (None, 10)                650       \n",
            "=================================================================\n",
            "Total params: 93,322\n",
            "Trainable params: 93,322\n",
            "Non-trainable params: 0\n",
            "_________________________________________________________________\n"
          ],
          "name": "stdout"
        }
      ]
    },
    {
      "cell_type": "code",
      "metadata": {
        "id": "5WWDIFNIQdiN",
        "colab_type": "code",
        "outputId": "0ba4babe-0c8e-41bb-8008-bf10eb7cb3ca",
        "colab": {
          "base_uri": "https://localhost:8080/",
          "height": 89
        }
      },
      "source": [
        "from keras.datasets import mnist\n",
        "from keras.utils import to_categorical\n",
        "\n",
        "(train_images, train_label), (test_images, test_label) = mnist.load_data()\n",
        "\n",
        "train_images = train_images.reshape((60000, 28, 28, 1))\n",
        "train_images = train_images.astype('float32')/255\n",
        "test_images = test_images.reshape((10000, 28, 28, 1))\n",
        "test_images = test_images.astype('float32')/255\n",
        "\n",
        "print(train_images.shape)\n",
        "print(train_label.shape)\n",
        "print(test_images.shape)\n",
        "print(test_label.shape)"
      ],
      "execution_count": 0,
      "outputs": [
        {
          "output_type": "stream",
          "text": [
            "(60000, 28, 28, 1)\n",
            "(60000,)\n",
            "(10000, 28, 28, 1)\n",
            "(10000,)\n"
          ],
          "name": "stdout"
        }
      ]
    },
    {
      "cell_type": "code",
      "metadata": {
        "id": "iD5w_OrZirjh",
        "colab_type": "code",
        "outputId": "0eded029-893c-4b92-9436-eb5d73c78b2d",
        "colab": {
          "base_uri": "https://localhost:8080/",
          "height": 89
        }
      },
      "source": [
        "val_images = train_images[:10000]\n",
        "partial_train_images = train_images[10000:]\n",
        "val_label = train_label[:10000]\n",
        "partial_train_label = train_label[10000:]\n",
        "\n",
        "print(val_images.shape)\n",
        "print(partial_train_images.shape)\n",
        "print(val_label.shape)\n",
        "print(partial_train_label.shape)"
      ],
      "execution_count": 0,
      "outputs": [
        {
          "output_type": "stream",
          "text": [
            "(10000, 28, 28, 1)\n",
            "(50000, 28, 28, 1)\n",
            "(10000,)\n",
            "(50000,)\n"
          ],
          "name": "stdout"
        }
      ]
    },
    {
      "cell_type": "code",
      "metadata": {
        "id": "Sufachyueanb",
        "colab_type": "code",
        "outputId": "b8475549-14e1-4aae-c393-cd75ff888fd8",
        "colab": {
          "base_uri": "https://localhost:8080/",
          "height": 395
        }
      },
      "source": [
        "model.compile(optimizer='rmsprop', loss='sparse_categorical_crossentropy', metrics=['acc'])\n",
        "history = model.fit(partial_train_images, partial_train_label, batch_size=512, epochs=10, \n",
        "                    validation_data=(val_images, val_label))"
      ],
      "execution_count": 0,
      "outputs": [
        {
          "output_type": "stream",
          "text": [
            "Train on 50000 samples, validate on 10000 samples\n",
            "Epoch 1/10\n",
            "50000/50000 [==============================] - 2s 31us/step - loss: 0.5885 - acc: 0.8131 - val_loss: 0.2055 - val_acc: 0.9395\n",
            "Epoch 2/10\n",
            "50000/50000 [==============================] - 1s 24us/step - loss: 0.1396 - acc: 0.9578 - val_loss: 0.0990 - val_acc: 0.9724\n",
            "Epoch 3/10\n",
            "50000/50000 [==============================] - 1s 24us/step - loss: 0.0816 - acc: 0.9749 - val_loss: 0.0732 - val_acc: 0.9778\n",
            "Epoch 4/10\n",
            "50000/50000 [==============================] - 1s 24us/step - loss: 0.0570 - acc: 0.9818 - val_loss: 0.1005 - val_acc: 0.9687\n",
            "Epoch 5/10\n",
            "50000/50000 [==============================] - 1s 24us/step - loss: 0.0455 - acc: 0.9856 - val_loss: 0.0503 - val_acc: 0.9848\n",
            "Epoch 6/10\n",
            "50000/50000 [==============================] - 1s 24us/step - loss: 0.0366 - acc: 0.9884 - val_loss: 0.0540 - val_acc: 0.9844\n",
            "Epoch 7/10\n",
            "50000/50000 [==============================] - 1s 24us/step - loss: 0.0302 - acc: 0.9905 - val_loss: 0.0406 - val_acc: 0.9877\n",
            "Epoch 8/10\n",
            "50000/50000 [==============================] - 1s 25us/step - loss: 0.0245 - acc: 0.9922 - val_loss: 0.0447 - val_acc: 0.9874\n",
            "Epoch 9/10\n",
            "50000/50000 [==============================] - 1s 25us/step - loss: 0.0205 - acc: 0.9936 - val_loss: 0.0465 - val_acc: 0.9871\n",
            "Epoch 10/10\n",
            "50000/50000 [==============================] - 1s 24us/step - loss: 0.0179 - acc: 0.9941 - val_loss: 0.0403 - val_acc: 0.9892\n"
          ],
          "name": "stdout"
        }
      ]
    },
    {
      "cell_type": "code",
      "metadata": {
        "id": "ExLFQmZvkEM1",
        "colab_type": "code",
        "outputId": "e3bc5930-0985-4983-84a7-e782777bcf83",
        "colab": {
          "base_uri": "https://localhost:8080/",
          "height": 35
        }
      },
      "source": [
        "history_dict = history.history\n",
        "history_dict.keys()"
      ],
      "execution_count": 0,
      "outputs": [
        {
          "output_type": "execute_result",
          "data": {
            "text/plain": [
              "dict_keys(['val_loss', 'val_acc', 'loss', 'acc'])"
            ]
          },
          "metadata": {
            "tags": []
          },
          "execution_count": 23
        }
      ]
    },
    {
      "cell_type": "code",
      "metadata": {
        "id": "tXIjav8NkZ6q",
        "colab_type": "code",
        "outputId": "aa56b26c-c5e5-49c3-9981-ccdb5e38bb98",
        "colab": {
          "base_uri": "https://localhost:8080/",
          "height": 313
        }
      },
      "source": [
        "# Training & Validation Loss Graph\n",
        "import matplotlib.pyplot as plt\n",
        "\n",
        "plt.clf()   # 그래프 초기화\n",
        "\n",
        "acc = history.history['acc']\n",
        "val_acc = history.history['val_acc']\n",
        "loss = history.history['loss']\n",
        "val_loss = history.history['val_loss']\n",
        "\n",
        "epochs = range(1, len(acc) + 1)\n",
        "\n",
        "plt.plot(epochs, loss, 'r', label='Training loss')\n",
        "plt.plot(epochs, val_loss, 'b', label='Validation loss')\n",
        "\n",
        "plt.title('Training and validation loss')\n",
        "plt.xlabel('Epochs')\n",
        "plt.ylabel('Loss')\n",
        "plt.legend()\n",
        "\n",
        "plt.show()"
      ],
      "execution_count": 0,
      "outputs": [
        {
          "output_type": "execute_result",
          "data": {
            "text/plain": [
              "[<matplotlib.lines.Line2D at 0x7f6c85a92710>]"
            ]
          },
          "metadata": {
            "tags": []
          },
          "execution_count": 24
        },
        {
          "output_type": "execute_result",
          "data": {
            "text/plain": [
              "[<matplotlib.lines.Line2D at 0x7f6c85af06d8>]"
            ]
          },
          "metadata": {
            "tags": []
          },
          "execution_count": 24
        },
        {
          "output_type": "execute_result",
          "data": {
            "text/plain": [
              "Text(0.5, 1.0, 'Training and validation loss')"
            ]
          },
          "metadata": {
            "tags": []
          },
          "execution_count": 24
        },
        {
          "output_type": "execute_result",
          "data": {
            "text/plain": [
              "Text(0.5, 0, 'Epochs')"
            ]
          },
          "metadata": {
            "tags": []
          },
          "execution_count": 24
        },
        {
          "output_type": "execute_result",
          "data": {
            "text/plain": [
              "Text(0, 0.5, 'Loss')"
            ]
          },
          "metadata": {
            "tags": []
          },
          "execution_count": 24
        },
        {
          "output_type": "execute_result",
          "data": {
            "text/plain": [
              "<matplotlib.legend.Legend at 0x7f6c85a80278>"
            ]
          },
          "metadata": {
            "tags": []
          },
          "execution_count": 24
        },
        {
          "output_type": "display_data",
          "data": {
            "image/png": "[encoded data removed]",
            "text/plain": [
              "<Figure size 432x288 with 1 Axes>"
            ]
          },
          "metadata": {
            "tags": []
          }
        }
      ]
    },
    {
      "cell_type": "code",
      "metadata": {
        "id": "1uuF1APWkjQ6",
        "colab_type": "code",
        "outputId": "da4f5be2-3c14-46a9-e6d8-2165ecec6114",
        "colab": {
          "base_uri": "https://localhost:8080/",
          "height": 313
        }
      },
      "source": [
        "# Training & Validation Accuracy Graph\n",
        "plt.clf()   # 그래프 초기화\n",
        "\n",
        "acc = history_dict['acc']\n",
        "val_acc = history_dict['val_acc']\n",
        "\n",
        "plt.plot(epochs, acc, 'r', label='Training acc')\n",
        "plt.plot(epochs, val_acc, 'b', label='Validation acc')\n",
        "plt.title('Training and validation accuracy')\n",
        "plt.xlabel('Epochs')\n",
        "plt.ylabel('Accuracy')\n",
        "plt.legend()\n",
        "\n",
        "plt.show()"
      ],
      "execution_count": 0,
      "outputs": [
        {
          "output_type": "execute_result",
          "data": {
            "text/plain": [
              "[<matplotlib.lines.Line2D at 0x7f6c859fac88>]"
            ]
          },
          "metadata": {
            "tags": []
          },
          "execution_count": 25
        },
        {
          "output_type": "execute_result",
          "data": {
            "text/plain": [
              "[<matplotlib.lines.Line2D at 0x7f6c8c064630>]"
            ]
          },
          "metadata": {
            "tags": []
          },
          "execution_count": 25
        },
        {
          "output_type": "execute_result",
          "data": {
            "text/plain": [
              "Text(0.5, 1.0, 'Training and validation accuracy')"
            ]
          },
          "metadata": {
            "tags": []
          },
          "execution_count": 25
        },
        {
          "output_type": "execute_result",
          "data": {
            "text/plain": [
              "Text(0.5, 0, 'Epochs')"
            ]
          },
          "metadata": {
            "tags": []
          },
          "execution_count": 25
        },
        {
          "output_type": "execute_result",
          "data": {
            "text/plain": [
              "Text(0, 0.5, 'Accuracy')"
            ]
          },
          "metadata": {
            "tags": []
          },
          "execution_count": 25
        },
        {
          "output_type": "execute_result",
          "data": {
            "text/plain": [
              "<matplotlib.legend.Legend at 0x7f6c85a3f7b8>"
            ]
          },
          "metadata": {
            "tags": []
          },
          "execution_count": 25
        },
        {
          "output_type": "display_data",
          "data": {
            "image/png": "[encoded data removed]",
            "text/plain": [
              "<Figure size 432x288 with 1 Axes>"
            ]
          },
          "metadata": {
            "tags": []
          }
        }
      ]
    },
    {
      "cell_type": "code",
      "metadata": {
        "id": "bNehW2P8fJc5",
        "colab_type": "code",
        "colab": {}
      },
      "source": [
        "model.save('mnist_cnn.h5') "
      ],
      "execution_count": 0,
      "outputs": []
    },
    {
      "cell_type": "code",
      "metadata": {
        "id": "A6OLRc2jf2C1",
        "colab_type": "code",
        "outputId": "0a215b01-6cb9-4403-c977-df8e9838f107",
        "colab": {
          "base_uri": "https://localhost:8080/",
          "height": 35
        }
      },
      "source": [
        "test_loss, test_accuracy = model.evaluate(test_images, test_label)"
      ],
      "execution_count": 0,
      "outputs": [
        {
          "output_type": "stream",
          "text": [
            "10000/10000 [==============================] - 1s 55us/step\n"
          ],
          "name": "stdout"
        }
      ]
    },
    {
      "cell_type": "code",
      "metadata": {
        "id": "9IkepAgtf96-",
        "colab_type": "code",
        "outputId": "11238722-4979-42f0-8366-ef0f4c277556",
        "colab": {
          "base_uri": "https://localhost:8080/",
          "height": 71
        }
      },
      "source": [
        "test_accuracy\n",
        "print('\\n')\n",
        "test_loss"
      ],
      "execution_count": 0,
      "outputs": [
        {
          "output_type": "execute_result",
          "data": {
            "text/plain": [
              "0.9905"
            ]
          },
          "metadata": {
            "tags": []
          },
          "execution_count": 28
        },
        {
          "output_type": "stream",
          "text": [
            "\n",
            "\n"
          ],
          "name": "stdout"
        },
        {
          "output_type": "execute_result",
          "data": {
            "text/plain": [
              "0.027961876029921406"
            ]
          },
          "metadata": {
            "tags": []
          },
          "execution_count": 28
        }
      ]
    },
    {
      "cell_type": "code",
      "metadata": {
        "id": "6nSRJKNrlH8c",
        "colab_type": "code",
        "colab": {}
      },
      "source": [
        ""
      ],
      "execution_count": 0,
      "outputs": []
    }
  ]
}